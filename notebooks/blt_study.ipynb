{
 "cells": [
  {
   "cell_type": "code",
   "execution_count": 64,
   "id": "configured-occasion",
   "metadata": {},
   "outputs": [],
   "source": [
    "import sys\n",
    "import os\n",
    "sys.path.append(os.path.dirname(os.path.abspath(os.path.dirname('__file__'))))\n",
    "\n",
    "import numpy as np\n",
    "import pandas as pd\n",
    "import random\n",
    "\n",
    "import networkx as nx\n",
    "import jReversion as jR\n",
    "from LDOI import BooleanDOI_processing as BDOIp"
   ]
  },
  {
   "cell_type": "code",
   "execution_count": 65,
   "id": "outside-allen",
   "metadata": {},
   "outputs": [],
   "source": [
    "BooleanRuleFileName = '../models/blt.txt'\n",
    "NetworkName = 'blt'\n",
    "Prefix, Suffix = 'n', 'n'\n",
    "TempI = jR.initialize(BooleanRuleFileName, Prefix, Suffix)\n",
    "Mapping = TempI['mapping']\n",
    "InverseMapping = TempI['inverse_mapping']\n",
    "GRead = TempI['Gread']\n",
    "ReadNodes = TempI['read_nodes']\n",
    "\n"
   ]
  },
  {
   "cell_type": "code",
   "execution_count": 141,
   "id": "optional-combining",
   "metadata": {},
   "outputs": [],
   "source": [
    "input_nodes = [node for node in GRead.nodes if GRead.in_degree(node) == 0]\n",
    "output_nodes = [node for node in GRead.nodes if GRead.out_degree(node) == 0]\n",
    "\n",
    "num_inputs = len(input_nodes)\n",
    "num_input_conditions = 2 ** num_inputs\n",
    "InputConditions = np.ndarray((num_inputs, 2), dtype=object)\n",
    "for idx, input_node in enumerate(input_nodes):\n",
    "    InputConditions[idx, 0] = '~' + ReadNodes[input_node]\n",
    "    InputConditions[idx, 1] = ReadNodes[input_node]\n",
    "\n",
    "\n",
    "OutputNodes = []\n",
    "OutputNodes.extend([ReadNodes[idx] for idx in output_nodes])\n",
    "OutputNodes.extend(['~'+ReadNodes[idx] for idx in output_nodes])\n",
    "InputNodes = InputConditions.reshape(num_inputs * 2, ).tolist()"
   ]
  },
  {
   "cell_type": "code",
   "execution_count": 138,
   "id": "ultimate-execution",
   "metadata": {},
   "outputs": [],
   "source": [
    "# InputConditions = np.ndarray((1,2), dtype=object)\n",
    "# InputConditions[0,0] = '~Estrogen'\n",
    "# InputConditions[0,1] = 'Estrogen'\n",
    "# InputNodes = InputConditions.reshape(1 * 2, ).tolist()"
   ]
  },
  {
   "cell_type": "code",
   "execution_count": 155,
   "id": "satisfied-exhaust",
   "metadata": {},
   "outputs": [],
   "source": [
    "GExpanded = BDOIp.Get_expanded_network(GRead, prefix=Prefix, suffix=Suffix)"
   ]
  },
  {
   "cell_type": "code",
   "execution_count": 184,
   "id": "guilty-setup",
   "metadata": {},
   "outputs": [],
   "source": [
    "OutputNodes = ['KRT18', '~KRT18', 'C6orf97', '~C6orf97', 'CA12', '~CA12', 'ESR1', '~ESR1']"
   ]
  },
  {
   "cell_type": "code",
   "execution_count": 185,
   "id": "compliant-graham",
   "metadata": {},
   "outputs": [],
   "source": [
    "# integrated_data = pd.read_csv('../data/' + network_name + '_table_for_original_network.tsv', sep='\\t').sort_values(by='node').set_index('node')\n",
    "# table_original_network = table_original_network.sort_values(by='node')\n",
    "# ffl_test = pd.read_csv('../data/' + network_name + '_ffl_test.tsv', sep='\\t').sort_values(by='node').set_index('node')\n",
    "# canalizing_test = pd.read_csv('../data/' + network_name + '_canalizing_check_for_original_network.tsv', sep='\\t').sort_values(by='node').set_index('node')\n",
    "\n",
    "TempGIOW = jR.get_input_output_relation(GExpanded, Mapping, InverseMapping, InputConditions, OutputNodes,\n",
    "                                            constant_nodes=[])\n",
    "LDOIs = TempGIOW['LDOIs']\n",
    "GeneLDOIs = TempGIOW['gene_LDOIs']\n",
    "Conflicts = TempGIOW['conflicts']\n",
    "GeneConflicts = TempGIOW['gene_conflicts']\n",
    "IORelation = TempGIOW['io_relation']\n",
    "GRemained = TempGIOW['G_remained']\n",
    "\n",
    "R0 = jR.identifying_r0_mutations_ldoi(GExpanded, OutputNodes, Mapping, InverseMapping, InputConditions, IORelation)\n",
    "# DM = jR.identifying_disconnecting_mutations(GExpanded, InputNodes, OutputNodes, Mapping, InverseMapping)\n",
    "R1 = jR.identifying_r1_mutations_ldoi(GExpanded, OutputNodes, Mapping, InverseMapping, InputConditions, IORelation)\n",
    "#     IIDC = jR.identifying_input_independent_canalizing_mutations(GExpanded, OutputNodes, Mapping, InverseMapping)\n",
    "#     UN = jR.identifying_input_unreachable_nodes(GExpanded, OutputNodes, Mapping, InverseMapping, InputConditions)\n",
    "RN = jR.identifying_rn_mutations(GExpanded, Mapping, InverseMapping, InputNodes, OutputNodes, InputConditions,\n",
    "                                 IORelation,\n",
    "                                 R0['ineffective_mutations'], R1['r1_mutations'])\n",
    "\n",
    "NodeList = set(ReadNodes.values())\n",
    "NodeList.difference_update(InputNodes)\n",
    "NodeList.difference_update(OutputNodes)\n",
    "C0, C1, C2, C3 = [], [], [], []\n",
    "\n",
    "node_classificatin_dict = {}\n",
    "\n",
    "for NODE in NodeList:\n",
    "    negNODE = '~' + NODE\n",
    "    if R0['ineffective'][NODE] and R0['ineffective'][negNODE]:\n",
    "#             nodeClass = 'C0'\n",
    "        node_classificatin_dict[NODE] = 'C0'\n",
    "    elif NODE in RN['rn_mutations']:\n",
    "        if RN['rn_mutations'][NODE] == 'R1':\n",
    "#                 nodeClass = 'C1'\n",
    "            node_classificatin_dict[NODE] = 'C1'\n",
    "#                 canalizing = IIDC['iid_canalizing'][NODE]\n",
    "#                 unreachable = UN['input_unreachable'][NODE]\n",
    "        else:\n",
    "#                 nodeClass = 'C2'\n",
    "            node_classificatin_dict[NODE] = 'C2'\n",
    "#                 canalizing = IIDC['iid_canalizing'][NODE]\n",
    "#                 unreachable = UN['input_unreachable'][NODE]\n",
    "    elif negNODE in RN['rn_mutations']:\n",
    "        if RN['rn_mutations'][negNODE] == 'R1':\n",
    "#                 nodeClass = 'C1'\n",
    "            node_classificatin_dict[NODE] = 'C1'\n",
    "#                 canalizing = IIDC['iid_canalizing'][NODE]\n",
    "#                 unreachable = UN['input_unreachable'][NODE]\n",
    "    else:\n",
    "#             nodeClass = 'C3'\n",
    "        node_classificatin_dict[NODE] = 'C3'\n",
    "#             canalizing = IIDC['iid_canalizing'][NODE]\n",
    "#             unreachable = UN['input_unreachable'][NODE]"
   ]
  },
  {
   "cell_type": "code",
   "execution_count": 186,
   "id": "opposite-booking",
   "metadata": {},
   "outputs": [
    {
     "name": "stdout",
     "output_type": "stream",
     "text": [
      "C1\n",
      "C1\n"
     ]
    }
   ],
   "source": [
    "print(node_classificatin_dict['HDAC2'])\n",
    "print(node_classificatin_dict['BCL11A'])"
   ]
  },
  {
   "cell_type": "code",
   "execution_count": 190,
   "id": "continued-examination",
   "metadata": {},
   "outputs": [
    {
     "data": {
      "text/plain": [
       "{'c_Src': 'C0',\n",
       " 'FOXA1': 'C0',\n",
       " 'HDAC2': 'C1',\n",
       " 'C4orf7': 'C0',\n",
       " 'ANXA9': 'C0',\n",
       " 'GATA3': 'C0',\n",
       " 'CDCA7': 'C0',\n",
       " 'BCL11A': 'C1',\n",
       " 'KRAS': 'C0',\n",
       " 'EGFR': 'C0',\n",
       " 'MSLN': 'C0',\n",
       " 'ZEB1': 'C0',\n",
       " 'CDH1': 'C0',\n",
       " 'PI3K': 'C0',\n",
       " 'STAT5': 'C0',\n",
       " 'SOX11': 'C0',\n",
       " 'ERK1_2': 'C0',\n",
       " 'CCNE1': 'C1',\n",
       " 'SNAI1': 'C0',\n",
       " 'FOXC1': 'C1',\n",
       " 'ER': 'C1',\n",
       " 'PTEN': 'C0',\n",
       " 'AKT': 'C0',\n",
       " 'SLUG': 'C0'}"
      ]
     },
     "execution_count": 190,
     "metadata": {},
     "output_type": "execute_result"
    }
   ],
   "source": [
    "node_classificatin_dict"
   ]
  },
  {
   "cell_type": "code",
   "execution_count": 189,
   "id": "based-shelf",
   "metadata": {},
   "outputs": [
    {
     "data": {
      "text/plain": [
       "array([[list([]), list([]), list([]), list([])]], dtype=object)"
      ]
     },
     "execution_count": 189,
     "metadata": {},
     "output_type": "execute_result"
    }
   ],
   "source": [
    "IORelation"
   ]
  },
  {
   "cell_type": "code",
   "execution_count": 191,
   "id": "blond-arnold",
   "metadata": {},
   "outputs": [],
   "source": [
    "GLabel = nx.DiGraph()\n",
    "GLabel.add_edges_from(GRead.edges())\n",
    "GLabel = nx.relabel_nodes(GLabel, ReadNodes)\n",
    "\n",
    "nx.set_node_attributes(G=GLabel, name='class', values=node_classificatin_dict)\n",
    "path = '../networks/' + NetworkName + '_topology.gml'\n",
    "with open(path, 'wb') as f:\n",
    "    nx.write_gml(G=GLabel, path=f)"
   ]
  },
  {
   "cell_type": "code",
   "execution_count": 70,
   "id": "positive-vacation",
   "metadata": {},
   "outputs": [
    {
     "name": "stdout",
     "output_type": "stream",
     "text": [
      "[[list([]) list([]) list([]) list([])]]\n"
     ]
    }
   ],
   "source": [
    "tt = jR.get_input_output_relation(GExpanded, Mapping, InverseMapping, InputConditions, ['ESR1', '~ESR1', 'ERK1_2', '~ERK1_2'],\n",
    "                                            constant_nodes=[])\n",
    "print(tt['io_relation'])"
   ]
  },
  {
   "cell_type": "code",
   "execution_count": 71,
   "id": "animated-mills",
   "metadata": {},
   "outputs": [],
   "source": [
    "# tt = jR.get_input_output_relation(GExpanded, Mapping, InverseMapping, InputConditions, OutputNodes,\n",
    "#                                             constant_nodes=['~BCL11A', '~HDAC2'])"
   ]
  },
  {
   "cell_type": "code",
   "execution_count": 128,
   "id": "third-haven",
   "metadata": {},
   "outputs": [],
   "source": [
    "\n",
    "TempGIOW = jR.get_input_output_relation(GExpanded, Mapping, InverseMapping, InputConditions, OutputNodes,\n",
    "                                            constant_nodes=[])\n",
    "LDOIs = TempGIOW['LDOIs']\n",
    "GeneLDOIs = TempGIOW['gene_LDOIs']\n",
    "Conflicts = TempGIOW['conflicts']\n",
    "GeneConflicts = TempGIOW['gene_conflicts']\n",
    "IORelation = TempGIOW['io_relation']\n",
    "GRemained = TempGIOW['G_remained']"
   ]
  },
  {
   "cell_type": "code",
   "execution_count": 129,
   "id": "maritime-tractor",
   "metadata": {},
   "outputs": [],
   "source": [
    "R0 = jR.identifying_r0_mutations_ldoi(GExpanded, OutputNodes, Mapping, InverseMapping, InputConditions, IORelation)\n",
    "# DM = jR.identifying_disconnecting_mutations(GExpanded, InputNodes, OutputNodes, Mapping, InverseMapping)\n",
    "R1 = jR.identifying_r1_mutations_ldoi(GExpanded, OutputNodes, Mapping, InverseMapping, InputConditions, IORelation)\n",
    "#     IIDC = jR.identifying_input_independent_canalizing_mutations(GExpanded, OutputNodes, Mapping, InverseMapping)\n",
    "#     UN = jR.identifying_input_unreachable_nodes(GExpanded, OutputNodes, Mapping, InverseMapping, InputConditions)\n",
    "RN = jR.identifying_rn_mutations(GExpanded, Mapping, InverseMapping, InputNodes, OutputNodes, InputConditions,\n",
    "                                 IORelation,\n",
    "                                 R0['ineffective_mutations'], R1['r1_mutations'])\n",
    "\n",
    "NodeList = set(ReadNodes.values())\n",
    "NodeList.difference_update(InputNodes)\n",
    "NodeList.difference_update(OutputNodes)\n",
    "C0, C1, C2, C3 = [], [], [], []\n",
    "\n",
    "node_classificatin_dict = {}\n",
    "\n",
    "for NODE in NodeList:\n",
    "    negNODE = '~' + NODE\n",
    "    if R0['ineffective'][NODE] and R0['ineffective'][negNODE]:\n",
    "#             nodeClass = 'C0'\n",
    "        node_classificatin_dict[NODE] = 'C0'\n",
    "    elif NODE in RN['rn_mutations']:\n",
    "        if RN['rn_mutations'][NODE] == 'R1':\n",
    "#                 nodeClass = 'C1'\n",
    "            node_classificatin_dict[NODE] = 'C1'\n",
    "\n",
    "        else:\n",
    "#                 nodeClass = 'C2'\n",
    "            node_classificatin_dict[NODE] = 'C2'\n",
    "    elif negNODE in RN['rn_mutations']:\n",
    "        if RN['rn_mutations'][negNODE] == 'R1':\n",
    "#                 nodeClass = 'C1'\n",
    "            node_classificatin_dict[NODE] = 'C1'\n",
    "    else:\n",
    "#             nodeClass = 'C3'\n",
    "        node_classificatin_dict[NODE] = 'C3'"
   ]
  },
  {
   "cell_type": "code",
   "execution_count": 130,
   "id": "sweet-designation",
   "metadata": {},
   "outputs": [
    {
     "data": {
      "text/plain": [
       "array([[list([]), list([]), list([]), list([])]], dtype=object)"
      ]
     },
     "execution_count": 130,
     "metadata": {},
     "output_type": "execute_result"
    }
   ],
   "source": [
    "IORelation"
   ]
  },
  {
   "cell_type": "code",
   "execution_count": 131,
   "id": "olive-entertainment",
   "metadata": {},
   "outputs": [
    {
     "data": {
      "text/plain": [
       "{'KRT18': 'C1',\n",
       " 'c_Src': 'C0',\n",
       " 'FOXA1': 'C0',\n",
       " 'HDAC2': 'C2',\n",
       " 'C4orf7': 'C1',\n",
       " 'ANXA9': 'C0',\n",
       " 'GATA3': 'C0',\n",
       " 'CA12': 'C0',\n",
       " 'CDCA7': 'C0',\n",
       " 'BCL11A': 'C2',\n",
       " 'KRAS': 'C3',\n",
       " 'EGFR': 'C3',\n",
       " 'MSLN': 'C1',\n",
       " 'ZEB1': 'C0',\n",
       " 'CDH1': 'C1',\n",
       " 'PI3K': 'C0',\n",
       " 'STAT5': 'C1',\n",
       " 'SOX11': 'C1',\n",
       " 'CCNE1': 'C2',\n",
       " 'C6orf97': 'C0',\n",
       " 'SNAI1': 'C0',\n",
       " 'FOXC1': 'C1',\n",
       " 'ER': 'C1',\n",
       " 'PTEN': 'C0',\n",
       " 'AKT': 'C1',\n",
       " 'SLUG': 'C0'}"
      ]
     },
     "execution_count": 131,
     "metadata": {},
     "output_type": "execute_result"
    }
   ],
   "source": [
    "node_classificatin_dict"
   ]
  },
  {
   "cell_type": "code",
   "execution_count": 132,
   "id": "impossible-british",
   "metadata": {},
   "outputs": [],
   "source": [
    "tt = jR.get_input_output_relation(GExpanded, Mapping, InverseMapping, InputConditions, OutputNodes,\n",
    "                                            constant_nodes=['~BCL11A', '~KRT18'])"
   ]
  },
  {
   "cell_type": "code",
   "execution_count": 133,
   "id": "divine-onion",
   "metadata": {},
   "outputs": [
    {
     "data": {
      "text/plain": [
       "array([[list([]), list([]), list([]), list([])]], dtype=object)"
      ]
     },
     "execution_count": 133,
     "metadata": {},
     "output_type": "execute_result"
    }
   ],
   "source": [
    "tt['io_relation']"
   ]
  },
  {
   "cell_type": "code",
   "execution_count": 134,
   "id": "olympic-newman",
   "metadata": {},
   "outputs": [
    {
     "name": "stdout",
     "output_type": "stream",
     "text": [
      "[[list([]) list([]) list([]) list([])]]\n"
     ]
    }
   ],
   "source": [
    "ttt = jR.get_input_output_relation(GExpanded, Mapping, InverseMapping, InputConditions, OutputNodes,\n",
    "                                            constant_nodes=['HDAC2', 'C4orf7'])\n",
    "print(ttt['io_relation'])"
   ]
  },
  {
   "cell_type": "code",
   "execution_count": 136,
   "id": "wired-barbados",
   "metadata": {},
   "outputs": [
    {
     "name": "stdout",
     "output_type": "stream",
     "text": [
      "[[list([]) list([]) list(['~ERK1_2']) list([])]]\n"
     ]
    }
   ],
   "source": [
    "t = jR.get_input_output_relation(GExpanded, Mapping, InverseMapping, InputConditions, OutputNodes,\n",
    "                                            constant_nodes=['~BCL11A', '~HDAC2'])\n",
    "print(t['io_relation'])"
   ]
  }
 ],
 "metadata": {
  "kernelspec": {
   "display_name": "Python 3",
   "language": "python",
   "name": "python3"
  },
  "language_info": {
   "codemirror_mode": {
    "name": "ipython",
    "version": 3
   },
   "file_extension": ".py",
   "mimetype": "text/x-python",
   "name": "python",
   "nbconvert_exporter": "python",
   "pygments_lexer": "ipython3",
   "version": "3.8.8"
  }
 },
 "nbformat": 4,
 "nbformat_minor": 5
}
