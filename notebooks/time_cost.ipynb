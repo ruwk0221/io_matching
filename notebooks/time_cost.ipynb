{
 "cells": [
  {
   "cell_type": "code",
   "execution_count": 20,
   "id": "independent-istanbul",
   "metadata": {},
   "outputs": [],
   "source": [
    "import sys\n",
    "import os\n",
    "sys.path.append(os.path.dirname(os.path.abspath(os.path.dirname('__file__'))))\n",
    "import jReversion as jR\n",
    "from LDOI import BooleanDOI_processing as BDOIp\n",
    "from LDOI import qm\n",
    "import pandas as pd\n",
    "import numpy as np\n",
    "import networkx as nx"
   ]
  },
  {
   "cell_type": "code",
   "execution_count": 21,
   "id": "marked-homeless",
   "metadata": {},
   "outputs": [],
   "source": [
    "def gen_random_boolean_network(n=30, k=2, alpha=1.0, bias=0.5, self_loops=False):\n",
    "    '''\n",
    "    Generate a random network with k-in degree\n",
    "    The code is originated from the read_ndetwork() by Colin Campbell.\n",
    "    '''\n",
    "    def clean_states(x):\n",
    "        #cleans binary representation of node input states\n",
    "        out=x[2:]                                                               # Strip leading 0b\n",
    "        return '0'*(len(inf)-len(out))+out                                      # Append leading 0's as needed\n",
    "\n",
    "    while True:\n",
    "        g = nx.generators.directed.random_k_out_graph(n=n, k=k, alpha=alpha, self_loops=self_loops, seed=None).reverse()\n",
    "        \n",
    "        input_node = [node for node in g.nodes if g.in_degree(node) == 0]\n",
    "        output_node = [node for node in g.nodes if g.out_degree(node) == 0]\n",
    "        if len(input_node) == 0:              # at least one input node\n",
    "            random_node = random.randrange(n)\n",
    "            g.remove_edges_from(list(g.in_edges(random_node)))\n",
    "            input_node = [node for node in g.nodes if g.in_degree(node) == 0]\n",
    "            \n",
    "        if len(output_node) == 0:            # at least one output node\n",
    "            random_node = random.randrange(n)\n",
    "            g.remove_edges_from(list(g.out_edges(random_node)))\n",
    "            output_node = [node for node in g.nodes if g.out_degree(node) == 0]\n",
    "        \n",
    "        if len(g.subgraph(input_node + output_node).edges) > 0: continue # output nodes are connected to input nodes\n",
    "                    \n",
    "        if nx.is_weakly_connected(g): break\n",
    "\n",
    "    for n in g.nodes:\n",
    "        inf = list(g.predecessors(n))\n",
    "        if len(inf) > 0: \n",
    "            g.nodes[n]['update_nodes'] = inf.copy()\n",
    "            g.nodes[n]['update_rules'] = {}\n",
    "\n",
    "            bool_states = map(bin,range(2**len(inf)))\n",
    "            bool_states = map(clean_states,bool_states)\n",
    "            canalizing_variable = random.randrange(len(inf))\n",
    "            canalizing_value = int(random.random() < 0.5)\n",
    "            canalized_value = int(random.random() < 0.5)\n",
    "            for j in bool_states:\n",
    "                if j[canalizing_variable] == str(canalizing_value):\n",
    "                    g.nodes[n]['update_rules'][j] = canalized_value\n",
    "                else: \n",
    "                    g.nodes[n]['update_rules'][j] = int(random.random() < bias)    # Store outcome for every possible input\n",
    "        else:\n",
    "#             g.add_edge(n, n)\n",
    "            g.nodes[n]['update_nodes'] = [n]\n",
    "            g.nodes[n]['update_rules'] = {'0': 0, '1': 1}\n",
    "\n",
    "    return g,list(g.nodes)"
   ]
  },
  {
   "cell_type": "code",
   "execution_count": 22,
   "id": "turned-stationery",
   "metadata": {},
   "outputs": [],
   "source": [
    "def node_classification(GExpanded, mapping, inverse_mapping, input_conditions, output_nodes_ex, constant_nodes):\n",
    "    TempGIOW = jR.get_input_output_relation(GExpanded, mapping, inverse_mapping, input_conditions, output_nodes_ex,\n",
    "                                            constant_nodes=[])\n",
    "    LDOIs = TempGIOW['LDOIs']\n",
    "    GeneLDOIs = TempGIOW['gene_LDOIs']\n",
    "    Conflicts = TempGIOW['conflicts']\n",
    "    GeneConflicts = TempGIOW['gene_conflicts']\n",
    "    IORelation = TempGIOW['io_relation']\n",
    "    GRemained = TempGIOW['G_remained']\n",
    "\n",
    "    R0 = jR.identifying_r0_mutations_ldoi(GExpanded, output_nodes_ex, mapping, inverse_mapping, input_conditions, IORelation)\n",
    "    # DM = jR.identifying_disconnecting_mutations(GExpanded, InputNodes, OutputNodes, Mapping, InverseMapping)\n",
    "    R1 = jR.identifying_r1_mutations_ldoi(GExpanded, output_nodes_ex, mapping, inverse_mapping, input_conditions, IORelation)\n",
    "    #     IIDC = jR.identifying_input_independent_canalizing_mutations(GExpanded, OutputNodes, Mapping, InverseMapping)\n",
    "    #     UN = jR.identifying_input_unreachable_nodes(GExpanded, OutputNodes, Mapping, InverseMapping, InputConditions)\n",
    "    RN = jR.identifying_rn_mutations(GExpanded, mapping, inverse_mapping, input_nodes_ex, output_nodes_ex, input_conditions,\n",
    "                                     IORelation,\n",
    "                                     R0['ineffective_mutations'], R1['r1_mutations'])\n",
    "\n",
    "    NodeList = set(read_nodes_dict.values())\n",
    "    NodeList.difference_update(input_nodes)\n",
    "    NodeList.difference_update(output_nodes)\n",
    "    C0, C1, C2, C3 = [], [], [], []\n",
    "    for NODE in NodeList:\n",
    "        negNODE = '~' + NODE\n",
    "        if R0['ineffective'][NODE] and R0['ineffective'][negNODE]:\n",
    "    #             nodeClass = 'C0'\n",
    "            C0.append(NODE)\n",
    "        elif NODE in RN['rn_mutations']:\n",
    "            if RN['rn_mutations'][NODE] == 'R1':\n",
    "    #                 nodeClass = 'C1'\n",
    "                C1.append(NODE)\n",
    "    #                 canalizing = IIDC['iid_canalizing'][NODE]\n",
    "    #                 unreachable = UN['input_unreachable'][NODE]\n",
    "            else:\n",
    "    #                 nodeClass = 'C2'\n",
    "                C2.append(NODE)\n",
    "    #                 canalizing = IIDC['iid_canalizing'][NODE]\n",
    "    #                 unreachable = UN['input_unreachable'][NODE]\n",
    "        elif negNODE in RN['rn_mutations']:\n",
    "            if RN['rn_mutations'][negNODE] == 'R1':\n",
    "    #                 nodeClass = 'C1'\n",
    "                C1.append(NODE)\n",
    "    #                 canalizing = IIDC['iid_canalizing'][NODE]\n",
    "    #                 unreachable = UN['input_unreachable'][NODE]\n",
    "        else:\n",
    "    #             nodeClass = 'C3'\n",
    "            C3.append(NODE)\n",
    "    #             canalizing = IIDC['iid_canalizing'][NODE]\n",
    "    #             unreachable = UN['input_unreachable'][NODE]\n",
    "    \n",
    "    return C0, C1, C2, C3"
   ]
  },
  {
   "cell_type": "code",
   "execution_count": 23,
   "id": "stable-producer",
   "metadata": {},
   "outputs": [
    {
     "name": "stdout",
     "output_type": "stream",
     "text": [
      "1\n",
      "2\n"
     ]
    }
   ],
   "source": [
    "g, read_nodes = gen_random_boolean_network(n=10, k=2, alpha=1.0, bias=0.5, self_loops=False)\n",
    "mapping = {}  # nodename to number index\n",
    "inverse_mapping = {}  # number index to nodename\n",
    "read_nodes_dict = {}\n",
    "inverse_read_nodes_dict = {}\n",
    "prefix, suffix = 'n', 'n'\n",
    "for i, node in enumerate(read_nodes):\n",
    "    index = prefix + str(i) + suffix\n",
    "    mapping[str(node)] = index\n",
    "    inverse_mapping[index] = str(node)\n",
    "    mapping['~' + str(node)] = '~' + index\n",
    "    inverse_mapping['~' + index] = '~' + str(node)\n",
    "    read_nodes_dict[i] = str(node)\n",
    "    inverse_read_nodes_dict[str(node)] = i\n",
    "\n",
    "input_nodes = [node for node in g.nodes if g.in_degree(node) == 0]\n",
    "output_nodes = [node for node in g.nodes if g.out_degree(node) == 0]\n",
    "\n",
    "num_inputs = len(input_nodes)\n",
    "num_input_conditions = 2 ** num_inputs\n",
    "input_conditions = np.ndarray((num_inputs, 2), dtype=object)\n",
    "for idx, input_node in enumerate(input_nodes):\n",
    "    input_conditions[idx, 0] = '~' + str(input_node)\n",
    "    input_conditions[idx, 1] = str(input_node)\n",
    "\n",
    "\n",
    "output_nodes_ex = []\n",
    "output_nodes_ex.extend([read_nodes_dict[idx] for idx in output_nodes])\n",
    "output_nodes_ex.extend(['~'+read_nodes_dict[idx] for idx in output_nodes])\n",
    "input_nodes_ex = input_conditions.reshape(num_inputs * 2, ).tolist()\n",
    "\n",
    "GExpanded = BDOIp.Get_expanded_network(g, prefix=prefix, suffix=suffix)\n",
    "\n",
    "print(len(input_nodes))\n",
    "print(len(output_nodes))"
   ]
  },
  {
   "cell_type": "code",
   "execution_count": 25,
   "id": "located-yeast",
   "metadata": {
    "scrolled": false
   },
   "outputs": [
    {
     "name": "stdout",
     "output_type": "stream",
     "text": [
      "15.5 ms ± 57.3 µs per loop (mean ± std. dev. of 7 runs, 100 loops each)\n"
     ]
    }
   ],
   "source": [
    "%timeit node_classification(GExpanded, mapping, inverse_mapping, input_conditions, output_nodes_ex, constant_nodes=[])"
   ]
  },
  {
   "cell_type": "code",
   "execution_count": 26,
   "id": "suited-ukraine",
   "metadata": {},
   "outputs": [
    {
     "name": "stdout",
     "output_type": "stream",
     "text": [
      "1\n",
      "26\n"
     ]
    }
   ],
   "source": [
    "g, read_nodes = gen_random_boolean_network(n=100, k=2, alpha=1.0, bias=0.5, self_loops=False)\n",
    "mapping = {}  # nodename to number index\n",
    "inverse_mapping = {}  # number index to nodename\n",
    "read_nodes_dict = {}\n",
    "inverse_read_nodes_dict = {}\n",
    "prefix, suffix = 'n', 'n'\n",
    "for i, node in enumerate(read_nodes):\n",
    "    index = prefix + str(i) + suffix\n",
    "    mapping[str(node)] = index\n",
    "    inverse_mapping[index] = str(node)\n",
    "    mapping['~' + str(node)] = '~' + index\n",
    "    inverse_mapping['~' + index] = '~' + str(node)\n",
    "    read_nodes_dict[i] = str(node)\n",
    "    inverse_read_nodes_dict[str(node)] = i\n",
    "\n",
    "input_nodes = [node for node in g.nodes if g.in_degree(node) == 0]\n",
    "output_nodes = [node for node in g.nodes if g.out_degree(node) == 0]\n",
    "\n",
    "num_inputs = len(input_nodes)\n",
    "num_input_conditions = 2 ** num_inputs\n",
    "input_conditions = np.ndarray((num_inputs, 2), dtype=object)\n",
    "for idx, input_node in enumerate(input_nodes):\n",
    "    input_conditions[idx, 0] = '~' + str(input_node)\n",
    "    input_conditions[idx, 1] = str(input_node)\n",
    "\n",
    "\n",
    "output_nodes_ex = []\n",
    "output_nodes_ex.extend([read_nodes_dict[idx] for idx in output_nodes])\n",
    "output_nodes_ex.extend(['~'+read_nodes_dict[idx] for idx in output_nodes])\n",
    "input_nodes_ex = input_conditions.reshape(num_inputs * 2, ).tolist()\n",
    "\n",
    "GExpanded = BDOIp.Get_expanded_network(g, prefix=prefix, suffix=suffix)\n",
    "\n",
    "print(len(input_nodes))\n",
    "print(len(output_nodes))"
   ]
  },
  {
   "cell_type": "code",
   "execution_count": 27,
   "id": "agricultural-acrobat",
   "metadata": {},
   "outputs": [
    {
     "name": "stdout",
     "output_type": "stream",
     "text": [
      "3.05 s ± 29.7 ms per loop (mean ± std. dev. of 7 runs, 1 loop each)\n"
     ]
    }
   ],
   "source": [
    "%timeit node_classification(GExpanded, mapping, inverse_mapping, input_conditions, output_nodes_ex, constant_nodes=[])"
   ]
  },
  {
   "cell_type": "code",
   "execution_count": 28,
   "id": "historic-numbers",
   "metadata": {},
   "outputs": [
    {
     "name": "stdout",
     "output_type": "stream",
     "text": [
      "1\n",
      "341\n"
     ]
    }
   ],
   "source": [
    "g, read_nodes = gen_random_boolean_network(n=1000, k=2, alpha=1.0, bias=0.5, self_loops=False)\n",
    "mapping = {}  # nodename to number index\n",
    "inverse_mapping = {}  # number index to nodename\n",
    "read_nodes_dict = {}\n",
    "inverse_read_nodes_dict = {}\n",
    "prefix, suffix = 'n', 'n'\n",
    "for i, node in enumerate(read_nodes):\n",
    "    index = prefix + str(i) + suffix\n",
    "    mapping[str(node)] = index\n",
    "    inverse_mapping[index] = str(node)\n",
    "    mapping['~' + str(node)] = '~' + index\n",
    "    inverse_mapping['~' + index] = '~' + str(node)\n",
    "    read_nodes_dict[i] = str(node)\n",
    "    inverse_read_nodes_dict[str(node)] = i\n",
    "\n",
    "input_nodes = [node for node in g.nodes if g.in_degree(node) == 0]\n",
    "output_nodes = [node for node in g.nodes if g.out_degree(node) == 0]\n",
    "\n",
    "num_inputs = len(input_nodes)\n",
    "num_input_conditions = 2 ** num_inputs\n",
    "input_conditions = np.ndarray((num_inputs, 2), dtype=object)\n",
    "for idx, input_node in enumerate(input_nodes):\n",
    "    input_conditions[idx, 0] = '~' + str(input_node)\n",
    "    input_conditions[idx, 1] = str(input_node)\n",
    "\n",
    "\n",
    "output_nodes_ex = []\n",
    "output_nodes_ex.extend([read_nodes_dict[idx] for idx in output_nodes])\n",
    "output_nodes_ex.extend(['~'+read_nodes_dict[idx] for idx in output_nodes])\n",
    "input_nodes_ex = input_conditions.reshape(num_inputs * 2, ).tolist()\n",
    "\n",
    "GExpanded = BDOIp.Get_expanded_network(g, prefix=prefix, suffix=suffix)\n",
    "\n",
    "print(len(input_nodes))\n",
    "print(len(output_nodes))"
   ]
  },
  {
   "cell_type": "code",
   "execution_count": 29,
   "id": "pacific-sleeping",
   "metadata": {},
   "outputs": [
    {
     "name": "stdout",
     "output_type": "stream",
     "text": [
      "2h 9min 30s ± 25.9 s per loop (mean ± std. dev. of 7 runs, 1 loop each)\n"
     ]
    }
   ],
   "source": [
    "%timeit node_classification(GExpanded, mapping, inverse_mapping, input_conditions, output_nodes_ex, constant_nodes=[])"
   ]
  }
 ],
 "metadata": {
  "kernelspec": {
   "display_name": "Python 3",
   "language": "python",
   "name": "python3"
  },
  "language_info": {
   "codemirror_mode": {
    "name": "ipython",
    "version": 3
   },
   "file_extension": ".py",
   "mimetype": "text/x-python",
   "name": "python",
   "nbconvert_exporter": "python",
   "pygments_lexer": "ipython3",
   "version": "3.8.8"
  }
 },
 "nbformat": 4,
 "nbformat_minor": 5
}
