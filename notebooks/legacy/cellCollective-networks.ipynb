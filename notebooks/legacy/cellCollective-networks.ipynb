{
 "cells": [
  {
   "cell_type": "code",
   "execution_count": 1,
   "id": "modular-wrestling",
   "metadata": {},
   "outputs": [],
   "source": [
    "import sys\n",
    "import os\n",
    "sys.path.append(os.path.dirname(os.path.abspath(os.path.dirname('__file__'))))\n",
    "import jReversion as jR\n",
    "import pandas as pd\n",
    "import numpy as np\n",
    "import seaborn as sns\n",
    "import matplotlib\n",
    "import matplotlib.pyplot as plt\n",
    "from sklearn.metrics import accuracy_score, recall_score, precision_score, f1_score, balanced_accuracy_score\n",
    "import networkx as nx\n",
    "from statannot import add_stat_annotation\n",
    "import pickle"
   ]
  },
  {
   "cell_type": "code",
   "execution_count": 2,
   "id": "operational-asian",
   "metadata": {},
   "outputs": [],
   "source": [
    "networkModel =['bortezomib',\n",
    "                # 'igvh',\n",
    "                'apoptosis',\n",
    "                # 'aurora',\n",
    "                'bt474_long',\n",
    "                'bt474_short',\n",
    "                # 'cd4t',\n",
    "                'colitis',\n",
    "                'death',\n",
    "                # 'egfr',\n",
    "                # 'erbb',\n",
    "                # 'fa_brca',\n",
    "                # 'fa_check',\n",
    "                'hcc1954_long',\n",
    "                'hcc1954_short',\n",
    "                'hgf',\n",
    "                'mammalian',\n",
    "                # 'mammalian_2006',\n",
    "                'mapk',\n",
    "                'oxidative',\n",
    "                # 'pro_inflammatory',\n",
    "                'fibroblasts',\n",
    "                'skbr3_long',\n",
    "                'skbr3_short',\n",
    "                'tlgl_2008',\n",
    "                'tlgl_2011',\n",
    "                # 'tlgl_2011_reduced',\n",
    "                # 'prostate',\n",
    "                'migration']"
   ]
  },
  {
   "cell_type": "code",
   "execution_count": 3,
   "id": "grave-vegetable",
   "metadata": {},
   "outputs": [],
   "source": [
    "#cell collective\n",
    "# networkModel = ['BT474', 'CD4_T', 'death_receptor', 'bortezomib', 'lymphoid']\n",
    "\n",
    "for Model in networkModel:\n",
    "    Prefix, Suffix = 'n', 'n'\n",
    "    TEMP = jR.cellcollective(Model, Prefix, Suffix, directory='../')\n",
    "\n",
    "    BooleanRuleFileName = TEMP['BooleanRule_filename']\n",
    "    network_name = TEMP['network_name']\n",
    "\n",
    "    NumInputs = TEMP['num_inputs']\n",
    "    NumInputConditions = TEMP['num_input_conditions']\n",
    "\n",
    "    InputConditions = TEMP['input_conditions']\n",
    "\n",
    "    OutputNodes = TEMP['output_nodes']\n",
    "    InputNodes = TEMP['input_nodes']\n",
    "    \n",
    "    Mapping = TEMP['mapping']\n",
    "    InverseMapping = TEMP['inverse_mapping']\n",
    "    GRead = TEMP['Gread']\n",
    "    ReadNodes = TEMP['read_nodes']\n",
    "    \n",
    "#     nx.write_edgelist(G=GRead, path='../networks/hmkim/'+Model+'.edgelist')\n",
    "    with open('../networks/hmkim/'+Model+'.pck', 'wb') as f:\n",
    "        pickle.dump(GRead, f)\n"
   ]
  },
  {
   "cell_type": "code",
   "execution_count": 15,
   "id": "enormous-channel",
   "metadata": {},
   "outputs": [],
   "source": [
    "# test = nx.read_edgelist(path='../networks/hmkim/mapk.edgelist')\n",
    "with open('../networks/hmkim/mapk.pck', 'rb') as f:  # notice the r instead of w\n",
    "    G_loaded = pickle.load(f)"
   ]
  },
  {
   "cell_type": "code",
   "execution_count": 25,
   "id": "wired-riverside",
   "metadata": {},
   "outputs": [
    {
     "data": {
      "text/plain": [
       "{'update_nodes': [40, 51, 29],\n",
       " 'update_rules': {'000': 0,\n",
       "  '001': 0,\n",
       "  '010': 1,\n",
       "  '011': 0,\n",
       "  '100': 1,\n",
       "  '101': 0,\n",
       "  '110': 1,\n",
       "  '111': 0}}"
      ]
     },
     "execution_count": 25,
     "metadata": {},
     "output_type": "execute_result"
    }
   ],
   "source": [
    "G_loaded.nodes[7]"
   ]
  }
 ],
 "metadata": {
  "kernelspec": {
   "display_name": "Python 3",
   "language": "python",
   "name": "python3"
  },
  "language_info": {
   "codemirror_mode": {
    "name": "ipython",
    "version": 3
   },
   "file_extension": ".py",
   "mimetype": "text/x-python",
   "name": "python",
   "nbconvert_exporter": "python",
   "pygments_lexer": "ipython3",
   "version": "3.8.8"
  }
 },
 "nbformat": 4,
 "nbformat_minor": 5
}
