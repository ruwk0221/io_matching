{
 "cells": [
  {
   "cell_type": "code",
   "execution_count": 1,
   "metadata": {},
   "outputs": [],
   "source": [
    "import jijooBool\n",
    "import pickle\n",
    "import numpy as np\n",
    "import pprint"
   ]
  },
  {
   "cell_type": "code",
   "execution_count": 4,
   "metadata": {},
   "outputs": [],
   "source": [
    "f = open('../models/15_model_WT.pckl', 'rb')\n",
    "network, bf, attList, basinSizes= pickle.load(f)\n",
    "f.close()\n",
    "majorAtt = attList[basinSizes.index(max(basinSizes))]\n",
    "f = open('../models/15_model_mut_0.pckl', 'rb')\n",
    "_, _, mutAtt1, uniqueAtt1 = pickle.load(f)\n",
    "f.close()\n",
    "f = open('../models/15_model_mut_0_mut_10.pckl', 'rb')\n",
    "_, _, mutAtt2, uniqueAtt2 = pickle.load(f)\n",
    "f.close()\n",
    "f = open('../models/15_model_mut_0_mut_10_mut_11.pckl', 'rb')\n",
    "_, _, mutAtt3, uniqueAtt3 = pickle.load(f)\n",
    "f.close()\n",
    "f = open('../models/15_model_mut_0_mut_10_mut_11_mut_4.pckl', 'rb')\n",
    "_, _, mutAtt4, uniqueAtt4 = pickle.load(f)\n",
    "f.close()\n",
    "f = open('../models/15_model_mut_0_mut_10_mut_11_mut_4_mut_7.pckl', 'rb')\n",
    "_, _, mutAtt5, uniqueAtt5 = pickle.load(f)\n",
    "f.close()"
   ]
  },
  {
   "cell_type": "code",
   "execution_count": 5,
   "metadata": {},
   "outputs": [],
   "source": [
    "temp = []\n",
    "for att in mutAtt1:\n",
    "    for state in np.atleast_2d(att):\n",
    "        temp.append(state)\n",
    "mutAtt1 = np.array(temp)\n",
    "\n",
    "temp = []\n",
    "for att in mutAtt2:\n",
    "    for state in np.atleast_2d(att):\n",
    "        temp.append(state)\n",
    "mutAtt2 = np.array(temp)\n",
    "\n",
    "temp = []\n",
    "for att in mutAtt3:\n",
    "    for state in np.atleast_2d(att):\n",
    "        temp.append(state)\n",
    "mutAtt3 = np.array(temp)\n",
    "\n",
    "temp = []\n",
    "for att in mutAtt4:\n",
    "    for state in np.atleast_2d(att):\n",
    "        temp.append(state)\n",
    "mutAtt4 = np.array(temp)\n",
    "\n",
    "temp = []\n",
    "for att in mutAtt5:\n",
    "    for state in np.atleast_2d(att):\n",
    "        temp.append(state)\n",
    "mutAtt5 = np.array(temp)\n"
   ]
  },
  {
   "cell_type": "code",
   "execution_count": 6,
   "metadata": {},
   "outputs": [],
   "source": [
    "mutAtt1 = np.unique(mutAtt1, axis=0)\n",
    "mutAtt2 = np.unique(mutAtt2, axis=0)\n",
    "mutAtt3 = np.unique(mutAtt3, axis=0)\n",
    "mutAtt4 = np.unique(mutAtt4, axis=0)\n",
    "mutAtt5 = np.unique(mutAtt5, axis=0)\n"
   ]
  },
  {
   "cell_type": "code",
   "execution_count": 7,
   "metadata": {},
   "outputs": [
    {
     "name": "stdout",
     "output_type": "stream",
     "text": [
      "array([[0, 1, 0, 1, 0, 1, 0, 0, 1, 1, 0, 1, 1, 0, 0, 1, 0, 0, 1, 1],\n",
      "       [1, 1, 0, 1, 0, 1, 0, 1, 1, 1, 0, 1, 1, 1, 1, 1, 0, 0, 1, 1],\n",
      "       [1, 1, 1, 1, 0, 0, 0, 1, 0, 1, 1, 0, 1, 1, 1, 1, 0, 0, 1, 0],\n",
      "       [0, 1, 1, 0, 0, 0, 0, 0, 0, 1, 1, 0, 1, 1, 0, 1, 1, 0, 1, 0],\n",
      "       [0, 1, 1, 0, 0, 0, 0, 0, 0, 1, 0, 0, 1, 0, 0, 1, 0, 0, 1, 0]])\n",
      "array([[0, 1, 0, 1, 0, 1, 0, 0, 1, 1, 0, 1, 1, 0, 0, 1, 0, 0, 1, 1],\n",
      "       [0, 1, 0, 1, 0, 1, 0, 1, 1, 1, 0, 1, 1, 1, 1, 1, 0, 0, 1, 1],\n",
      "       [0, 1, 1, 0, 0, 0, 0, 0, 0, 1, 0, 0, 1, 0, 0, 1, 0, 0, 1, 0],\n",
      "       [0, 1, 1, 0, 0, 1, 0, 0, 0, 1, 1, 0, 1, 1, 0, 1, 1, 0, 1, 0],\n",
      "       [0, 1, 1, 1, 0, 1, 0, 1, 0, 1, 1, 0, 1, 1, 1, 1, 0, 0, 1, 0]])\n",
      "array([[0, 1, 0, 1, 0, 0, 0, 0, 1, 1, 0, 1, 1, 0, 0, 1, 1, 0, 1, 1],\n",
      "       [0, 1, 0, 1, 0, 0, 0, 1, 1, 1, 0, 1, 1, 1, 1, 1, 0, 0, 1, 1],\n",
      "       [0, 1, 1, 0, 0, 0, 0, 1, 0, 1, 0, 0, 1, 0, 0, 1, 1, 0, 1, 0],\n",
      "       [0, 1, 1, 0, 0, 1, 0, 1, 0, 1, 0, 0, 1, 1, 0, 1, 1, 0, 1, 0],\n",
      "       [0, 1, 1, 1, 0, 1, 0, 1, 0, 1, 0, 0, 1, 1, 1, 1, 0, 0, 1, 0]])\n",
      "array([[0, 1, 1, 1, 0, 0, 0, 1, 0, 1, 0, 1, 1, 1, 0, 1, 1, 0, 1, 0]])\n",
      "array([[0, 1, 1, 1, 0, 0, 0, 1, 0, 1, 0, 1, 1, 1, 0, 1, 1, 0, 1, 0]])\n",
      "array([[0, 1, 1, 1, 0, 0, 0, 1, 0, 1, 0, 1, 1, 1, 0, 1, 1, 0, 1, 0]])\n"
     ]
    }
   ],
   "source": [
    "\n",
    "pprint.pprint(majorAtt)\n",
    "pprint.pprint(mutAtt1)\n",
    "pprint.pprint(mutAtt2)\n",
    "pprint.pprint(mutAtt3)\n",
    "pprint.pprint(mutAtt4)\n",
    "pprint.pprint(mutAtt5)\n"
   ]
  },
  {
   "cell_type": "code",
   "execution_count": 8,
   "metadata": {},
   "outputs": [],
   "source": [
    "\n",
    "majorAtt = attList[basinSizes.index(max(basinSizes))]\n",
    "tracingStates = np.atleast_2d(majorAtt)\n",
    "length, nodeNum = tracingStates.shape\n",
    "sumOfStates = np.sum(tracingStates, axis=0)\n",
    "idxOFF = (sumOfStates == 0)\n",
    "idxON = (sumOfStates == length)\n",
    "# idxOSC = np.logical_and(np.logical_not(idxOFF), np.logical_not(idxON))\n",
    "# cycleLength, _ = tracingStates.shape\n",
    "# if cycleLength == 1:\n",
    "#     mutationValue = not majorAtt\n",
    "# else :\n",
    "mutationValue = np.random.randint(0, 2, (nodeNum,))\n",
    "mutationValue[idxOFF] = 1\n",
    "mutationValue[idxON] = 0\n",
    "attKey = np.ones((nodeNum,)) * 2\n",
    "attKey[idxOFF] = 0\n",
    "attKey[idxON] = 1\n"
   ]
  },
  {
   "cell_type": "code",
   "execution_count": 9,
   "metadata": {},
   "outputs": [
    {
     "data": {
      "text/plain": [
       "array([2., 1., 2., 2., 0., 2., 0., 2., 2., 1., 2., 2., 1., 2., 2., 1., 2.,\n",
       "       0., 1., 2.])"
      ]
     },
     "execution_count": 9,
     "metadata": {},
     "output_type": "execute_result"
    }
   ],
   "source": [
    "\n",
    "attKey\n"
   ]
  },
  {
   "cell_type": "code",
   "execution_count": 10,
   "metadata": {},
   "outputs": [
    {
     "name": "stdout",
     "output_type": "stream",
     "text": [
      "[20, 20, 11, 12, 13]\n"
     ]
    }
   ],
   "source": [
    "dist1 = np.sum(attKey == uniqueAtt1)\n",
    "dist2 = np.sum(attKey == uniqueAtt2)\n",
    "dist3 = np.sum(attKey == uniqueAtt3)\n",
    "dist4 = np.sum(attKey == uniqueAtt4)\n",
    "dist5 = np.sum(attKey == uniqueAtt5)\n",
    "pprint.pprint([dist1 + 1, dist2 + 2, dist3 + 3, dist4 + 4, dist5 + 5])"
   ]
  },
  {
   "cell_type": "code",
   "execution_count": 16,
   "metadata": {},
   "outputs": [],
   "source": []
  },
  {
   "cell_type": "code",
   "execution_count": 24,
   "metadata": {},
   "outputs": [
    {
     "data": {
      "text/plain": [
       "(1, 20)"
      ]
     },
     "execution_count": 24,
     "metadata": {},
     "output_type": "execute_result"
    }
   ],
   "source": []
  },
  {
   "cell_type": "code",
   "execution_count": null,
   "metadata": {},
   "outputs": [],
   "source": []
  }
 ],
 "metadata": {
  "kernelspec": {
   "display_name": "Python 3",
   "language": "python",
   "name": "python3"
  },
  "language_info": {
   "codemirror_mode": {
    "name": "ipython",
    "version": 3
   },
   "file_extension": ".py",
   "mimetype": "text/x-python",
   "name": "python",
   "nbconvert_exporter": "python",
   "pygments_lexer": "ipython3",
   "version": "3.5.5"
  }
 },
 "nbformat": 4,
 "nbformat_minor": 1
}
