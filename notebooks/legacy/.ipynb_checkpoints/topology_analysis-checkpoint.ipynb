{
 "cells": [
  {
   "cell_type": "code",
   "execution_count": 1,
   "metadata": {},
   "outputs": [],
   "source": [
    "import sys\n",
    "import os\n",
    "sys.path.append(os.path.dirname(os.path.abspath(os.path.dirname('__file__'))))\n",
    "import jReversion as jR\n",
    "import pandas as pd\n",
    "import networkx as nx\n",
    "import numpy as np"
   ]
  },
  {
   "cell_type": "code",
   "execution_count": 2,
   "metadata": {
    "pycharm": {
     "name": "#%%\n"
    }
   },
   "outputs": [
    {
     "name": "stdout",
     "output_type": "stream",
     "text": [
      "  Regulator Target gene\n",
      "0     AADAT         DLD\n",
      "1     AADAT        DLST\n",
      "2     AADAT        LDHB\n",
      "3     AADAT        OGDH\n",
      "4     AANAT        ASMT\n"
     ]
    }
   ],
   "source": [
    "network_df = pd.read_excel('../networks/natcomm_2019.xlsx',\n",
    "                           sheet_name='Supplementary Table 1',\n",
    "                           header=2)\n",
    "print(network_df.head())\n",
    "network = nx.from_pandas_edgelist(df=network_df, source='Regulator', target='Target gene', create_using=nx.DiGraph)"
   ]
  },
  {
   "cell_type": "code",
   "execution_count": 3,
   "metadata": {
    "pycharm": {
     "name": "#%%\n"
    }
   },
   "outputs": [],
   "source": [
    "def identify_ffl(g_read, cutoff=None):\n",
    "    num_node = len(g_read)\n",
    "    mx_num_sp = np.zeros((num_node, num_node), dtype=int)\n",
    "    mx_min_sp = np.zeros((num_node, num_node), dtype=int)\n",
    "    mx_max_sp = np.zeros((num_node, num_node), dtype=int)\n",
    "    for s_idx, source in enumerate(g_read.nodes):\n",
    "        for t_idx, target in enumerate(g_read.nodes):\n",
    "            num_sp = 0\n",
    "            min_sp = num_node\n",
    "            max_sp = 0\n",
    "            if source is not target:\n",
    "                for path in nx.all_simple_paths(g_read, source, target, cutoff):\n",
    "                    num_sp += 1\n",
    "                    length = len(path)\n",
    "                    min_sp = min([length, min_sp])\n",
    "                    max_sp = max([length, max_sp])\n",
    "            mx_num_sp[s_idx, t_idx] = num_sp\n",
    "            mx_min_sp[s_idx, t_idx] = min_sp\n",
    "            mx_max_sp[s_idx, t_idx] = max_sp\n",
    "\n",
    "    mx_ffl = mx_num_sp >= 2\n",
    "\n",
    "    output = {'mx_num_sp': mx_num_sp,\n",
    "              'mx_min_sp': mx_min_sp,\n",
    "              'mx_max_sp': mx_max_sp,\n",
    "              'mx_ffl': mx_ffl}\n",
    "\n",
    "    return output\n",
    "\n",
    "def node_deletion_effects_on_ffl(g_read, cutoff=None):\n",
    "    # num_node = len(g_read)\n",
    "    node_deletion_effects = dict()\n",
    "    for mut in g_read.nodes:\n",
    "        g_mut = g_read.copy()\n",
    "        g_mut.remove_node(mut)\n",
    "        g_mut.add_node(mut)\n",
    "        node_deletion_effects[mut] = identify_ffl(g_mut, cutoff)\n",
    "\n",
    "    return node_deletion_effects\n",
    "\n",
    "def ffl_test(g_read, cut_off_range=[None]):\n",
    "    result = dict()\n",
    "    for node in g_read.nodes:\n",
    "        result[node] = dict()\n",
    "\n",
    "    for cut_off in cut_off_range:\n",
    "        ffl = identify_ffl(g_read, cut_off)\n",
    "        eff = node_deletion_effects_on_ffl(g_read, cut_off)\n",
    "\n",
    "        for node in g_read.nodes:\n",
    "\n",
    "            test1 = ffl['mx_num_sp'] != eff[node]['mx_num_sp']\n",
    "            # test1 = abs(test1) == 1\n",
    "            # test2 = np.logical_and(FFL['mx_ffl'], EFF[node]['mx_num_sp'] > 0)\n",
    "            test2 = np.logical_and(test1, ffl['mx_ffl'])\n",
    "            # test = np.logical_and(test3, EFF[node]['mx_num_sp'] > 0)\n",
    "\n",
    "            test = eff[node]['mx_num_sp']\n",
    "            test = np.delete(test, node, axis=0)\n",
    "            test = np.delete(test, node, axis=1)\n",
    "\n",
    "            test2 = np.delete(test2, node, axis=0)\n",
    "            test2 = np.delete(test2, node, axis=1)\n",
    "\n",
    "            if test2.any():\n",
    "                if (test[test2] > 0).all():\n",
    "                    result[node][cut_off] = 'C1'\n",
    "                elif (test[test2] == 0).any():\n",
    "                    result[node][cut_off] = 'C2'\n",
    "            else:\n",
    "                result[node][cut_off] = 'ND'\n",
    "\n",
    "    return result"
   ]
  },
  {
   "cell_type": "code",
   "execution_count": null,
   "metadata": {
    "pycharm": {
     "is_executing": true,
     "name": "#%%\n"
    }
   },
   "outputs": [],
   "source": [
    "CutOffRange = [2, 3, 4, 5, 6, 7]\n",
    "ffl_test_result = ffl_test(g_read=network, cut_off_range=CutOffRange)"
   ]
  },
  {
   "cell_type": "code",
   "execution_count": null,
   "metadata": {
    "pycharm": {
     "name": "#%%\n"
    }
   },
   "outputs": [],
   "source": [
    "NetworkName = 'natcomm_2019'\n",
    "with open('data/' + NetworkName + '_ffl_test.tsv', 'w') as f:\n",
    "    TMP = '\\t'.join(['FFL' + str(CUT) for CUT in CutOffRange])\n",
    "\n",
    "    f.write('node\\t' + TMP + '\\n')\n",
    "    NodeList = set(network.nodes)\n",
    "    InputNodes = [node for node, in_degree in network.in_degree(network.nodes) if in_degree==0]\n",
    "    OutputNodes = [node for node, out_degree in network.out_degree(network.nodes) if out_degree==0]\n",
    "    NodeList.difference_update(InputNodes)\n",
    "    NodeList.difference_update(OutputNodes)\n",
    "    for NODE in NodeList:\n",
    "        FFL = '\\t'.join([str(x) for x in ffl_test_result[NODE].values()])\n",
    "        f.write(NODE + '\\t' + FFL + '\\n')"
   ]
  }
 ],
 "metadata": {
  "kernelspec": {
   "display_name": "Python 3",
   "language": "python",
   "name": "python3"
  },
  "language_info": {
   "codemirror_mode": {
    "name": "ipython",
    "version": 3
   },
   "file_extension": ".py",
   "mimetype": "text/x-python",
   "name": "python",
   "nbconvert_exporter": "python",
   "pygments_lexer": "ipython3",
   "version": "3.5.2"
  }
 },
 "nbformat": 4,
 "nbformat_minor": 1
}
