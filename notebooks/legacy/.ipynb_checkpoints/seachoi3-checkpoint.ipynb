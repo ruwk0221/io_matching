{
 "cells": [
  {
   "cell_type": "code",
   "execution_count": 4,
   "id": "sealed-draft",
   "metadata": {},
   "outputs": [],
   "source": [
    "import sys\n",
    "import os\n",
    "# sys.path.append('/home/jijoo/miniconda3/envs/theor/lib/python3.8/site-packages/cana') # cana package 위치\n",
    "sys.path.append(os.path.dirname(os.path.abspath(os.path.dirname('__file__'))))\n",
    "\n",
    "import math\n",
    "import numpy as np\n",
    "import pandas as pd\n",
    "# pd.options.display.float_format = '{:.2g}'.format\n",
    "import matplotlib as mpl\n",
    "import matplotlib.pyplot as plt\n",
    "import random\n",
    "# import graphviz\n",
    "# from IPython.display import HTML\n",
    "# #\n",
    "# import cana\n",
    "# from cana.datasets.bio import *\n",
    "# from cana.drawing.canalizing_map import draw_canalizing_map_graphviz\n",
    "import networkx as nx\n",
    "import par_helper as ph\n",
    "import jReversion as jR\n",
    "from LDOI import BooleanDOI_processing as BDOIp\n",
    "from LDOI import BooleanDOI_DOI as BDOId"
   ]
  },
  {
   "cell_type": "code",
   "execution_count": 5,
   "id": "computational-maldives",
   "metadata": {},
   "outputs": [],
   "source": [
    "def fvs_max_ldoi_condition(G, fvs, input_condition):\n",
    "#     fvs = ['AKT1', 'CEP55', 'CCNE1', 'CCND1', 'ZEB1', 'SNAI1', 'PI3K']\n",
    "    fvs_conditions = np.ndarray((len(fvs), 2), dtype=object)\n",
    "    for idx, fvs_node in enumerate(fvs):\n",
    "        fvs_conditions[idx, 0] = '~' + fvs_node\n",
    "        fvs_conditions[idx, 1] = fvs_node\n",
    "\n",
    "    stabled_nodes_list = dict()    \n",
    "\n",
    "    for i in range(2 ** len(fvs)):\n",
    "    #     G_copied = G_expanded.copy()\n",
    "        temp = np.binary_repr(i, width=len(fvs))\n",
    "        fvs_condition = [fvs_conditions[x, int(temp[x])] for x in range(len(fvs))]\n",
    "\n",
    "        intervention = [Mapping[x] for x in fvs_condition] + [Mapping[x] for x in input_condition]\n",
    "        LDOI_raw, _, _, _ = BDOId.truncated_node_of_influence_BFS(breast_scc_ex, intervention)\n",
    "        LDOI = set([x for x in LDOI_raw if x.find('_') < 0])\n",
    "        LDOI_gene = [InverseMapping[x] for x in LDOI]\n",
    "    #     ldoi_fvs_conditions[temp] = LDOI_gene.copy()\n",
    "\n",
    "        gene = [x.replace('~', '') for x in LDOI_gene]\n",
    "        ldoi_and_fvs = set(gene + [x.replace('~', '') for x in fvs])\n",
    "        stabled_nodes_list[temp] = set(subnetwork_nodeName).intersection(ldoi_and_fvs)\n",
    "\n",
    "    max_condition = ''\n",
    "    max_stabled_num_nodes = 0\n",
    "    for key, val in stabled_nodes_list.items():\n",
    "        if len(val) > max_stabled_num_nodes:\n",
    "            max_condition = key\n",
    "            max_stabled_num_nodes = len(val)\n",
    "\n",
    "#     print(max_condition + ': ' + str(max_stabled_num_nodes))\n",
    "\n",
    "    max_condition_list = []\n",
    "    for key, val in stabled_nodes_list.items():\n",
    "        if len(val) == max_stabled_num_nodes:\n",
    "            max_condition_list.append(key)\n",
    "\n",
    "    stable_count = dict()\n",
    "    for node in subnetwork_nodeName:\n",
    "        stable_count[node] = 0\n",
    "\n",
    "    for condition in max_condition_list:\n",
    "        for node in stabled_nodes_list[condition]:\n",
    "            stable_count[node] += 1\n",
    "            \n",
    "    return {\n",
    "            'max_condition': max_condition,\n",
    "            'max_stabled_num_nodes': max_stabled_num_nodes,\n",
    "            'max_condiiton_list': max_condition_list,\n",
    "            'stable_count': stable_count\n",
    "    }"
   ]
  },
  {
   "cell_type": "code",
   "execution_count": 6,
   "id": "double-organ",
   "metadata": {},
   "outputs": [],
   "source": [
    "BooleanRuleFileName = '../models/Breastnetwork_tempp.txt'\n",
    "NetworkName = 'Breastnetwork_tempp'\n",
    "Prefix, Suffix = 'n', 'n'\n",
    "TempI = jR.initialize(BooleanRuleFileName, Prefix, Suffix)\n",
    "Mapping = TempI['mapping']\n",
    "InverseMapping = TempI['inverse_mapping']\n",
    "GRead = TempI['Gread']\n",
    "ReadNodes = TempI['read_nodes']\n",
    "\n",
    "# GReduced = BDOIp.Get_reduced_network(GRead)\n",
    "InverseReadNodes = dict()\n",
    "for key, val in ReadNodes.items():\n",
    "    InverseReadNodes[val] = key\n",
    "    \n",
    "subnetwork_nodeName = ['ABL1', 'AKT1', 'ATM', 'BCL11A', 'BRAF', 'BRCA1', 'CCNB1', 'CCND1', 'CCNE1', 'CCNG1', 'CDC20', 'CENPF', 'CEP55', 'E2F1', 'ERK1_2', 'GRB7', 'HDAC2', 'MYC', 'p21',\n",
    "                       'PI3K', 'RAS', 'SLUG', 'SNAI1', 'Sp1', 'STAT3', 'TWIST', 'ZEB1', 'ZEB2']\n",
    "subnetwork_nodeIdx = [InverseReadNodes[x] for x in subnetwork_nodeName]\n",
    "\n",
    "# breast_scc_ex = BDOIp.Get_expanded_subnetwork(Gread=GRead, nodes=subnetwork_nodeIdx)"
   ]
  },
  {
   "cell_type": "code",
   "execution_count": 7,
   "id": "literary-fifteen",
   "metadata": {},
   "outputs": [],
   "source": [
    "breast_scc_ex = nx.read_gml(path='../networks/Breastnetwork_scc_ex.gml')\n",
    "breast_scc_ex = nx.relabel_nodes(breast_scc_ex, Mapping)\n",
    "# nx.write_gml(breast_scc_ex, path='../models/Breastnetwork_tempp_scc.gml')"
   ]
  },
  {
   "cell_type": "code",
   "execution_count": 8,
   "id": "manufactured-constitution",
   "metadata": {},
   "outputs": [],
   "source": [
    "fvs_list = [\n",
    "    ['CEP55', 'CCNE1', 'PI3K', 'CCND1', 'AKT1', 'ZEB1', 'SNAI1'],\n",
    "    ['CENPF', 'CCNE1', 'PI3K', 'CCND1', 'AKT1', 'ZEB1', 'SNAI1'],\n",
    "    ['CEP55', 'CCNE1', 'PI3K', 'CCND1', 'ZEB1', 'HDAC2', 'SNAI1'],\n",
    "    ['CEP55', 'CCNE1', 'PI3K', 'BCL11A', 'CCND1', 'ZEB1', 'SNAI1'],\n",
    "    ['CENPF', 'CCNE1', 'PI3K', 'BCL11A', 'CCND1', 'ZEB1', 'SNAI1']\n",
    "]"
   ]
  },
  {
   "cell_type": "code",
   "execution_count": 9,
   "id": "above-shape",
   "metadata": {},
   "outputs": [],
   "source": [
    "results = dict()\n",
    "for idx, fvs in enumerate(fvs_list):\n",
    "    temp = fvs_max_ldoi_condition(G=breast_scc_ex, fvs=fvs, input_condition=[])\n",
    "    temp['fvs'] = str(fvs)\n",
    "    results[idx] = temp.copy()"
   ]
  },
  {
   "cell_type": "code",
   "execution_count": 10,
   "id": "referenced-generic",
   "metadata": {
    "scrolled": false
   },
   "outputs": [
    {
     "data": {
      "text/plain": [
       "{'max_condition': '0000000',\n",
       " 'max_stabled_num_nodes': 18,\n",
       " 'max_condiiton_list': ['0000000',\n",
       "  '0000001',\n",
       "  '0000010',\n",
       "  '0000011',\n",
       "  '1000000',\n",
       "  '1000001',\n",
       "  '1000010',\n",
       "  '1000011'],\n",
       " 'stable_count': {'ABL1': 0,\n",
       "  'AKT1': 8,\n",
       "  'ATM': 0,\n",
       "  'BCL11A': 8,\n",
       "  'BRAF': 0,\n",
       "  'BRCA1': 0,\n",
       "  'CCNB1': 8,\n",
       "  'CCND1': 8,\n",
       "  'CCNE1': 8,\n",
       "  'CCNG1': 8,\n",
       "  'CDC20': 8,\n",
       "  'CENPF': 8,\n",
       "  'CEP55': 8,\n",
       "  'E2F1': 0,\n",
       "  'ERK1_2': 0,\n",
       "  'GRB7': 8,\n",
       "  'HDAC2': 0,\n",
       "  'MYC': 0,\n",
       "  'p21': 0,\n",
       "  'PI3K': 8,\n",
       "  'RAS': 8,\n",
       "  'SLUG': 8,\n",
       "  'SNAI1': 8,\n",
       "  'Sp1': 0,\n",
       "  'STAT3': 8,\n",
       "  'TWIST': 8,\n",
       "  'ZEB1': 8,\n",
       "  'ZEB2': 8},\n",
       " 'fvs': \"['CEP55', 'CCNE1', 'PI3K', 'CCND1', 'AKT1', 'ZEB1', 'SNAI1']\"}"
      ]
     },
     "execution_count": 10,
     "metadata": {},
     "output_type": "execute_result"
    }
   ],
   "source": [
    "results[0]"
   ]
  },
  {
   "cell_type": "code",
   "execution_count": 29,
   "id": "serial-thickness",
   "metadata": {},
   "outputs": [],
   "source": [
    "damage_results = dict()\n",
    "for idx, fvs in enumerate(fvs_list):\n",
    "    temp = fvs_max_ldoi_condition(G=breast_scc_ex, fvs=fvs, input_condition=['DNA_damage'])\n",
    "    temp['fvs'] = str(fvs)\n",
    "    damage_results[idx] = temp.copy()\n",
    "\n",
    "erbb2_results = dict()\n",
    "for idx, fvs in enumerate(fvs_list):\n",
    "    temp = fvs_max_ldoi_condition(G=breast_scc_ex, fvs=fvs, input_condition=['~ERBB2'])\n",
    "    temp['fvs'] = str(fvs)\n",
    "    erbb2_results[idx] = temp.copy()\n",
    "\n",
    "er_results = dict()\n",
    "for idx, fvs in enumerate(fvs_list):\n",
    "    temp = fvs_max_ldoi_condition(G=breast_scc_ex, fvs=fvs, input_condition=['~ER'])\n",
    "    temp['fvs'] = str(fvs)\n",
    "    er_results[idx] = temp.copy()"
   ]
  },
  {
   "cell_type": "code",
   "execution_count": 30,
   "id": "surprising-heart",
   "metadata": {},
   "outputs": [
    {
     "name": "stdout",
     "output_type": "stream",
     "text": [
      "FVS: ['CEP55', 'CCNE1', 'PI3K', 'CCND1', 'AKT1', 'ZEB1', 'SNAI1']\n",
      "Damage: 22\tERi: 18\tERBB2i: 19\n",
      "FVS: ['CENPF', 'CCNE1', 'PI3K', 'CCND1', 'AKT1', 'ZEB1', 'SNAI1']\n",
      "Damage: 22\tERi: 18\tERBB2i: 19\n",
      "FVS: ['CEP55', 'CCNE1', 'PI3K', 'CCND1', 'ZEB1', 'HDAC2', 'SNAI1']\n",
      "Damage: 21\tERi: 17\tERBB2i: 18\n",
      "FVS: ['CEP55', 'CCNE1', 'PI3K', 'BCL11A', 'CCND1', 'ZEB1', 'SNAI1']\n",
      "Damage: 21\tERi: 17\tERBB2i: 18\n",
      "FVS: ['CENPF', 'CCNE1', 'PI3K', 'BCL11A', 'CCND1', 'ZEB1', 'SNAI1']\n",
      "Damage: 21\tERi: 17\tERBB2i: 18\n"
     ]
    }
   ],
   "source": [
    "for idx in range(len(fvs_list)): \n",
    "    print('FVS: ' + str(fvs_list[idx]))\n",
    "    print('Damage: ' + str(damage_results[idx]['max_stabled_num_nodes']) + '\\t' + 'ERi: ' + str(er_results[idx]['max_stabled_num_nodes'])\n",
    "         + '\\t' + 'ERBB2i: ' + str(erbb2_results[idx]['max_stabled_num_nodes']))"
   ]
  },
  {
   "cell_type": "code",
   "execution_count": 31,
   "id": "honest-messenger",
   "metadata": {},
   "outputs": [],
   "source": [
    "damage_er_results = dict()\n",
    "for idx, fvs in enumerate(fvs_list):\n",
    "    temp = fvs_max_ldoi_condition(G=breast_scc_ex, fvs=fvs, input_condition=['~ERBB2', 'DNA_damage'])\n",
    "    temp['fvs'] = str(fvs)\n",
    "    damage_er_results[idx] = temp.copy()"
   ]
  },
  {
   "cell_type": "code",
   "execution_count": 32,
   "id": "accredited-albany",
   "metadata": {
    "scrolled": true
   },
   "outputs": [
    {
     "name": "stdout",
     "output_type": "stream",
     "text": [
      "FVS: ['CEP55', 'CCNE1', 'PI3K', 'CCND1', 'AKT1', 'ZEB1', 'SNAI1']\n",
      "Damage_ERBB2i: 23\n",
      "FVS: ['CENPF', 'CCNE1', 'PI3K', 'CCND1', 'AKT1', 'ZEB1', 'SNAI1']\n",
      "Damage_ERBB2i: 23\n",
      "FVS: ['CEP55', 'CCNE1', 'PI3K', 'CCND1', 'ZEB1', 'HDAC2', 'SNAI1']\n",
      "Damage_ERBB2i: 22\n",
      "FVS: ['CEP55', 'CCNE1', 'PI3K', 'BCL11A', 'CCND1', 'ZEB1', 'SNAI1']\n",
      "Damage_ERBB2i: 22\n",
      "FVS: ['CENPF', 'CCNE1', 'PI3K', 'BCL11A', 'CCND1', 'ZEB1', 'SNAI1']\n",
      "Damage_ERBB2i: 22\n"
     ]
    }
   ],
   "source": [
    "for idx in range(len(fvs_list)): \n",
    "    print('FVS: ' + str(fvs_list[idx]))\n",
    "    print('Damage_ERBB2i: ' + str(damage_er_results[idx]['max_stabled_num_nodes']))"
   ]
  },
  {
   "cell_type": "code",
   "execution_count": 38,
   "id": "paperback-princess",
   "metadata": {},
   "outputs": [],
   "source": [
    "results_fvs_list_1del_eq = dict()\n",
    "effective_node_fvs = dict()\n",
    "for idx, fvs in enumerate(fvs_list):\n",
    "    effective_node_fvs[idx] = []\n",
    "    for node in fvs:\n",
    "        fvs_temp = fvs.copy()\n",
    "        fvs_temp.remove(node)\n",
    "        temp = fvs_max_ldoi_condition(G=breast_scc_ex, fvs=fvs_temp, input_condition=[])\n",
    "        temp['fvs'] = str(fvs_temp)\n",
    "        results_fvs_list_1del_eq[str(idx) + '_del_' + node] = temp.copy()\n",
    "#         LDOI_raw, _, _, _ = BDOId.truncated_node_of_influence_BFS(breast_scc_ex, [Mapping[x] for x in fvs_temp])\n",
    "#         LDOI = set([x for x in LDOI_raw if x.find('_') < 0])\n",
    "#         LDOI_gene = [InverseMapping[x] for x in LDOI]\n",
    "# #         ldoi_fvs_del1['del_' + node] = LDOI_gene.copy()\n",
    "#         ldoi_fvs_list_1del_eq[str(idx) + '_del_' + node] = ldoi_fvs_list[idx] == LDOI_gene\n",
    "        if temp['max_stabled_num_nodes'] != results[idx]['max_stabled_num_nodes']:\n",
    "            effective_node_fvs[idx].append(node)"
   ]
  },
  {
   "cell_type": "code",
   "execution_count": 39,
   "id": "first-sheriff",
   "metadata": {},
   "outputs": [
    {
     "data": {
      "text/plain": [
       "{0: ['CEP55', 'CCNE1', 'PI3K', 'CCND1', 'AKT1', 'SNAI1'],\n",
       " 1: ['CENPF', 'CCNE1', 'PI3K', 'CCND1', 'AKT1', 'SNAI1'],\n",
       " 2: ['CEP55', 'CCNE1', 'PI3K', 'CCND1', 'HDAC2', 'SNAI1'],\n",
       " 3: ['CEP55', 'CCNE1', 'PI3K', 'BCL11A', 'CCND1', 'SNAI1'],\n",
       " 4: ['CENPF', 'CCNE1', 'PI3K', 'BCL11A', 'CCND1', 'SNAI1']}"
      ]
     },
     "execution_count": 39,
     "metadata": {},
     "output_type": "execute_result"
    }
   ],
   "source": [
    "effective_node_fvs"
   ]
  },
  {
   "cell_type": "code",
   "execution_count": 33,
   "id": "pretty-nickname",
   "metadata": {},
   "outputs": [],
   "source": [
    "damage_results = dict()\n",
    "erbb2_results = dict()\n",
    "er_results = dict()\n",
    "for idx, fvs in effective_node_fvs.items():\n",
    "    temp = fvs_max_ldoi_condition(G=breast_scc_ex, fvs=fvs, input_condition=['DNA_damage'])\n",
    "    temp['fvs'] = str(fvs)\n",
    "    damage_results[idx] = temp.copy()\n",
    "\n",
    "    temp = fvs_max_ldoi_condition(G=breast_scc_ex, fvs=fvs, input_condition=['~ERBB2'])\n",
    "    temp['fvs'] = str(fvs)\n",
    "    erbb2_results[idx] = temp.copy()\n",
    "\n",
    "    temp = fvs_max_ldoi_condition(G=breast_scc_ex, fvs=fvs, input_condition=['~ER'])\n",
    "    temp['fvs'] = str(fvs)\n",
    "    er_results[idx] = temp.copy()"
   ]
  },
  {
   "cell_type": "code",
   "execution_count": 34,
   "id": "brief-handy",
   "metadata": {},
   "outputs": [
    {
     "name": "stdout",
     "output_type": "stream",
     "text": [
      "FVS: ['CEP55', 'CCNE1', 'PI3K', 'CCND1', 'AKT1', 'ZEB1', 'SNAI1']\n",
      "Damage: 22\tERi: 18\tERBB2i: 19\n",
      "FVS: ['CENPF', 'CCNE1', 'PI3K', 'CCND1', 'AKT1', 'ZEB1', 'SNAI1']\n",
      "Damage: 22\tERi: 18\tERBB2i: 19\n",
      "FVS: ['CEP55', 'CCNE1', 'PI3K', 'CCND1', 'ZEB1', 'HDAC2', 'SNAI1']\n",
      "Damage: 21\tERi: 17\tERBB2i: 18\n",
      "FVS: ['CEP55', 'CCNE1', 'PI3K', 'BCL11A', 'CCND1', 'ZEB1', 'SNAI1']\n",
      "Damage: 21\tERi: 17\tERBB2i: 18\n",
      "FVS: ['CENPF', 'CCNE1', 'PI3K', 'BCL11A', 'CCND1', 'ZEB1', 'SNAI1']\n",
      "Damage: 21\tERi: 17\tERBB2i: 18\n"
     ]
    }
   ],
   "source": [
    "for idx in range(len(fvs_list)): \n",
    "    print('FVS: ' + str(fvs_list[idx]))\n",
    "    print('Damage: ' + str(damage_results[idx]['max_stabled_num_nodes']) + '\\t' + 'ERi: ' + str(er_results[idx]['max_stabled_num_nodes'])\n",
    "         + '\\t' + 'ERBB2i: ' + str(erbb2_results[idx]['max_stabled_num_nodes']))"
   ]
  },
  {
   "cell_type": "code",
   "execution_count": 40,
   "id": "express-bulgarian",
   "metadata": {},
   "outputs": [],
   "source": [
    "results_fvs_list_2del_eq = dict()\n",
    "effective_node_fvs2 = dict()\n",
    "for idx, fvs in effective_node_fvs.items():\n",
    "    effective_node_fvs2[idx] = []\n",
    "    for node in fvs:\n",
    "        fvs_temp = fvs.copy()\n",
    "        fvs_temp.remove(node)\n",
    "        temp = fvs_max_ldoi_condition(G=breast_scc_ex, fvs=fvs_temp, input_condition=[])\n",
    "        temp['fvs'] = str(fvs_temp)\n",
    "        results_fvs_list_2del_eq[str(idx) + '_del_' + node] = temp.copy()\n",
    "#         LDOI_raw, _, _, _ = BDOId.truncated_node_of_influence_BFS(breast_scc_ex, [Mapping[x] for x in fvs_temp])\n",
    "#         LDOI = set([x for x in LDOI_raw if x.find('_') < 0])\n",
    "#         LDOI_gene = [InverseMapping[x] for x in LDOI]\n",
    "# #         ldoi_fvs_del1['del_' + node] = LDOI_gene.copy()\n",
    "#         ldoi_fvs_list_1del_eq[str(idx) + '_del_' + node] = ldoi_fvs_list[idx] == LDOI_gene\n",
    "        if temp['max_stabled_num_nodes'] != results[idx]['max_stabled_num_nodes']:\n",
    "            effective_node_fvs2[idx].append(node)"
   ]
  },
  {
   "cell_type": "code",
   "execution_count": 41,
   "id": "cloudy-personality",
   "metadata": {},
   "outputs": [
    {
     "data": {
      "text/plain": [
       "{0: ['CEP55', 'CCNE1', 'PI3K', 'CCND1', 'AKT1', 'SNAI1'],\n",
       " 1: ['CENPF', 'CCNE1', 'PI3K', 'CCND1', 'AKT1', 'SNAI1'],\n",
       " 2: ['CEP55', 'CCNE1', 'PI3K', 'CCND1', 'HDAC2', 'SNAI1'],\n",
       " 3: ['CEP55', 'CCNE1', 'PI3K', 'BCL11A', 'CCND1', 'SNAI1'],\n",
       " 4: ['CENPF', 'CCNE1', 'PI3K', 'BCL11A', 'CCND1', 'SNAI1']}"
      ]
     },
     "execution_count": 41,
     "metadata": {},
     "output_type": "execute_result"
    }
   ],
   "source": [
    "effective_node_fvs2"
   ]
  },
  {
   "cell_type": "code",
   "execution_count": 43,
   "id": "unlikely-collect",
   "metadata": {},
   "outputs": [
    {
     "data": {
      "text/plain": [
       "{'max_condition': '00001',\n",
       " 'max_stabled_num_nodes': 16,\n",
       " 'max_condiiton_list': ['00001'],\n",
       " 'stable_count': {'ABL1': 0,\n",
       "  'AKT1': 1,\n",
       "  'ATM': 0,\n",
       "  'BCL11A': 1,\n",
       "  'BRAF': 0,\n",
       "  'BRCA1': 0,\n",
       "  'CCNB1': 1,\n",
       "  'CCND1': 1,\n",
       "  'CCNE1': 1,\n",
       "  'CCNG1': 1,\n",
       "  'CDC20': 1,\n",
       "  'CENPF': 0,\n",
       "  'CEP55': 0,\n",
       "  'E2F1': 0,\n",
       "  'ERK1_2': 0,\n",
       "  'GRB7': 1,\n",
       "  'HDAC2': 0,\n",
       "  'MYC': 0,\n",
       "  'p21': 0,\n",
       "  'PI3K': 1,\n",
       "  'RAS': 1,\n",
       "  'SLUG': 1,\n",
       "  'SNAI1': 1,\n",
       "  'Sp1': 0,\n",
       "  'STAT3': 1,\n",
       "  'TWIST': 1,\n",
       "  'ZEB1': 1,\n",
       "  'ZEB2': 1},\n",
       " 'fvs': \"['CCNE1', 'PI3K', 'CCND1', 'AKT1', 'SNAI1']\"}"
      ]
     },
     "execution_count": 43,
     "metadata": {},
     "output_type": "execute_result"
    }
   ],
   "source": [
    "results_fvs_list_2del_eq['0_del_CEP55']"
   ]
  }
 ],
 "metadata": {
  "kernelspec": {
   "display_name": "Python 3",
   "language": "python",
   "name": "python3"
  },
  "language_info": {
   "codemirror_mode": {
    "name": "ipython",
    "version": 3
   },
   "file_extension": ".py",
   "mimetype": "text/x-python",
   "name": "python",
   "nbconvert_exporter": "python",
   "pygments_lexer": "ipython3",
   "version": "3.8.8"
  }
 },
 "nbformat": 4,
 "nbformat_minor": 5
}
