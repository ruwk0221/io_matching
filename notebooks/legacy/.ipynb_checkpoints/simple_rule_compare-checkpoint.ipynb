{
 "cells": [
  {
   "cell_type": "code",
   "execution_count": 1,
   "id": "advised-lighter",
   "metadata": {},
   "outputs": [],
   "source": [
    "import sys\n",
    "import os\n",
    "sys.path.append(os.path.dirname(os.path.abspath(os.path.dirname('__file__'))))\n",
    "import jReversion as jR\n",
    "import pandas as pd\n",
    "import numpy as np\n",
    "import seaborn as sns\n",
    "import matplotlib\n",
    "import matplotlib.pyplot as plt\n",
    "from sklearn.metrics import accuracy_score, recall_score, precision_score, f1_score, balanced_accuracy_score\n",
    "import networkx as nx\n",
    "from statannot import add_stat_annotation"
   ]
  },
  {
   "cell_type": "code",
   "execution_count": 6,
   "id": "tropical-karma",
   "metadata": {},
   "outputs": [
    {
     "name": "stderr",
     "output_type": "stream",
     "text": [
      "/home/jijoo/miniconda3/envs/theor/lib/python3.8/site-packages/sklearn/metrics/_classification.py:1245: UndefinedMetricWarning: Precision is ill-defined and being set to 0.0 due to no predicted samples. Use `zero_division` parameter to control this behavior.\n",
      "  _warn_prf(average, modifier, msg_start, len(result))\n",
      "/home/jijoo/miniconda3/envs/theor/lib/python3.8/site-packages/sklearn/metrics/_classification.py:1245: UndefinedMetricWarning: Precision is ill-defined and being set to 0.0 due to no predicted samples. Use `zero_division` parameter to control this behavior.\n",
      "  _warn_prf(average, modifier, msg_start, len(result))\n",
      "/home/jijoo/miniconda3/envs/theor/lib/python3.8/site-packages/sklearn/metrics/_classification.py:1245: UndefinedMetricWarning: Recall is ill-defined and being set to 0.0 due to no true samples. Use `zero_division` parameter to control this behavior.\n",
      "  _warn_prf(average, modifier, msg_start, len(result))\n",
      "/home/jijoo/miniconda3/envs/theor/lib/python3.8/site-packages/sklearn/metrics/_classification.py:1492: UndefinedMetricWarning: F-score is ill-defined and being set to 0.0 due to no true nor predicted samples. Use `zero_division` parameter to control this behavior.\n",
      "  _warn_prf(\n",
      "/home/jijoo/miniconda3/envs/theor/lib/python3.8/site-packages/sklearn/metrics/_classification.py:1245: UndefinedMetricWarning: Recall is ill-defined and being set to 0.0 due to no true samples. Use `zero_division` parameter to control this behavior.\n",
      "  _warn_prf(average, modifier, msg_start, len(result))\n",
      "/home/jijoo/miniconda3/envs/theor/lib/python3.8/site-packages/sklearn/metrics/_classification.py:1850: UserWarning: y_pred contains classes not in y_true\n",
      "  warnings.warn('y_pred contains classes not in y_true')\n",
      "/home/jijoo/miniconda3/envs/theor/lib/python3.8/site-packages/sklearn/metrics/_classification.py:1245: UndefinedMetricWarning: Recall is ill-defined and being set to 0.0 due to no true samples. Use `zero_division` parameter to control this behavior.\n",
      "  _warn_prf(average, modifier, msg_start, len(result))\n",
      "/home/jijoo/miniconda3/envs/theor/lib/python3.8/site-packages/sklearn/metrics/_classification.py:1850: UserWarning: y_pred contains classes not in y_true\n",
      "  warnings.warn('y_pred contains classes not in y_true')\n",
      "/home/jijoo/miniconda3/envs/theor/lib/python3.8/site-packages/sklearn/metrics/_classification.py:1245: UndefinedMetricWarning: Precision is ill-defined and being set to 0.0 due to no predicted samples. Use `zero_division` parameter to control this behavior.\n",
      "  _warn_prf(average, modifier, msg_start, len(result))\n",
      "/home/jijoo/miniconda3/envs/theor/lib/python3.8/site-packages/sklearn/metrics/_classification.py:1245: UndefinedMetricWarning: Precision is ill-defined and being set to 0.0 due to no predicted samples. Use `zero_division` parameter to control this behavior.\n",
      "  _warn_prf(average, modifier, msg_start, len(result))\n",
      "/home/jijoo/miniconda3/envs/theor/lib/python3.8/site-packages/sklearn/metrics/_classification.py:1245: UndefinedMetricWarning: Recall is ill-defined and being set to 0.0 due to no true samples. Use `zero_division` parameter to control this behavior.\n",
      "  _warn_prf(average, modifier, msg_start, len(result))\n",
      "/home/jijoo/miniconda3/envs/theor/lib/python3.8/site-packages/sklearn/metrics/_classification.py:1492: UndefinedMetricWarning: F-score is ill-defined and being set to 0.0 due to no true nor predicted samples. Use `zero_division` parameter to control this behavior.\n",
      "  _warn_prf(\n",
      "/home/jijoo/miniconda3/envs/theor/lib/python3.8/site-packages/sklearn/metrics/_classification.py:1245: UndefinedMetricWarning: Precision is ill-defined and being set to 0.0 due to no predicted samples. Use `zero_division` parameter to control this behavior.\n",
      "  _warn_prf(average, modifier, msg_start, len(result))\n",
      "/home/jijoo/miniconda3/envs/theor/lib/python3.8/site-packages/sklearn/metrics/_classification.py:1245: UndefinedMetricWarning: Precision is ill-defined and being set to 0.0 due to no predicted samples. Use `zero_division` parameter to control this behavior.\n",
      "  _warn_prf(average, modifier, msg_start, len(result))\n",
      "/home/jijoo/miniconda3/envs/theor/lib/python3.8/site-packages/sklearn/metrics/_classification.py:1245: UndefinedMetricWarning: Precision is ill-defined and being set to 0.0 due to no predicted samples. Use `zero_division` parameter to control this behavior.\n",
      "  _warn_prf(average, modifier, msg_start, len(result))\n",
      "/home/jijoo/miniconda3/envs/theor/lib/python3.8/site-packages/sklearn/metrics/_classification.py:1245: UndefinedMetricWarning: Recall is ill-defined and being set to 0.0 due to no true samples. Use `zero_division` parameter to control this behavior.\n",
      "  _warn_prf(average, modifier, msg_start, len(result))\n",
      "/home/jijoo/miniconda3/envs/theor/lib/python3.8/site-packages/sklearn/metrics/_classification.py:1492: UndefinedMetricWarning: F-score is ill-defined and being set to 0.0 due to no true nor predicted samples. Use `zero_division` parameter to control this behavior.\n",
      "  _warn_prf(\n"
     ]
    }
   ],
   "source": [
    "model_list = [jR.grieco(), jR.erbb(), jR.blt(), jR.bauer(), jR.cohen(), jR.colitis_jijoo(), jR.saez()]\n",
    "dict_list = []\n",
    "rc_class_list = ['C0', 'C1', 'C2', 'C3']\n",
    "for model in model_list:\n",
    "    network_name = model['network_name']\n",
    "    defined_logic_pd = pd.read_csv('../data/' + network_name + '_table_for_original_network.tsv', sep='\\t').sort_values(by='node').set_index('node')\n",
    "    simple_rule_pd = pd.read_csv('../data/' + network_name + '_simple_table_for_original_network.tsv', sep='\\t').sort_values(by='node').set_index('node')\n",
    "    merge_pd = pd.merge(left=defined_logic_pd['Class'], right=simple_rule_pd['Class'], left_index=True, right_index=True, how='left',suffixes=('_dl', '_sr'))\n",
    "    \n",
    "    for rc_class in rc_class_list:\n",
    "        real_true = merge_pd['Class_dl'] == rc_class\n",
    "        positive = merge_pd['Class_sr'] == rc_class\n",
    "        \n",
    "        pre = precision_score(real_true, positive)\n",
    "        rec = recall_score(real_true, positive)\n",
    "        acc = accuracy_score(real_true, positive)\n",
    "        bacc = balanced_accuracy_score(real_true, positive)\n",
    "        f1 = f1_score(real_true, positive)\n",
    "        \n",
    "        dict_list.append({'network_name': network_name,\n",
    "                          'class': rc_class,\n",
    "                          'pre': pre, 'rec': rec, 'acc': acc, 'bacc': bacc, 'f1': f1})\n",
    "        "
   ]
  },
  {
   "cell_type": "code",
   "execution_count": 8,
   "id": "broadband-mileage",
   "metadata": {},
   "outputs": [
    {
     "name": "stdout",
     "output_type": "stream",
     "text": [
      "  network_name class       pre       rec       acc      bacc        f1\n",
      "0       Grieco    C0  0.714286  0.833333  0.869565  0.857843  0.769231\n",
      "1       Grieco    C1  0.700000  0.736842  0.760870  0.757310  0.717949\n",
      "2       Grieco    C2  0.000000  0.000000  0.913043  0.500000  0.000000\n",
      "3       Grieco    C3  0.750000  0.818182  0.891304  0.866234  0.782609\n",
      "4         ERBB    C0  0.333333  0.250000  0.722222  0.553571  0.285714\n"
     ]
    }
   ],
   "source": [
    "result_pd = pd.DataFrame(dict_list)\n",
    "print(result_pd.head())"
   ]
  },
  {
   "cell_type": "code",
   "execution_count": 10,
   "id": "taken-theology",
   "metadata": {},
   "outputs": [
    {
     "data": {
      "text/plain": [
       "<AxesSubplot:xlabel='network_name', ylabel='acc'>"
      ]
     },
     "execution_count": 10,
     "metadata": {},
     "output_type": "execute_result"
    },
    {
     "data": {
      "image/png": "[encoded data removed]",
      "text/plain": [
       "<Figure size 432x288 with 1 Axes>"
      ]
     },
     "metadata": {
      "needs_background": "light"
     },
     "output_type": "display_data"
    }
   ],
   "source": [
    "sns.barplot(data=result_pd, x='network_name', y='acc', hue='class')"
   ]
  }
 ],
 "metadata": {
  "kernelspec": {
   "display_name": "Python 3",
   "language": "python",
   "name": "python3"
  },
  "language_info": {
   "codemirror_mode": {
    "name": "ipython",
    "version": 3
   },
   "file_extension": ".py",
   "mimetype": "text/x-python",
   "name": "python",
   "nbconvert_exporter": "python",
   "pygments_lexer": "ipython3",
   "version": "3.8.8"
  }
 },
 "nbformat": 4,
 "nbformat_minor": 5
}
