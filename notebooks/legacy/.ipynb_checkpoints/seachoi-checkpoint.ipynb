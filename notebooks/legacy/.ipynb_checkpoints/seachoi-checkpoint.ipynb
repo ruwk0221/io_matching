{
 "cells": [
  {
   "cell_type": "code",
   "execution_count": 1,
   "id": "higher-denver",
   "metadata": {},
   "outputs": [],
   "source": [
    "import sys\n",
    "import os\n",
    "sys.path.append('/home/jijoo/miniconda3/envs/theor/lib/python3.8/site-packages/cana') # cana package 위치\n",
    "sys.path.append(os.path.dirname(os.path.abspath(os.path.dirname('__file__'))))\n",
    "\n",
    "import math\n",
    "import numpy as np\n",
    "import pandas as pd\n",
    "pd.options.display.float_format = '{:.2g}'.format\n",
    "import matplotlib as mpl\n",
    "import matplotlib.pyplot as plt\n",
    "import random\n",
    "import graphviz\n",
    "from IPython.display import HTML\n",
    "#\n",
    "import cana\n",
    "from cana.datasets.bio import *\n",
    "from cana.drawing.canalizing_map import draw_canalizing_map_graphviz\n",
    "import networkx as nx\n",
    "import par_helper as ph\n",
    "import jReversion as jR\n",
    "from LDOI import BooleanDOI_processing as BDOIp"
   ]
  },
  {
   "cell_type": "code",
   "execution_count": null,
   "id": "looking-dividend",
   "metadata": {},
   "outputs": [],
   "source": [
    "BooleanRuleFileName = '../models/Breastnetwork_tempp.txt'\n",
    "NetworkName = 'Breastnetwork_tempp'\n",
    "Prefix, Suffix = 'n', 'n'\n",
    "TempI = jR.initialize(BooleanRuleFileName, Prefix, Suffix)\n",
    "Mapping = TempI['mapping']\n",
    "InverseMapping = TempI['inverse_mapping']\n",
    "GRead = TempI['Gread']\n",
    "ReadNodes = TempI['read_nodes']\n",
    "\n",
    "GReduced = BDOIp.Get_reduced_network(GRead)"
   ]
  },
  {
   "cell_type": "code",
   "execution_count": null,
   "id": "cardiovascular-sandwich",
   "metadata": {},
   "outputs": [],
   "source": [
    "breast_ex = ph.par_get_expanded_network(GReduced, prefix=Prefix, suffix=Suffix, worker=10)"
   ]
  },
  {
   "cell_type": "code",
   "execution_count": null,
   "id": "cleared-nitrogen",
   "metadata": {},
   "outputs": [],
   "source": [
    "breast = cana.boolean_network.BooleanNetwork.from_file('../models/Breastnetwork_tempp.txt', type='logical') # logic 파일 위치"
   ]
  },
  {
   "cell_type": "code",
   "execution_count": null,
   "id": "judicial-guest",
   "metadata": {},
   "outputs": [],
   "source": [
    "threshold = 0.5\n",
    "breast_eg = breast.effective_graph(bound='mean', threshold=threshold)"
   ]
  },
  {
   "cell_type": "code",
   "execution_count": null,
   "id": "deluxe-prevention",
   "metadata": {},
   "outputs": [],
   "source": [
    "breast_eg = nx.relabel_nodes(breast_eg, ReadNodes)\n",
    "nx.write_gml(breast_eg, path='../networks/Breastnetwork_eg_'+ str(threshold) +'.gml') # effective graph 저장 위치 및 파일명"
   ]
  },
  {
   "cell_type": "code",
   "execution_count": null,
   "id": "accessible-rogers",
   "metadata": {},
   "outputs": [],
   "source": [
    "breast_ex_re = nx.relabel_nodes(breast_ex, InverseMapping)"
   ]
  },
  {
   "cell_type": "code",
   "execution_count": null,
   "id": "everyday-criticism",
   "metadata": {},
   "outputs": [],
   "source": [
    "InverseReadNodes = dict()\n",
    "for key, val in ReadNodes.items():\n",
    "    InverseReadNodes[val] = key"
   ]
  },
  {
   "cell_type": "code",
   "execution_count": null,
   "id": "israeli-tuning",
   "metadata": {},
   "outputs": [],
   "source": [
    "nx.write_gml(breast_ex, path='../networks/Breastnetwork_expanded.gml')"
   ]
  },
  {
   "cell_type": "code",
   "execution_count": null,
   "id": "equal-profile",
   "metadata": {},
   "outputs": [],
   "source": [
    "condition = {InverseReadNodes['Estrogen']: 0, \n",
    "             InverseReadNodes['EGF']: 0, \n",
    "             InverseReadNodes['Androgen']: 0,\n",
    "             InverseReadNodes['DEL_JAG']: 0,\n",
    "             InverseReadNodes['FGF']: 0,\n",
    "             InverseReadNodes['TGF']: 0,\n",
    "             InverseReadNodes['DNA_damage']:0}\n",
    "breast_cond_eg = breast.conditional_effective_graph(conditioned_nodes=condition, bound='mean', threshold=threshold)"
   ]
  },
  {
   "cell_type": "code",
   "execution_count": null,
   "id": "billion-columbus",
   "metadata": {},
   "outputs": [],
   "source": [
    "for node in breast_cond_eg:\n",
    "    if breast_cond_eg.nodes[node]['conditioned_state'] == None:\n",
    "        breast_cond_eg.nodes[node]['conditioned_state'] = 'None'"
   ]
  },
  {
   "cell_type": "code",
   "execution_count": null,
   "id": "educational-deviation",
   "metadata": {},
   "outputs": [],
   "source": [
    "breast_cond_eg = nx.relabel_nodes(breast_cond_eg, ReadNodes)\n",
    "nx.write_gml(breast_cond_eg, path='../networks/Breastnetwork_cond_eg_'+ str(threshold) +'.gml')"
   ]
  },
  {
   "cell_type": "code",
   "execution_count": null,
   "id": "mobile-geography",
   "metadata": {},
   "outputs": [],
   "source": [
    "from LDOI import BooleanDOI_DOI as BDOId"
   ]
  },
  {
   "cell_type": "code",
   "execution_count": null,
   "id": "prospective-comparative",
   "metadata": {},
   "outputs": [],
   "source": [
    "Mapping"
   ]
  },
  {
   "cell_type": "code",
   "execution_count": null,
   "id": "centered-portfolio",
   "metadata": {},
   "outputs": [],
   "source": [
    "fvs = ['AKT1', 'CEP55', 'CCNE1', 'CCND1', 'ZEB1', 'SNAI1', 'CENPF', 'HDAC2', 'BCL11A']\n",
    "ldoi_fvs = dict()\n",
    "for node in fvs:\n",
    "    LDOI_raw, _, _, _ = BDOId.truncated_node_of_influence_BFS(breast_ex, [Mapping['~'+node]])\n",
    "    LDOI = set([x for x in LDOI_raw if x.find('_') < 0])\n",
    "    LDOI_gene = [InverseMapping[x] for x in LDOI]\n",
    "    ldoi_fvs['~' + node] = LDOI_gene.copy()"
   ]
  },
  {
   "cell_type": "code",
   "execution_count": null,
   "id": "consolidated-clearing",
   "metadata": {},
   "outputs": [],
   "source": [
    "ldoi_fvs"
   ]
  },
  {
   "cell_type": "code",
   "execution_count": null,
   "id": "agricultural-extent",
   "metadata": {},
   "outputs": [],
   "source": [
    "fvs_list = [['AKT1', 'CEP55', 'CCNE1', 'CCND1', 'ZEB1', 'SNAI1'],\n",
    "['AKT1', 'CCNE1', 'CCND1', 'CENPF', 'ZEB1', 'SNAI1'],\n",
    "['HDAC2', 'CEP55', 'CCNE1', 'CCND1', 'ZEB1', 'SNAI1'],\n",
    "['HDAC2', 'CCNE1', 'CCND1', 'CENPF', 'ZEB1', 'SNAI1'],\n",
    "['CEP55', 'CCNE1', 'CCND1', 'BCL11A', 'ZEB1', 'SNAI1'],\n",
    "['CCNE1', 'CCND1', 'BCL11A', 'CENPF', 'ZEB1', 'SNAI1']\n",
    "]"
   ]
  },
  {
   "cell_type": "code",
   "execution_count": null,
   "id": "backed-profile",
   "metadata": {},
   "outputs": [],
   "source": [
    "LDOI_raw, _, _, _ = BDOId.truncated_node_of_influence_BFS(breast_ex, [Mapping['~'+x] for x in fvs_list[0]])\n",
    "LDOI = set([x for x in LDOI_raw if x.find('_') < 0])\n",
    "LDOI_gene = [InverseMapping[x] for x in LDOI]\n",
    "\n",
    "ldoi_fvs_ori = LDOI_gene.copy()\n",
    "\n",
    "ldoi_fvs_del1 = dict()\n",
    "for node in fvs_list[0]:\n",
    "    fvs_temp = fvs_list[0].copy()\n",
    "    fvs_temp.remove(node)\n",
    "    LDOI_raw, _, _, _ = BDOId.truncated_node_of_influence_BFS(breast_ex, [Mapping['~'+x] for x in fvs_temp])\n",
    "    LDOI = set([x for x in LDOI_raw if x.find('_') < 0])\n",
    "    LDOI_gene = [InverseMapping[x] for x in LDOI]\n",
    "    ldoi_fvs_del1['del_' + node] = LDOI_gene.copy()"
   ]
  },
  {
   "cell_type": "code",
   "execution_count": null,
   "id": "renewable-little",
   "metadata": {},
   "outputs": [],
   "source": [
    "for key, val in ldoi_fvs_del1.items():\n",
    "    print(key + ': ' + str(val == ldoi_fvs_ori))"
   ]
  },
  {
   "cell_type": "code",
   "execution_count": null,
   "id": "another-evanescence",
   "metadata": {},
   "outputs": [],
   "source": [
    "ldoi_fvs_list = dict()\n",
    "for idx, fvs in enumerate(fvs_list):\n",
    "    LDOI_raw, _, _, _ = BDOId.truncated_node_of_influence_BFS(breast_ex, [Mapping['~'+x] for x in fvs])\n",
    "    LDOI = set([x for x in LDOI_raw if x.find('_') < 0])\n",
    "    LDOI_gene = [InverseMapping[x] for x in LDOI]\n",
    "    ldoi_fvs_list[idx] = LDOI_gene.copy()"
   ]
  },
  {
   "cell_type": "code",
   "execution_count": null,
   "id": "awful-journalist",
   "metadata": {
    "scrolled": false
   },
   "outputs": [],
   "source": [
    "ldoi_fvs_list"
   ]
  },
  {
   "cell_type": "code",
   "execution_count": null,
   "id": "endangered-brook",
   "metadata": {},
   "outputs": [],
   "source": [
    "ldoi_fvs_list_1del_eq = dict()\n",
    "effective_node_fvs = dict()\n",
    "for idx, fvs in enumerate(fvs_list):\n",
    "    effective_node_fvs[idx] = []\n",
    "    for node in fvs:\n",
    "        fvs_temp = fvs.copy()\n",
    "        fvs_temp.remove(node)\n",
    "        LDOI_raw, _, _, _ = BDOId.truncated_node_of_influence_BFS(breast_ex, [Mapping['~'+x] for x in fvs_temp])\n",
    "        LDOI = set([x for x in LDOI_raw if x.find('_') < 0])\n",
    "        LDOI_gene = [InverseMapping[x] for x in LDOI]\n",
    "#         ldoi_fvs_del1['del_' + node] = LDOI_gene.copy()\n",
    "        ldoi_fvs_list_1del_eq[str(idx) + '_del_' + node] = ldoi_fvs_list[idx] == LDOI_gene\n",
    "        if ldoi_fvs_list[idx] != LDOI_gene:\n",
    "            effective_node_fvs[idx].append(node)"
   ]
  },
  {
   "cell_type": "code",
   "execution_count": null,
   "id": "deadly-antibody",
   "metadata": {
    "scrolled": false
   },
   "outputs": [],
   "source": [
    "ldoi_fvs_list_1del_eq"
   ]
  },
  {
   "cell_type": "code",
   "execution_count": null,
   "id": "white-annual",
   "metadata": {},
   "outputs": [],
   "source": [
    "effective_node_fvs"
   ]
  },
  {
   "cell_type": "code",
   "execution_count": null,
   "id": "innovative-subscriber",
   "metadata": {},
   "outputs": [],
   "source": [
    "ldoi_effective_fvs = dict()\n",
    "for idx, fvs in effective_node_fvs.items():\n",
    "    fvs_temp = fvs.copy()\n",
    "    LDOI_raw, _, _, _ = BDOId.truncated_node_of_influence_BFS(breast_ex, [Mapping['~'+x] for x in fvs_temp])\n",
    "    LDOI = set([x for x in LDOI_raw if x.find('_') < 0])\n",
    "    LDOI_gene = [InverseMapping[x] for x in LDOI]\n",
    "#     ldoi_fvs_del1['del_' + node] = LDOI_gene.copy()\n",
    "    ldoi_effective_fvs[str(idx)] = ldoi_fvs_list[idx] == LDOI_gene\n"
   ]
  },
  {
   "cell_type": "code",
   "execution_count": null,
   "id": "martial-container",
   "metadata": {
    "scrolled": true
   },
   "outputs": [],
   "source": [
    "ldoi_effective_fvs"
   ]
  },
  {
   "cell_type": "code",
   "execution_count": null,
   "id": "paperback-undergraduate",
   "metadata": {},
   "outputs": [],
   "source": [
    "cana_fvs = cana.control.fvs.fvs_bruteforce(directed_graph=GRead, keep_self_loops=True)"
   ]
  },
  {
   "cell_type": "code",
   "execution_count": null,
   "id": "aquatic-cross",
   "metadata": {},
   "outputs": [],
   "source": [
    "reduced_network = nx.DiGraph()\n",
    "reduced_network.add_edges_from(GRead.edges())\n",
    "reduced_network = nx.relabel_nodes(reduced_network, ReadNodes)"
   ]
  },
  {
   "cell_type": "code",
   "execution_count": null,
   "id": "demanding-factory",
   "metadata": {
    "scrolled": false
   },
   "outputs": [],
   "source": [
    "nx.write_gml(reduced_network, path='../networks/Breastnetwork_reduced.gml')"
   ]
  },
  {
   "cell_type": "code",
   "execution_count": null,
   "id": "preliminary-jesus",
   "metadata": {},
   "outputs": [],
   "source": [
    "# cana_fvs = cana.control.fvs.fvs_bruteforce(directed_graph=reduced_network, max_search=10, keep_self_loops=True)\n",
    "cana_fvs = cana.control.fvs.fvs_grasp(directed_graph=reduced_network, max_iter=10000, keep_self_loops=True)"
   ]
  },
  {
   "cell_type": "code",
   "execution_count": null,
   "id": "infinite-charles",
   "metadata": {},
   "outputs": [],
   "source": [
    "cana_fvs"
   ]
  },
  {
   "cell_type": "code",
   "execution_count": null,
   "id": "breeding-criminal",
   "metadata": {},
   "outputs": [],
   "source": [
    "breast_cond_eg = breast.conditional_effective_graph(conditioned_nodes=condition, bound='mean', threshold=0.35)"
   ]
  },
  {
   "cell_type": "code",
   "execution_count": null,
   "id": "checked-transsexual",
   "metadata": {},
   "outputs": [],
   "source": [
    "reduced_network_eg = nx.DiGraph()\n",
    "reduced_network_eg.add_edges_from(breast_cond_eg.edges())\n",
    "reduced_network_eg = nx.relabel_nodes(reduced_network_eg, ReadNodes)"
   ]
  },
  {
   "cell_type": "code",
   "execution_count": null,
   "id": "modified-efficiency",
   "metadata": {},
   "outputs": [],
   "source": [
    "cana_fvs_cond = cana.control.fvs.fvs_grasp(directed_graph=reduced_network_eg, max_iter=5000, keep_self_loops=True)"
   ]
  },
  {
   "cell_type": "code",
   "execution_count": null,
   "id": "recognized-liquid",
   "metadata": {},
   "outputs": [],
   "source": [
    "cana_fvs_cond"
   ]
  },
  {
   "cell_type": "code",
   "execution_count": null,
   "id": "southern-yellow",
   "metadata": {},
   "outputs": [],
   "source": [
    "nx.write_gml(reduced_network_eg, path='../networks/Breastnetwork_cond_red_eg_'+ str(threshold) +'.gml')"
   ]
  },
  {
   "cell_type": "code",
   "execution_count": null,
   "id": "mounted-cocktail",
   "metadata": {},
   "outputs": [],
   "source": [
    "fvs_list = [['~SNAI1', 'GRB7'],\n",
    "['~SNAI1', '~PI3K']]\n",
    "\n",
    "\n",
    "ldoi_fvs_list = dict()\n",
    "for idx, fvs in enumerate(fvs_list):\n",
    "    LDOI_raw, _, _, _ = BDOId.truncated_node_of_influence_BFS(breast_ex, [Mapping[x] for x in fvs])\n",
    "    LDOI = set([x for x in LDOI_raw if x.find('_') < 0])\n",
    "    LDOI_gene = [InverseMapping[x] for x in LDOI]\n",
    "    ldoi_fvs_list[idx] = LDOI_gene.copy()"
   ]
  },
  {
   "cell_type": "code",
   "execution_count": null,
   "id": "sitting-rescue",
   "metadata": {
    "scrolled": true
   },
   "outputs": [],
   "source": [
    "ldoi_fvs_list"
   ]
  },
  {
   "cell_type": "code",
   "execution_count": null,
   "id": "sought-shell",
   "metadata": {},
   "outputs": [],
   "source": [
    "subnetwork_nodeName = ['ABL1', 'AKT1', 'ATM', 'BCL11A', 'BRAF', 'BRCA1', 'CCNB1', 'CCND1', 'CCNE1', 'CCNG1', 'CDC20', 'CENPF', 'CEP55', 'E2F1', 'ERK1_2', 'GRB7', 'HDAC2', 'MYC', 'p21',\n",
    "                       'PI3K', 'RAS', 'SLUG', 'SNAI1', 'Sp1', 'STAT3', 'TWIST', 'ZEB1', 'ZEB2']\n",
    "subnetwork_nodeIdx = [InverseReadNodes[x] for x in subnetwork_nodeName]\n",
    "breast_scc_ex = jR.Get_expanded_subnetwork(TempI['Gread'], nodes=subnetwork_nodeIdx)"
   ]
  }
 ],
 "metadata": {
  "kernelspec": {
   "display_name": "Python 3",
   "language": "python",
   "name": "python3"
  },
  "language_info": {
   "codemirror_mode": {
    "name": "ipython",
    "version": 3
   },
   "file_extension": ".py",
   "mimetype": "text/x-python",
   "name": "python",
   "nbconvert_exporter": "python",
   "pygments_lexer": "ipython3",
   "version": "3.8.8"
  }
 },
 "nbformat": 4,
 "nbformat_minor": 5
}
