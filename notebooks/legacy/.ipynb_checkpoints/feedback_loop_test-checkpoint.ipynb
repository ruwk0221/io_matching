{
 "cells": [
  {
   "cell_type": "code",
   "execution_count": 1,
   "metadata": {},
   "outputs": [],
   "source": [
    "import sys\n",
    "import os\n",
    "sys.path.append(os.path.dirname(os.path.abspath(os.path.dirname('__file__'))))\n",
    "import jReversion as jR\n",
    "import pandas as pd\n",
    "import numpy as np\n",
    "import seaborn as sns\n",
    "import matplotlib\n",
    "import matplotlib.pyplot as plt\n",
    "from sklearn.metrics import accuracy_score, recall_score, precision_score, f1_score, balanced_accuracy_score\n",
    "import networkx as nx\n",
    "from statannot import add_stat_annotation"
   ]
  },
  {
   "cell_type": "code",
   "execution_count": null,
   "metadata": {},
   "outputs": [],
   "source": [
    "#load data\n",
    "# network_name_list= [Grieco, TLGLNetwork, bauer, ERBB, fibroblast, saez, BLT, colitis_jijoo, prostate]\n",
    "# integrated_data = pd.DataFrame()\n",
    "Model = jR.grieco()\n",
    "BooleanRuleFileName = '../' + Model['BooleanRule_filename']\n",
    "network_name = Model['network_name']\n",
    "\n",
    "NumInputs = Model['num_inputs']\n",
    "NumInputConditions = Model['num_input_conditions']\n",
    "\n",
    "InputConditions = Model['input_conditions']\n",
    "\n",
    "OutputNodes = Model['output_nodes']\n",
    "InputNodes = Model['input_nodes']\n",
    "\n",
    "# Set parameters\n",
    "# Note the node name for Gread is the index (integer), one can encode the nodename by adding prefix and suffix\n",
    "# If the node name from the input file is not this simple, one need to create a dictionary to record the mapping\n",
    "Prefix, Suffix = 'n', 'n'\n",
    "\n",
    "TempI = jR.initialize(BooleanRuleFileName, Prefix, Suffix)\n",
    "Mapping = TempI['mapping']\n",
    "InverseMapping = TempI['inverse_mapping']\n",
    "GRead = TempI['Gread']\n",
    "ReadNodes = TempI['read_nodes']\n",
    "if Model['reduction_required']:\n",
    "    GRead = BDOIp.Get_reduced_network(GRead)\n",
    "\n",
    "# CutOffRange = [3, 4, 5, 6, 7]\n",
    "GRead.remove_edges_from(list(nx.selfloop_edges(GRead)))\n",
    "\n",
    "table_original_network = pd.read_csv('../data/' + network_name + '_table_for_original_network.tsv', sep='\\t').sort_values(by='node').set_index('node')\n",
    "# canalizing_test = pd.read_csv('../data/' + network_name + '_canalizing_check_for_original_network.tsv', sep='\\t').sort_values(by='node').set_index('node')\n",
    "# ffl_test = pd.read_csv('../data/' + network_name + '_ffl_test.tsv', sep='\\t').sort_values(by='node').set_index('node')\n",
    "# table_original_network = table_original_network.sort_values(by='node')\n",
    "# ffl_test = pd.read_csv('../data/' + network_name + '_ffl_test.tsv', sep='\\t').sort_values(by='node').set_index('node')\n",
    "# canalizing_test = pd.read_csv('../data/' + network_name + '_canalizing_check_for_original_network.tsv', sep='\\t').sort_values(by='node').set_index('node')\n",
    "\n",
    "original_cycle = nx.simple_cycles(GRead)\n",
    "for node in GRead.node:\n",
    "    GCopy = GRead.copy()\n",
    "    GCopy.remove_node(node)\n",
    "    "
   ]
  }
 ],
 "metadata": {
  "kernelspec": {
   "display_name": "Python 3",
   "language": "python",
   "name": "python3"
  },
  "language_info": {
   "codemirror_mode": {
    "name": "ipython",
    "version": 3
   },
   "file_extension": ".py",
   "mimetype": "text/x-python",
   "name": "python",
   "nbconvert_exporter": "python",
   "pygments_lexer": "ipython3",
   "version": "3.5.2"
  }
 },
 "nbformat": 4,
 "nbformat_minor": 4
}
