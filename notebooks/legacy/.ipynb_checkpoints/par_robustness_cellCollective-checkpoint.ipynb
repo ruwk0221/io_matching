{
 "cells": [
  {
   "cell_type": "code",
   "execution_count": 1,
   "id": "attached-marker",
   "metadata": {},
   "outputs": [],
   "source": [
    "import sys\n",
    "import os\n",
    "sys.path.append(os.path.dirname(os.path.abspath(os.path.dirname('__file__'))))\n",
    "import jReversion as jR\n",
    "import pandas as pd\n",
    "import numpy as np\n",
    "import seaborn as sns\n",
    "import matplotlib\n",
    "import matplotlib.pyplot as plt\n",
    "from sklearn.metrics import accuracy_score, recall_score, precision_score, f1_score, balanced_accuracy_score\n",
    "import networkx as nx\n",
    "from statannot import add_stat_annotation\n",
    "import robustness as rb\n",
    "import concurrent.futures"
   ]
  },
  {
   "cell_type": "code",
   "execution_count": 2,
   "id": "vertical-brown",
   "metadata": {},
   "outputs": [],
   "source": [
    "# networkModel =['bortezomib',\n",
    "#                 # 'igvh',\n",
    "#                 'apoptosis',\n",
    "#                 # 'aurora',\n",
    "#                 'bt474_long',\n",
    "#                 #'bt474_short',\n",
    "#                 # 'cd4t',\n",
    "#                 'colitis',\n",
    "#                 'death',\n",
    "#                 # 'egfr',\n",
    "#                 # 'erbb',\n",
    "#                 # 'fa_brca',\n",
    "#                 # 'fa_check',\n",
    "#                 'hcc1954_long',\n",
    "#                 #'hcc1954_short',\n",
    "#                 'hgf',\n",
    "#                 'mammalian',\n",
    "#                 # 'mammalian_2006',\n",
    "#                 'mapk',\n",
    "#                 'oxidative',\n",
    "#                 # 'pro_inflammatory',\n",
    "#                 #'fibroblasts',\n",
    "#                 'skbr3_long',\n",
    "#                 #'skbr3_short',\n",
    "#                 'tlgl_2008',\n",
    "#                 'tlgl_2011',\n",
    "#                 # 'tlgl_2011_reduced',\n",
    "#                 # 'prostate',\n",
    "#                 'migration']"
   ]
  },
  {
   "cell_type": "code",
   "execution_count": 3,
   "id": "formed-lender",
   "metadata": {},
   "outputs": [],
   "source": [
    "networkModel =['bortezomib',\n",
    "                # 'igvh',\n",
    "                'apoptosis',\n",
    "                # 'aurora',\n",
    "                'bt474_long',\n",
    "                'bt474_short',\n",
    "                # 'cd4t',\n",
    "                'colitis',\n",
    "                'death',\n",
    "                # 'egfr',\n",
    "                # 'erbb',\n",
    "                # 'fa_brca',\n",
    "                # 'fa_check',\n",
    "                'hcc1954_long',\n",
    "                'hcc1954_short',\n",
    "                'hgf',\n",
    "                'mammalian',\n",
    "                # 'mammalian_2006',\n",
    "                'mapk',\n",
    "                'oxidative',\n",
    "                # 'pro_inflammatory',\n",
    "                'fibroblasts',\n",
    "                'skbr3_long',\n",
    "                'skbr3_short',\n",
    "                'tlgl_2008',\n",
    "                'tlgl_2011',\n",
    "                # 'tlgl_2011_reduced',\n",
    "                # 'prostate',\n",
    "                'migration']"
   ]
  },
  {
   "cell_type": "code",
   "execution_count": 4,
   "id": "massive-marketplace",
   "metadata": {},
   "outputs": [
    {
     "name": "stdout",
     "output_type": "stream",
     "text": [
      "67\n",
      "41\n",
      "25\n",
      "16\n",
      "70\n",
      "28\n",
      "25\n",
      "16\n",
      "68\n",
      "20\n",
      "53\n",
      "19\n",
      "139\n",
      "25\n",
      "16\n",
      "61\n",
      "60\n",
      "32\n"
     ]
    }
   ],
   "source": [
    "for model in networkModel:\n",
    "    temp = jR.cellcollective(model, 'n', 'n', '../')\n",
    "    print(len(temp['Gread']))"
   ]
  },
  {
   "cell_type": "code",
   "execution_count": null,
   "id": "loved-andorra",
   "metadata": {},
   "outputs": [],
   "source": [
    "robustness_CC = dict()\n",
    "with concurrent.futures.ProcessPoolExecutor(max_workers=5) as executor:\n",
    "    futures = {executor.submit(rb.par_robustness_primary_attractor, model=M, directory='../', state_num=2**20): M for M in networkModel}\n",
    "\n",
    "for future in concurrent.futures.as_completed(futures):\n",
    "    Model = futures[future]\n",
    "    temp = future.result()\n",
    "    robustness_CC[Model] = temp['robustness'].copy()   \n",
    "    "
   ]
  },
  {
   "cell_type": "code",
   "execution_count": null,
   "id": "frozen-pierre",
   "metadata": {},
   "outputs": [],
   "source": [
    "robustness_CC"
   ]
  },
  {
   "cell_type": "code",
   "execution_count": null,
   "id": "integral-basic",
   "metadata": {},
   "outputs": [],
   "source": [
    "data = pd.DataFrame(columns=['network', 'node', 'mut', 'robustness'])\n",
    "for model in networkModel:\n",
    "    for node, rb_dict in robustness_CC[model].items():\n",
    "        temp_oe = {'network': model, 'node': node, 'mut': 'oe', 'robustness': rb_dict['oe']}\n",
    "        temp_ko = {'network': model, 'node': node, 'mut': 'ko', 'robustness': rb_dict['ko']}\n",
    "        data = data.append(temp_oe, ignore_index=True)\n",
    "        data = data.append(temp_ko, ignore_index=True)"
   ]
  },
  {
   "cell_type": "code",
   "execution_count": null,
   "id": "helpful-passage",
   "metadata": {},
   "outputs": [],
   "source": [
    "data.to_csv('../data/robustness_cellCollective_2_20.csv')"
   ]
  },
  {
   "cell_type": "code",
   "execution_count": null,
   "id": "wrapped-chase",
   "metadata": {},
   "outputs": [],
   "source": [
    "g = sns.catplot(x='network', y='robustness', data=data, kind='boxen', height=6, aspect=2.5)"
   ]
  },
  {
   "cell_type": "code",
   "execution_count": null,
   "id": "complicated-cloud",
   "metadata": {},
   "outputs": [],
   "source": [
    "# data_pivot = pd.pivot_table(data, index='network', values='robustness', aggfunc='mean')"
   ]
  },
  {
   "cell_type": "code",
   "execution_count": null,
   "id": "after-stereo",
   "metadata": {},
   "outputs": [],
   "source": [
    "# data_pivot"
   ]
  }
 ],
 "metadata": {
  "kernelspec": {
   "display_name": "Python 3",
   "language": "python",
   "name": "python3"
  },
  "language_info": {
   "codemirror_mode": {
    "name": "ipython",
    "version": 3
   },
   "file_extension": ".py",
   "mimetype": "text/x-python",
   "name": "python",
   "nbconvert_exporter": "python",
   "pygments_lexer": "ipython3",
   "version": "3.8.8"
  }
 },
 "nbformat": 4,
 "nbformat_minor": 5
}
