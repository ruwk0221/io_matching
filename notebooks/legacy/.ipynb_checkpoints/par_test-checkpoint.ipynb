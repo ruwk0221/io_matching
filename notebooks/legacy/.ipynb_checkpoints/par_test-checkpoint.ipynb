{
 "cells": [
  {
   "cell_type": "code",
   "execution_count": 1,
   "metadata": {},
   "outputs": [],
   "source": [
    "import sys\n",
    "import os\n",
    "sys.path.append(os.path.dirname(os.path.abspath(os.path.dirname('__file__'))))\n",
    "import jReversion as jR\n",
    "from LDOI import BooleanDOI_processing as BDOIp\n",
    "from LDOI import qm\n",
    "import pandas as pd\n",
    "import numpy as np\n",
    "import networkx as nx\n",
    "import concurrent.futures\n",
    "import par_helper as ph\n",
    "from collections import deque"
   ]
  },
  {
   "cell_type": "code",
   "execution_count": 2,
   "metadata": {},
   "outputs": [],
   "source": [
    "# def par_get_func(Gread, prefix, suffix, equal_sign, node):\n",
    "#     ON_list=[x for x in Gread.nodes[node]['update_rules'].keys() if Gread.nodes[node]['update_rules'][x]==1]\n",
    "#     rule=BDOIp.Getfunc(Gread.nodes[node]['update_nodes'],node,ON_list,prefix=prefix,suffix=suffix,equal_sign=equal_sign)\n",
    "#     OFF_list=[x for x in Gread.nodes[node]['update_rules'].keys() if Gread.nodes[node]['update_rules'][x]==0]\n",
    "#     negation_rule='~'+BDOIp.Getfunc(Gread.nodes[node]['update_nodes'],node,OFF_list,prefix=prefix,suffix=suffix,equal_sign=equal_sign)\n",
    "\n",
    "#     return { 'rule': rule,\n",
    "#              'negation_rule': negation_rule}\n",
    "\n",
    "# def par_get_expanded_network(Gread,prefix='n',suffix='n',equal_sign='*='):\n",
    "#     '''\n",
    "#     paralleized by jijoo @ 210121\n",
    "#     Return the expanded network for a given Boolean network model.\n",
    "#     The Boolean network model is a DiGraph object in the output format of form_network().\n",
    "#     The Boolean network model can be generated through form_network function by reading a text file in the Booleannet format.\n",
    "#     The Boolean rules will first be converted to a disjuctive normal form before generating the expanded network.\n",
    "\n",
    "#     Parameters\n",
    "#     ----------\n",
    "#     Gread     : the given Boolean network model\n",
    "#     prefix='n': prefix to encode the node name to avoid one node's name is a part of another node's name\n",
    "#     suffix='n': suffix to encode the node name to avoid one node's name is a part of another node's name\n",
    "#               e.g. node name '1' will become 'n1n' in the returned result\n",
    "#     equal_sign: the equal sign of the rule in the returned result, whose default value follows the Booleannet format\n",
    "\n",
    "#     Returns\n",
    "#     -------\n",
    "#     The expanded network for the given Boolean network model.\n",
    "\n",
    "\n",
    "#     '''\n",
    "#     G_expand=nx.DiGraph()\n",
    "#     rules = []\n",
    "#     #first write rules for negation nodes\n",
    "#     negation_rules=[]\n",
    "#     expanded_nodes=set()\n",
    "        \n",
    "    \n",
    "#     with concurrent.futures.ProcessPoolExecutor(max_workers=10) as executor:\n",
    "#         futures = {executor.submit(par_get_func, Gread.copy(), prefix, suffix, equal_sign, n): n for n in Gread.nodes()}\n",
    "    \n",
    "#     for future in concurrent.futures.as_completed(futures):\n",
    "#         node = futures[future]\n",
    "# #         print(str(node)+' DONE')\n",
    "#         temp = future.result()\n",
    "#         temp_rule = temp['rule']\n",
    "#         temp_negation_rule = temp['negation_rule']\n",
    "#         rules.append(temp_rule)\n",
    "#         negation_rules.append(temp_negation_rule)\n",
    "#         expanded_nodes.add(temp_rule.split('*=')[0])\n",
    "#         expanded_nodes.add(temp_negation_rule.split('*=')[0])\n",
    "        \n",
    "# #     for node in Gread.nodes():\n",
    "# #         ON_list=[x for x in Gread.nodes[node]['update_rules'].keys() if Gread.nodes[node]['update_rules'][x]==1]\n",
    "# #         rule=Getfunc(Gread.nodes[node]['update_nodes'],node,ON_list,prefix=prefix,suffix=suffix,equal_sign=equal_sign)\n",
    "# #         OFF_list=[x for x in Gread.nodes[node]['update_rules'].keys() if Gread.nodes[node]['update_rules'][x]==0]\n",
    "# #         negation_rule='~'+Getfunc(Gread.nodes[node]['update_nodes'],node,OFF_list,prefix=prefix,suffix=suffix,equal_sign=equal_sign)\n",
    "# #         rules.append(rule)\n",
    "# #         negation_rules.append(negation_rule)\n",
    "# #         expanded_nodes.add(rule.split('*=')[0])\n",
    "# #         expanded_nodes.add(negation_rule.split('*=')[0])\n",
    "#     #then for each line in the rules, construct Boolean network\n",
    "#     composite_nodes=[]\n",
    "#     rules.extend(negation_rules)\n",
    "# #     print('parallel DONE')\n",
    "#     for line in rules:\n",
    "#         child, update_rule=line.split('*=')\n",
    "#         update_rule=update_rule.strip()\n",
    "#         if update_rule[0]=='(' and update_rule[-1]==')':\n",
    "#             update_rule=update_rule[1:-1]\n",
    "#         #single parent situation\n",
    "#         if child[0]=='~':\n",
    "#             normal_child=child[1:]\n",
    "#         else:\n",
    "#             normal_child=child[:]\n",
    "#         normal_child=normal_child[len(prefix):len(normal_child)-len(suffix)]\n",
    "#         #deal with source node situation\n",
    "#         if not Gread.nodes[int(normal_child)]['update_nodes']:\n",
    "#             G_expand.add_node(child)     #maybe this do not need to be done\n",
    "#         else:\n",
    "#             if 'or' in update_rule:\n",
    "#                 parents=update_rule.split(' or ')\n",
    "#             else:\n",
    "#                 parents=[update_rule]\n",
    "#             parents.sort()\n",
    "#             for parent in parents:\n",
    "#                 parent=parent.replace('not ','~').replace('(','').replace(')','')\n",
    "#                 if 'and' in parent:\n",
    "#                     composite_node=parent.replace(' and ','_')\n",
    "#                     composite_nodes.append(composite_node)\n",
    "#                     G_expand.add_edge(composite_node,child)\n",
    "#                     for component in composite_node.split('_'):\n",
    "#                         G_expand.add_edge(component,composite_node)\n",
    "#                 else:\n",
    "#                     G_expand.add_edge(parent,child)\n",
    "#     return G_expand.copy()"
   ]
  },
  {
   "cell_type": "code",
   "execution_count": 55,
   "metadata": {},
   "outputs": [],
   "source": [
    "Model = jR.fibroblast()\n",
    "BooleanRuleFileName = '../'+Model['BooleanRule_filename']\n",
    "NetworkName = Model['network_name']\n",
    "\n",
    "NumInputs = Model['num_inputs']\n",
    "NumInputConditions = Model['num_input_conditions']\n",
    "\n",
    "InputConditions = Model['input_conditions']\n",
    "\n",
    "OutputNodes = Model['output_nodes']\n",
    "InputNodes = Model['input_nodes']\n",
    "\n",
    "# Set parameters\n",
    "# Note the node name for Gread is the index (integer), one can encode the nodename by adding prefix and suffix\n",
    "# If the node name from the input file is not this simple, one need to create a dictionary to record the mapping\n",
    "Prefix, Suffix = 'n', 'n'\n",
    "\n",
    "TempI = jR.initialize(BooleanRuleFileName, Prefix, Suffix)\n",
    "Mapping = TempI['mapping']\n",
    "InverseMapping = TempI['inverse_mapping']\n",
    "GRead = TempI['Gread']\n",
    "ReadNodes = TempI['read_nodes']\n",
    "if Model['reduction_required']:\n",
    "    GRead = BDOIp.Get_reduced_network(GRead)\n",
    "\n",
    "# form expanded network\n",
    "# GExpanded = BDOIp.Get_expanded_network(GRead, prefix=Prefix, suffix=Suffix)\n",
    "# nx.write_gml(GExpanded, NetworkName + '_expanded_network.gml')\n",
    "# try:\n",
    "#     GExpanded = nx.read_gml('../networks/' + NetworkName + '_expanded_network.gml')\n",
    "# except IOError:\n",
    "# GExpanded = BDOIp.Get_expanded_network(GRead, prefix=Prefix, suffix=Suffix)\n",
    "# GExpanded = par_get_expanded_network(GRead, prefix=Prefix, suffix=Suffix)\n",
    "#     nx.write_gml(GExpanded, '../networks/' + NetworkName + '_expanded_network.gml')"
   ]
  },
  {
   "cell_type": "code",
   "execution_count": 56,
   "metadata": {},
   "outputs": [
    {
     "name": "stdout",
     "output_type": "stream",
     "text": [
      "2h 31min 44s ± 48min 51s per loop (mean ± std. dev. of 7 runs, 1 loop each)\n"
     ]
    }
   ],
   "source": [
    "%timeit BDOIp.Get_expanded_network(GRead, prefix=Prefix, suffix=Suffix)"
   ]
  },
  {
   "cell_type": "code",
   "execution_count": 57,
   "metadata": {},
   "outputs": [
    {
     "name": "stdout",
     "output_type": "stream",
     "text": [
      "1h 40min 34s ± 20 s per loop (mean ± std. dev. of 7 runs, 1 loop each)\n"
     ]
    }
   ],
   "source": [
    "%timeit ph.par_get_expanded_network(GRead, prefix=Prefix, suffix=Suffix, worker=5)"
   ]
  },
  {
   "cell_type": "code",
   "execution_count": 58,
   "metadata": {},
   "outputs": [
    {
     "name": "stdout",
     "output_type": "stream",
     "text": [
      "1h 40min 2s ± 8.4 s per loop (mean ± std. dev. of 7 runs, 1 loop each)\n"
     ]
    }
   ],
   "source": [
    "%timeit ph.par_get_expanded_network2(GRead, prefix=Prefix, suffix=Suffix, worker=5)"
   ]
  },
  {
   "cell_type": "code",
   "execution_count": 59,
   "metadata": {},
   "outputs": [
    {
     "name": "stdout",
     "output_type": "stream",
     "text": [
      "1h 40min 19s ± 1min 8s per loop (mean ± std. dev. of 7 runs, 1 loop each)\n"
     ]
    }
   ],
   "source": [
    "%timeit ph.par_get_expanded_network3(GRead, prefix=Prefix, suffix=Suffix, worker=5)"
   ]
  },
  {
   "cell_type": "code",
   "execution_count": 60,
   "metadata": {},
   "outputs": [
    {
     "name": "stdout",
     "output_type": "stream",
     "text": [
      "1h 43min 33s ± 24.8 s per loop (mean ± std. dev. of 7 runs, 1 loop each)\n"
     ]
    }
   ],
   "source": [
    "%timeit ph.par_get_expanded_network2(GRead, prefix=Prefix, suffix=Suffix, worker=10)"
   ]
  },
  {
   "cell_type": "code",
   "execution_count": 61,
   "metadata": {},
   "outputs": [
    {
     "name": "stdout",
     "output_type": "stream",
     "text": [
      "1h 42min 3s ± 1min 50s per loop (mean ± std. dev. of 7 runs, 1 loop each)\n"
     ]
    }
   ],
   "source": [
    "%timeit ph.par_get_expanded_network2(GRead, prefix=Prefix, suffix=Suffix, worker=2)"
   ]
  },
  {
   "cell_type": "code",
   "execution_count": null,
   "metadata": {},
   "outputs": [],
   "source": [
    "single = BDOIp.Get_expanded_network(GRead, prefix=Prefix, suffix=Suffix)\n",
    "par = ph.par_get_expanded_network2(GRead, prefix=Prefix, suffix=Suffix, worker=5)\n",
    "print(nx.is_isomorphic(single, par))"
   ]
  }
 ],
 "metadata": {
  "kernelspec": {
   "display_name": "Python 3",
   "language": "python",
   "name": "python3"
  },
  "language_info": {
   "codemirror_mode": {
    "name": "ipython",
    "version": 3
   },
   "file_extension": ".py",
   "mimetype": "text/x-python",
   "name": "python",
   "nbconvert_exporter": "python",
   "pygments_lexer": "ipython3",
   "version": "3.8.8"
  }
 },
 "nbformat": 4,
 "nbformat_minor": 4
}
