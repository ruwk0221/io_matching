{
 "cells": [
  {
   "cell_type": "code",
   "execution_count": 1,
   "id": "academic-motion",
   "metadata": {},
   "outputs": [],
   "source": [
    "import sys\n",
    "import os\n",
    "sys.path.append(os.path.dirname(os.path.abspath(os.path.dirname('__file__'))))\n",
    "import jReversion as jR\n",
    "import pandas as pd\n",
    "import numpy as np\n",
    "import seaborn as sns\n",
    "import matplotlib\n",
    "import matplotlib.pyplot as plt\n",
    "from sklearn.metrics import accuracy_score, recall_score, precision_score, f1_score, balanced_accuracy_score\n",
    "import networkx as nx\n",
    "from statannot import add_stat_annotation\n",
    "import robustness as rb\n",
    "import concurrent.futures"
   ]
  },
  {
   "cell_type": "code",
   "execution_count": 2,
   "id": "educational-astronomy",
   "metadata": {},
   "outputs": [],
   "source": [
    "model = jR.initialize('../single_cell/whole_logic_gbs.txt', 'n', 'n')\n",
    "g_read = model['Gread']"
   ]
  },
  {
   "cell_type": "code",
   "execution_count": 3,
   "id": "complete-sellers",
   "metadata": {},
   "outputs": [],
   "source": [
    "ck_dict = {0: ['PREX1', 'AGR2', 'AKAP9', 'FOXA1', 'DEGS2'],\n",
    "1: ['PREX1', 'AGR2', 'AKAP9', 'DEGS2', 'GATA3'],\n",
    "2: ['PREX1', 'AGR2', 'CERS6', 'FOXA1', 'DEGS2'],\n",
    "3: ['PREX1', 'AGR2', 'CERS6', 'DEGS2', 'GATA3'],\n",
    "4: ['PREX1', 'AGR3', 'AKAP9', 'FOXA1', 'DEGS2'],\n",
    "5: ['PREX1', 'AGR3', 'AKAP9', 'DEGS2', 'GATA3'],\n",
    "6: ['PREX1', 'AGR3', 'CERS6', 'FOXA1', 'DEGS2'],\n",
    "7: ['PREX1', 'AGR3', 'CERS6', 'DEGS2', 'GATA3']}"
   ]
  },
  {
   "cell_type": "code",
   "execution_count": 4,
   "id": "hindu-cursor",
   "metadata": {},
   "outputs": [
    {
     "data": {
      "text/html": [
       "<div>\n",
       "<style scoped>\n",
       "    .dataframe tbody tr th:only-of-type {\n",
       "        vertical-align: middle;\n",
       "    }\n",
       "\n",
       "    .dataframe tbody tr th {\n",
       "        vertical-align: top;\n",
       "    }\n",
       "\n",
       "    .dataframe thead th {\n",
       "        text-align: right;\n",
       "    }\n",
       "</style>\n",
       "<table border=\"1\" class=\"dataframe\">\n",
       "  <thead>\n",
       "    <tr style=\"text-align: right;\">\n",
       "      <th></th>\n",
       "      <th>AGR2</th>\n",
       "      <th>AGR3</th>\n",
       "      <th>AKAP9</th>\n",
       "      <th>AR</th>\n",
       "      <th>BCAS4</th>\n",
       "      <th>CA12</th>\n",
       "      <th>CERS6</th>\n",
       "      <th>DEGS2</th>\n",
       "      <th>DSC3</th>\n",
       "      <th>DSCAM_AS1</th>\n",
       "      <th>...</th>\n",
       "      <th>PGR</th>\n",
       "      <th>PIP</th>\n",
       "      <th>PREX1</th>\n",
       "      <th>SLC39A6</th>\n",
       "      <th>SOX9</th>\n",
       "      <th>STK24</th>\n",
       "      <th>ZMYND8</th>\n",
       "      <th>luminal_score</th>\n",
       "      <th>tn_score</th>\n",
       "      <th>basin_ratio</th>\n",
       "    </tr>\n",
       "    <tr>\n",
       "      <th>attractor</th>\n",
       "      <th></th>\n",
       "      <th></th>\n",
       "      <th></th>\n",
       "      <th></th>\n",
       "      <th></th>\n",
       "      <th></th>\n",
       "      <th></th>\n",
       "      <th></th>\n",
       "      <th></th>\n",
       "      <th></th>\n",
       "      <th></th>\n",
       "      <th></th>\n",
       "      <th></th>\n",
       "      <th></th>\n",
       "      <th></th>\n",
       "      <th></th>\n",
       "      <th></th>\n",
       "      <th></th>\n",
       "      <th></th>\n",
       "      <th></th>\n",
       "      <th></th>\n",
       "    </tr>\n",
       "  </thead>\n",
       "  <tbody>\n",
       "    <tr>\n",
       "      <th>basal</th>\n",
       "      <td>0</td>\n",
       "      <td>0</td>\n",
       "      <td>0</td>\n",
       "      <td>0</td>\n",
       "      <td>0</td>\n",
       "      <td>0</td>\n",
       "      <td>0</td>\n",
       "      <td>0</td>\n",
       "      <td>1</td>\n",
       "      <td>0</td>\n",
       "      <td>...</td>\n",
       "      <td>0</td>\n",
       "      <td>0</td>\n",
       "      <td>0</td>\n",
       "      <td>0</td>\n",
       "      <td>1</td>\n",
       "      <td>1</td>\n",
       "      <td>0</td>\n",
       "      <td>0.000000</td>\n",
       "      <td>1.000000</td>\n",
       "      <td>9.536743e-07</td>\n",
       "    </tr>\n",
       "    <tr>\n",
       "      <th>luminal</th>\n",
       "      <td>1</td>\n",
       "      <td>1</td>\n",
       "      <td>1</td>\n",
       "      <td>1</td>\n",
       "      <td>1</td>\n",
       "      <td>1</td>\n",
       "      <td>1</td>\n",
       "      <td>1</td>\n",
       "      <td>0</td>\n",
       "      <td>0</td>\n",
       "      <td>...</td>\n",
       "      <td>0</td>\n",
       "      <td>0</td>\n",
       "      <td>1</td>\n",
       "      <td>1</td>\n",
       "      <td>0</td>\n",
       "      <td>1</td>\n",
       "      <td>1</td>\n",
       "      <td>0.833333</td>\n",
       "      <td>0.090909</td>\n",
       "      <td>3.759766e-02</td>\n",
       "    </tr>\n",
       "    <tr>\n",
       "      <th>major</th>\n",
       "      <td>1</td>\n",
       "      <td>1</td>\n",
       "      <td>1</td>\n",
       "      <td>1</td>\n",
       "      <td>1</td>\n",
       "      <td>1</td>\n",
       "      <td>1</td>\n",
       "      <td>1</td>\n",
       "      <td>0</td>\n",
       "      <td>0</td>\n",
       "      <td>...</td>\n",
       "      <td>0</td>\n",
       "      <td>0</td>\n",
       "      <td>0</td>\n",
       "      <td>1</td>\n",
       "      <td>0</td>\n",
       "      <td>1</td>\n",
       "      <td>1</td>\n",
       "      <td>0.777778</td>\n",
       "      <td>0.090909</td>\n",
       "      <td>4.472656e-01</td>\n",
       "    </tr>\n",
       "  </tbody>\n",
       "</table>\n",
       "<p>3 rows × 32 columns</p>\n",
       "</div>"
      ],
      "text/plain": [
       "           AGR2  AGR3  AKAP9  AR  BCAS4  CA12  CERS6  DEGS2  DSC3  DSCAM_AS1  \\\n",
       "attractor                                                                      \n",
       "basal         0     0      0   0      0     0      0      0     1          0   \n",
       "luminal       1     1      1   1      1     1      1      1     0          0   \n",
       "major         1     1      1   1      1     1      1      1     0          0   \n",
       "\n",
       "           ...  PGR  PIP  PREX1  SLC39A6  SOX9  STK24  ZMYND8  luminal_score  \\\n",
       "attractor  ...                                                                 \n",
       "basal      ...    0    0      0        0     1      1       0       0.000000   \n",
       "luminal    ...    0    0      1        1     0      1       1       0.833333   \n",
       "major      ...    0    0      0        1     0      1       1       0.777778   \n",
       "\n",
       "           tn_score   basin_ratio  \n",
       "attractor                          \n",
       "basal      1.000000  9.536743e-07  \n",
       "luminal    0.090909  3.759766e-02  \n",
       "major      0.090909  4.472656e-01  \n",
       "\n",
       "[3 rows x 32 columns]"
      ]
     },
     "execution_count": 4,
     "metadata": {},
     "output_type": "execute_result"
    }
   ],
   "source": [
    "luminal_pd = pd.read_csv('../single_cell/0731_attractors.csv', index_col=0)\n",
    "luminal_pd"
   ]
  },
  {
   "cell_type": "code",
   "execution_count": 5,
   "id": "judicial-carpet",
   "metadata": {},
   "outputs": [],
   "source": [
    "luminal = \"\".join([str(luminal_pd[model['read_nodes'][x]]['luminal']) for x in range(len(g_read))])"
   ]
  },
  {
   "cell_type": "code",
   "execution_count": 6,
   "id": "invalid-spending",
   "metadata": {},
   "outputs": [
    {
     "name": "stdout",
     "output_type": "stream",
     "text": [
      "11111111001101000000100011011\n"
     ]
    }
   ],
   "source": [
    "print(luminal)"
   ]
  },
  {
   "cell_type": "code",
   "execution_count": 7,
   "id": "original-meaning",
   "metadata": {},
   "outputs": [
    {
     "data": {
      "text/plain": [
       "dict_values(['AGR2', 'AGR3', 'AKAP9', 'AR', 'BCAS4', 'CA12', 'CERS6', 'DEGS2', 'DSC3', 'DSCAM_AS1', 'ESR1', 'FOXA1', 'GAS6', 'GATA3', 'IMPA2', 'KLF5', 'LMO4', 'LMO7', 'LYN', 'MSN', 'PARD6B', 'PDZK1IP1', 'PGR', 'PIP', 'PREX1', 'SLC39A6', 'SOX9', 'STK24', 'ZMYND8'])"
      ]
     },
     "execution_count": 7,
     "metadata": {},
     "output_type": "execute_result"
    }
   ],
   "source": [
    "model['read_nodes'].values()"
   ]
  },
  {
   "cell_type": "code",
   "execution_count": 22,
   "id": "floating-massage",
   "metadata": {},
   "outputs": [
    {
     "name": "stdout",
     "output_type": "stream",
     "text": [
      "40\n"
     ]
    }
   ],
   "source": [
    "bit_num = len(g_read)\n",
    "state_num = 2**10\n",
    "initial_states = rb.gen_rand_bin_state(bit_num, state_num)\n",
    "initial_states.add(luminal)\n",
    "wt_result = rb.identifying_synchronous_attractors_basins(g_read, initial_states.copy())\n",
    "# wt_result = rb.identifying_synchronous_attractors_basins(g_read, set([luminal]))\n",
    "\n",
    "print(wt_result['basin_of_attractor'][luminal])"
   ]
  },
  {
   "cell_type": "code",
   "execution_count": 8,
   "id": "suffering-gabriel",
   "metadata": {},
   "outputs": [
    {
     "name": "stdout",
     "output_type": "stream",
     "text": [
      "{'11111111001101000000100011011': 1025}\n",
      "1025\n"
     ]
    }
   ],
   "source": [
    "bit_num = len(g_read)\n",
    "state_num = 2**10\n",
    "initial_states = rb.gen_rand_bin_state(bit_num, state_num)\n",
    "initial_states.add(luminal)\n",
    "wt_result = rb.identifying_synchronous_attractors_basins(g_read, initial_states.copy(), mutation={model['inverse_read_nodes'][x]: \"1\" for x in ck_dict[6]})\n",
    "# wt_result = rb.identifying_synchronous_attractors_basins(g_read, set([luminal]))\n",
    "\n",
    "print(wt_result['basin_of_attractor'])\n",
    "print(wt_result['basin_of_attractor'][luminal])"
   ]
  },
  {
   "cell_type": "code",
   "execution_count": 9,
   "id": "nervous-option",
   "metadata": {},
   "outputs": [],
   "source": [
    "def optimizing_control_targets(control_targets_dict, g_read, initial_states, target_state):\n",
    "    max_ct_1del_list = dict()\n",
    "    max_basin = dict()\n",
    "    for idx, ct in control_targets_dict.items():\n",
    "        ct_1del_basin = dict()\n",
    "        for node in ct:\n",
    "            ct_1del = ct.copy()\n",
    "            ct_1del.remove(node)\n",
    "            intervention = {model['inverse_read_nodes'][x]:\"1\" for x in ct_1del}\n",
    "            ct_1del_basin[node] = rb.identifying_synchronous_attractors_basins(g_read, initial_states.copy(), mutation=intervention)['basin_of_attractor'][target_state]\n",
    "            max_basin[idx] = max(ct_1del_basin.values())\n",
    "            max_ct_1del_list[idx] = [key for key, val in ct_1del_basin.items() if val == max_basin[idx]]\n",
    "    \n",
    "    optimized_ct = dict()\n",
    "    new_idx = 0\n",
    "    for idx, node_list in max_ct_1del_list.items():\n",
    "        for node in node_list:\n",
    "            temp = control_targets_dict[idx].copy()\n",
    "            temp.remove(node)\n",
    "            optimized_ct[new_idx] = temp.copy()\n",
    "            new_idx += 1\n",
    "    \n",
    "    temp = set([tuple(sorted(l)) for l in optimized_ct.values()])\n",
    "    temp_dict = dict()\n",
    "    idx = 0\n",
    "    for t in temp:\n",
    "        temp_dict[idx] = list(t)\n",
    "        idx +=1\n",
    "    return temp_dict, max_basin"
   ]
  },
  {
   "cell_type": "code",
   "execution_count": 10,
   "id": "illegal-furniture",
   "metadata": {},
   "outputs": [],
   "source": [
    "optimal_control_target_1, basin_1 = optimizing_control_targets(ck_dict, g_read, initial_states.copy(), luminal)"
   ]
  },
  {
   "cell_type": "code",
   "execution_count": 11,
   "id": "involved-socket",
   "metadata": {},
   "outputs": [
    {
     "name": "stdout",
     "output_type": "stream",
     "text": [
      "{0: ['AGR3', 'AKAP9', 'GATA3', 'PREX1'], 1: ['AGR2', 'DEGS2', 'FOXA1', 'PREX1'], 2: ['AGR2', 'AKAP9', 'GATA3', 'PREX1'], 3: ['AGR2', 'DEGS2', 'GATA3', 'PREX1'], 4: ['CERS6', 'DEGS2', 'FOXA1', 'PREX1'], 5: ['CERS6', 'DEGS2', 'GATA3', 'PREX1'], 6: ['AKAP9', 'DEGS2', 'GATA3', 'PREX1'], 7: ['AKAP9', 'DEGS2', 'FOXA1', 'PREX1'], 8: ['AGR3', 'DEGS2', 'GATA3', 'PREX1'], 9: ['AGR3', 'CERS6', 'GATA3', 'PREX1'], 10: ['AGR3', 'DEGS2', 'FOXA1', 'PREX1'], 11: ['AGR2', 'CERS6', 'GATA3', 'PREX1']}\n",
      "{0: 1025, 1: 1025, 2: 1025, 3: 1025, 4: 1025, 5: 1025, 6: 1025, 7: 1025}\n"
     ]
    }
   ],
   "source": [
    "print(optimal_control_target_1)\n",
    "print(basin_1)"
   ]
  },
  {
   "cell_type": "code",
   "execution_count": 12,
   "id": "continent-summit",
   "metadata": {},
   "outputs": [
    {
     "name": "stdout",
     "output_type": "stream",
     "text": [
      "{0: ['AGR2', 'GATA3', 'PREX1'], 1: ['DEGS2', 'GATA3', 'PREX1'], 2: ['AGR3', 'GATA3', 'PREX1'], 3: ['DEGS2', 'FOXA1', 'PREX1']}\n",
      "{0: 1025, 1: 1025, 2: 1025, 3: 1025, 4: 1025, 5: 1025, 6: 1025, 7: 1025, 8: 1025, 9: 1025, 10: 1025, 11: 1025}\n"
     ]
    }
   ],
   "source": [
    "optimal_control_target_2, basin_2 = optimizing_control_targets(optimal_control_target_1, g_read, initial_states.copy(), luminal)\n",
    "print(optimal_control_target_2)\n",
    "print(basin_2)"
   ]
  },
  {
   "cell_type": "code",
   "execution_count": 13,
   "id": "infinite-serum",
   "metadata": {},
   "outputs": [],
   "source": [
    "optimal_control_target_3, basin_3 = optimizing_control_targets(optimal_control_target_2, g_read, initial_states.copy(), luminal)"
   ]
  },
  {
   "cell_type": "code",
   "execution_count": 14,
   "id": "dangerous-enzyme",
   "metadata": {},
   "outputs": [
    {
     "name": "stdout",
     "output_type": "stream",
     "text": [
      "{0: ['FOXA1', 'PREX1'], 1: ['GATA3', 'PREX1']}\n",
      "{0: 906, 1: 906, 2: 906, 3: 901}\n"
     ]
    }
   ],
   "source": [
    "print(optimal_control_target_3)\n",
    "print(basin_3)"
   ]
  },
  {
   "cell_type": "code",
   "execution_count": 15,
   "id": "operational-thirty",
   "metadata": {},
   "outputs": [
    {
     "name": "stdout",
     "output_type": "stream",
     "text": [
      "{0: ['PREX1']}\n",
      "{0: 655, 1: 655}\n"
     ]
    }
   ],
   "source": [
    "optimal_control_target_4, basin_4 = optimizing_control_targets(optimal_control_target_3, g_read, initial_states.copy(), luminal)\n",
    "print(optimal_control_target_4)\n",
    "print(basin_4)"
   ]
  },
  {
   "cell_type": "code",
   "execution_count": 16,
   "id": "round-person",
   "metadata": {},
   "outputs": [],
   "source": [
    "def control_effects(control_target_dict, model, initial_states, target_state):\n",
    "    effect_dict = dict()\n",
    "    for key, val in control_target_dict.items():\n",
    "        temp = rb.identifying_synchronous_attractors_basins(model['Gread'], initial_states.copy(), mutation={model['inverse_read_nodes'][x]: \"1\" for x in val})\n",
    "        effect_dict[key] = temp['basin_of_attractor'][target_state]\n",
    "    \n",
    "    return effect_dict"
   ]
  },
  {
   "cell_type": "code",
   "execution_count": 17,
   "id": "mounted-northeast",
   "metadata": {},
   "outputs": [],
   "source": [
    "state_num = 2**20\n",
    "initial_states = rb.gen_rand_bin_state(bit_num, state_num)"
   ]
  },
  {
   "cell_type": "code",
   "execution_count": 18,
   "id": "ordinary-potato",
   "metadata": {},
   "outputs": [],
   "source": [
    "optimal_control_target_2_effect = control_effects(optimal_control_target_2, model, initial_states.copy(), luminal)"
   ]
  },
  {
   "cell_type": "code",
   "execution_count": 19,
   "id": "useful-mexican",
   "metadata": {},
   "outputs": [
    {
     "data": {
      "text/plain": [
       "{0: 1048576, 1: 1048576, 2: 1048576, 3: 1048576}"
      ]
     },
     "execution_count": 19,
     "metadata": {},
     "output_type": "execute_result"
    }
   ],
   "source": [
    "optimal_control_target_2_effect"
   ]
  },
  {
   "cell_type": "code",
   "execution_count": 20,
   "id": "listed-qatar",
   "metadata": {},
   "outputs": [
    {
     "data": {
      "text/plain": [
       "1048576"
      ]
     },
     "execution_count": 20,
     "metadata": {},
     "output_type": "execute_result"
    }
   ],
   "source": [
    "len(initial_states)"
   ]
  }
 ],
 "metadata": {
  "kernelspec": {
   "display_name": "Python 3",
   "language": "python",
   "name": "python3"
  },
  "language_info": {
   "codemirror_mode": {
    "name": "ipython",
    "version": 3
   },
   "file_extension": ".py",
   "mimetype": "text/x-python",
   "name": "python",
   "nbconvert_exporter": "python",
   "pygments_lexer": "ipython3",
   "version": "3.8.8"
  }
 },
 "nbformat": 4,
 "nbformat_minor": 5
}
