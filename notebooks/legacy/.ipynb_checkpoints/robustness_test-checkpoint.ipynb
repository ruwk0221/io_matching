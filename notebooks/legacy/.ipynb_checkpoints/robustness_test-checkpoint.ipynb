{
 "cells": [
  {
   "cell_type": "code",
   "execution_count": 1,
   "id": "governmental-parallel",
   "metadata": {},
   "outputs": [],
   "source": [
    "import sys\n",
    "import os\n",
    "sys.path.append(os.path.dirname(os.path.abspath(os.path.dirname('__file__'))))\n",
    "import jReversion as jR\n",
    "import pandas as pd\n",
    "import numpy as np\n",
    "import seaborn as sns\n",
    "import matplotlib\n",
    "import matplotlib.pyplot as plt\n",
    "from sklearn.metrics import accuracy_score, recall_score, precision_score, f1_score, balanced_accuracy_score\n",
    "import networkx as nx\n",
    "import robustness as rb"
   ]
  },
  {
   "cell_type": "code",
   "execution_count": 2,
   "id": "global-bulgaria",
   "metadata": {},
   "outputs": [],
   "source": [
    "Prefix, Suffix = 'n', 'n'\n",
    "TEMP = jR.cellcollective('death', Prefix, Suffix, directory='../')\n",
    "\n",
    "BooleanRuleFileName = TEMP['BooleanRule_filename']\n",
    "network_name = TEMP['network_name']\n",
    "\n",
    "NumInputs = TEMP['num_inputs']\n",
    "NumInputConditions = TEMP['num_input_conditions']\n",
    "\n",
    "InputConditions = TEMP['input_conditions']\n",
    "\n",
    "OutputNodes = TEMP['output_nodes']\n",
    "InputNodes = TEMP['input_nodes']\n",
    "\n",
    "Mapping = TEMP['mapping']\n",
    "InverseMapping = TEMP['inverse_mapping']\n",
    "GRead = TEMP['Gread']\n",
    "ReadNodes = TEMP['read_nodes']"
   ]
  },
  {
   "cell_type": "code",
   "execution_count": 3,
   "id": "approved-indiana",
   "metadata": {},
   "outputs": [
    {
     "name": "stdout",
     "output_type": "stream",
     "text": [
      "CPU times: user 10.1 s, sys: 8.38 ms, total: 10.1 s\n",
      "Wall time: 10.1 s\n"
     ]
    }
   ],
   "source": [
    "%time result = rb.robustness_primary_attractor(g_read=GRead, state_num=2**8, point_only=False)"
   ]
  },
  {
   "cell_type": "code",
   "execution_count": 4,
   "id": "stopped-diagnosis",
   "metadata": {},
   "outputs": [
    {
     "name": "stdout",
     "output_type": "stream",
     "text": [
      "0.5284741050555894\n"
     ]
    }
   ],
   "source": [
    "robustness = 0\n",
    "for node, effect_dict in result.items():\n",
    "    robustness += effect_dict['oe']\n",
    "    robustness += effect_dict['ko']\n",
    "robustness /= 2*(len(GRead))\n",
    "print(robustness)    "
   ]
  },
  {
   "cell_type": "code",
   "execution_count": 5,
   "id": "acting-weekend",
   "metadata": {},
   "outputs": [
    {
     "name": "stdout",
     "output_type": "stream",
     "text": [
      "0.5328805403343951\n"
     ]
    }
   ],
   "source": [
    "result = rb.robustness_primary_attractor(g_read=GRead, state_num=2**9, point_only=False)\n",
    "robustness = 0\n",
    "for node, effect_dict in result.items():\n",
    "    robustness += effect_dict['oe']\n",
    "    robustness += effect_dict['ko']\n",
    "robustness /= 2*(len(GRead))\n",
    "print(robustness)    "
   ]
  },
  {
   "cell_type": "code",
   "execution_count": 8,
   "id": "responsible-grammar",
   "metadata": {},
   "outputs": [
    {
     "name": "stdout",
     "output_type": "stream",
     "text": [
      "0.5393678690459535\n"
     ]
    }
   ],
   "source": [
    "result = rb.robustness_primary_attractor(g_read=GRead, state_num=2**10, point_only=False)\n",
    "robustness = 0\n",
    "for node, effect_dict in result.items():\n",
    "    robustness += effect_dict['oe']\n",
    "    robustness += effect_dict['ko']\n",
    "robustness /= 2*(len(GRead))\n",
    "print(robustness)    "
   ]
  }
 ],
 "metadata": {
  "kernelspec": {
   "display_name": "Python 3",
   "language": "python",
   "name": "python3"
  },
  "language_info": {
   "codemirror_mode": {
    "name": "ipython",
    "version": 3
   },
   "file_extension": ".py",
   "mimetype": "text/x-python",
   "name": "python",
   "nbconvert_exporter": "python",
   "pygments_lexer": "ipython3",
   "version": "3.8.8"
  }
 },
 "nbformat": 4,
 "nbformat_minor": 5
}
