{
 "cells": [
  {
   "cell_type": "code",
   "execution_count": 1,
   "id": "eligible-numbers",
   "metadata": {},
   "outputs": [],
   "source": [
    "import sys\n",
    "import os\n",
    "sys.path.append(os.path.dirname(os.path.abspath(os.path.dirname('__file__'))))\n",
    "import jReversion as jR\n",
    "import pandas as pd\n",
    "import numpy as np\n",
    "import seaborn as sns\n",
    "import matplotlib\n",
    "import matplotlib.pyplot as plt\n",
    "from sklearn.metrics import accuracy_score, recall_score, precision_score, f1_score, balanced_accuracy_score\n",
    "import networkx as nx\n",
    "from statannot import add_stat_annotation"
   ]
  },
  {
   "cell_type": "code",
   "execution_count": 2,
   "id": "existing-regular",
   "metadata": {},
   "outputs": [],
   "source": [
    "#load data\n",
    "# network_name_list= [Grieco, TLGLNetwork, bauer, ERBB, fibroblast, saez, BLT, colitis_jijoo, prostate]\n",
    "# integrated_data = pd.DataFrame()\n",
    "Model = jR.grieco()\n",
    "BooleanRuleFileName = '../' + Model['BooleanRule_filename']\n",
    "NetworkName = Model['network_name']\n",
    "\n",
    "NumInputs = Model['num_inputs']\n",
    "NumInputConditions = Model['num_input_conditions']\n",
    "\n",
    "InputConditions = Model['input_conditions']\n",
    "\n",
    "OutputNodes = Model['output_nodes']\n",
    "InputNodes = Model['input_nodes']\n",
    "\n",
    "# Set parameters\n",
    "# Note the node name for Gread is the index (integer), one can encode the nodename by adding prefix and suffix\n",
    "# If the node name from the input file is not this simple, one need to create a dictionary to record the mapping\n",
    "Prefix, Suffix = 'n', 'n'\n",
    "\n",
    "TempI = jR.initialize(BooleanRuleFileName, Prefix, Suffix)\n",
    "Mapping = TempI['mapping']\n",
    "InverseMapping = TempI['inverse_mapping']\n",
    "GRead = TempI['Gread']\n",
    "ReadNodes = TempI['read_nodes']\n",
    "if Model['reduction_required']:\n",
    "    GRead = BDOIp.Get_reduced_network(GRead)\n",
    "\n",
    "try:\n",
    "    GExpanded = nx.read_gml('../networks/' + NetworkName + '_expanded_network.gml')\n",
    "except IOError:\n",
    "    GExpanded = BDOIp.Get_expanded_network(GRead, prefix=Prefix, suffix=Suffix)\n",
    "    nx.write_gml(GExpanded, '../networks/' + NetworkName + '_expanded_network.gml')\n",
    "\n",
    "TempGIOW = jR.get_input_output_relation(GExpanded, Mapping, InverseMapping, InputConditions, OutputNodes,\n",
    "                                            constant_nodes=[])\n",
    "\n",
    "IORelation = TempGIOW['io_relation']\n",
    "    \n",
    "table_original = pd.read_csv('../data/' + NetworkName + '_table_for_original_network.tsv', sep='\\t').sort_values(by='node').set_index('node')\n",
    "table_expanded_network = pd.read_csv('../data/' + NetworkName + '_table_for_expanded_network.tsv', sep='\\t')"
   ]
  },
  {
   "cell_type": "code",
   "execution_count": 3,
   "id": "forced-essex",
   "metadata": {},
   "outputs": [
    {
     "name": "stdout",
     "output_type": "stream",
     "text": [
      "['PLCG', '~PTEN', '~PDK1', 'MAP3K1_3', 'BCL2', '~PI3K', '~p70', '~CREB', 'SOS', 'AKT', '~MSK', 'PPP2CA', '~MAX', '~SPRY', '~FOXO3', '~DUSP1', 'FGFR3', 'RAS', 'AP1']\n"
     ]
    }
   ],
   "source": [
    "r1_list = table_expanded_network[table_expanded_network['Class_LDOI'] == 'R1']['node'].tolist()\n",
    "print(r1_list)"
   ]
  },
  {
   "cell_type": "code",
   "execution_count": 4,
   "id": "missing-rating",
   "metadata": {},
   "outputs": [],
   "source": [
    "is_r2 = dict()\n",
    "for r1 in r1_list:\n",
    "    is_r2[r1] = jR.test_r2(GExpanded, Mapping, InverseMapping, OutputNodes, InputConditions, IORelation, r1)\n",
    "    "
   ]
  },
  {
   "cell_type": "code",
   "execution_count": 5,
   "id": "sporting-volunteer",
   "metadata": {},
   "outputs": [
    {
     "name": "stdout",
     "output_type": "stream",
     "text": [
      "{'PLCG': False, '~PTEN': False, '~PDK1': False, 'MAP3K1_3': False, 'BCL2': False, '~PI3K': True, '~p70': False, '~CREB': False, 'SOS': True, 'AKT': False, '~MSK': False, 'PPP2CA': False, '~MAX': False, '~SPRY': False, '~FOXO3': False, '~DUSP1': False, 'FGFR3': True, 'RAS': True, 'AP1': False}\n"
     ]
    }
   ],
   "source": [
    "print(is_r2)"
   ]
  },
  {
   "cell_type": "code",
   "execution_count": 6,
   "id": "likely-opportunity",
   "metadata": {},
   "outputs": [
    {
     "data": {
      "text/plain": [
       "True"
      ]
     },
     "execution_count": 6,
     "metadata": {},
     "output_type": "execute_result"
    }
   ],
   "source": [
    "jR.ineffective_test_ldoi(GExpanded, OutputNodes, Mapping, InverseMapping, InputConditions, IORelation, set(['~PDK1', 'p70']))"
   ]
  },
  {
   "cell_type": "code",
   "execution_count": 7,
   "id": "united-speech",
   "metadata": {},
   "outputs": [
    {
     "data": {
      "text/plain": [
       "True"
      ]
     },
     "execution_count": 7,
     "metadata": {},
     "output_type": "execute_result"
    }
   ],
   "source": [
    "jR.ineffective_test_ldoi(GExpanded, OutputNodes, Mapping, InverseMapping, InputConditions, IORelation, set(['PLCG', '~RAS']))"
   ]
  },
  {
   "cell_type": "code",
   "execution_count": 8,
   "id": "going-lesbian",
   "metadata": {},
   "outputs": [
    {
     "data": {
      "text/plain": [
       "True"
      ]
     },
     "execution_count": 8,
     "metadata": {},
     "output_type": "execute_result"
    }
   ],
   "source": [
    "jR.ineffective_test_ldoi(GExpanded, OutputNodes, Mapping, InverseMapping, InputConditions, IORelation, set(['~CREB', 'DUSP1']))"
   ]
  },
  {
   "cell_type": "code",
   "execution_count": 9,
   "id": "excellent-istanbul",
   "metadata": {},
   "outputs": [],
   "source": [
    "is_r2 = dict()\n",
    "for r1 in r1_list:\n",
    "    is_r2[r1] = jR.test_r2_ver2(GExpanded, Mapping, InverseMapping, OutputNodes, InputConditions, IORelation, r1, r1_list)"
   ]
  },
  {
   "cell_type": "code",
   "execution_count": 10,
   "id": "supported-billion",
   "metadata": {
    "scrolled": true
   },
   "outputs": [
    {
     "name": "stdout",
     "output_type": "stream",
     "text": [
      "{'PLCG': True, '~PTEN': False, '~PDK1': True, 'MAP3K1_3': False, 'BCL2': False, '~PI3K': True, '~p70': False, '~CREB': True, 'SOS': True, 'AKT': False, '~MSK': False, 'PPP2CA': False, '~MAX': False, '~SPRY': False, '~FOXO3': False, '~DUSP1': False, 'FGFR3': True, 'RAS': True, 'AP1': False}\n"
     ]
    }
   ],
   "source": [
    "print(is_r2)"
   ]
  },
  {
   "cell_type": "code",
   "execution_count": 11,
   "id": "higher-berkeley",
   "metadata": {},
   "outputs": [
    {
     "data": {
      "text/plain": [
       "True"
      ]
     },
     "execution_count": 11,
     "metadata": {},
     "output_type": "execute_result"
    }
   ],
   "source": [
    "jR.ineffective_test_ldoi(GExpanded, OutputNodes, Mapping, InverseMapping, InputConditions, IORelation, set(['PPP2CA', 'p70']))"
   ]
  },
  {
   "cell_type": "code",
   "execution_count": 12,
   "id": "rental-episode",
   "metadata": {},
   "outputs": [
    {
     "data": {
      "text/plain": [
       "True"
      ]
     },
     "execution_count": 12,
     "metadata": {},
     "output_type": "execute_result"
    }
   ],
   "source": [
    "jR.ineffective_test_ldoi(GExpanded, OutputNodes, Mapping, InverseMapping, InputConditions, IORelation, set(['AP1', 'p70']))"
   ]
  }
 ],
 "metadata": {
  "kernelspec": {
   "display_name": "Python 3",
   "language": "python",
   "name": "python3"
  },
  "language_info": {
   "codemirror_mode": {
    "name": "ipython",
    "version": 3
   },
   "file_extension": ".py",
   "mimetype": "text/x-python",
   "name": "python",
   "nbconvert_exporter": "python",
   "pygments_lexer": "ipython3",
   "version": "3.8.8"
  }
 },
 "nbformat": 4,
 "nbformat_minor": 5
}
