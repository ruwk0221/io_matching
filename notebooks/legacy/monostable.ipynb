{
 "cells": [
  {
   "cell_type": "code",
   "execution_count": 87,
   "id": "civilian-radical",
   "metadata": {},
   "outputs": [],
   "source": [
    "import sys\n",
    "import os\n",
    "sys.path.append('/home/jijoo/miniconda3/envs/theor/lib/python3.8/site-packages/cana') # cana package 위치\n",
    "sys.path.append(os.path.dirname(os.path.abspath(os.path.dirname('__file__'))))\n",
    "\n",
    "import math\n",
    "import numpy as np\n",
    "import pandas as pd\n",
    "pd.options.display.float_format = '{:.2g}'.format\n",
    "import matplotlib as mpl\n",
    "import matplotlib.pyplot as plt\n",
    "import random\n",
    "import graphviz\n",
    "from IPython.display import HTML\n",
    "#\n",
    "import cana\n",
    "from cana.datasets.bio import *\n",
    "from cana.drawing.canalizing_map import draw_canalizing_map_graphviz\n",
    "import networkx as nx\n",
    "import par_helper as ph\n",
    "import jReversion as jR\n",
    "from LDOI import BooleanDOI_processing as BDOIp\n",
    "from LDOI import BooleanDOI_DOI as BDOId"
   ]
  },
  {
   "cell_type": "code",
   "execution_count": 111,
   "id": "electoral-segment",
   "metadata": {},
   "outputs": [],
   "source": [
    "def has_only_composite_predecessors(G, node):\n",
    "    predecessors = G.predecessors(node)\n",
    "    non_composite = [x for x in predecessors if x.find('_') < 0]\n",
    "    return len(non_composite) == 0\n",
    "\n",
    "def unstable_candidate(G, node):\n",
    "    ON_candidate = has_only_composite_predecessors(G, node)\n",
    "    OFF_candidate = has_only_composite_predecessors(G, '~'+node)\n",
    "    \n",
    "    if ON_candidate and OFF_candidate:\n",
    "        return [node, '~'+node]\n",
    "    elif ON_candidate:\n",
    "        return node\n",
    "    elif OFF_candidate:\n",
    "        return '~'+node\n",
    "    \n",
    "    return []\n",
    "\n",
    "def monostable_motif(G, node):\n",
    "    candidate = unstable_candidate(G, node)\n",
    "    if type(candidate) == list:\n",
    "        return\n",
    "        \n",
    "    composite_nodes = set([x for x in G.predecessors(candidate) if x.find('_') >= 0])\n",
    "    monostable_motif = set()\n",
    "#     for cycle in nx.simple_cycles(G):\n",
    "#         if cycle.count(candidate) > 0 :\n",
    "#             if len(composite_nodes.intersection(set(cycle))) > 0:\n",
    "#                 monostable_motif = monostable_motif.union(cycle)\n",
    "    \n",
    "    for composite in composite_nodes:\n",
    "        if nx.has_path(G, source=BDOId.Negation_in_expanded(candidate), target=composite):\n",
    "            for negative_feedback in nx.all_shortest_paths(G, source=BDOId.Negation_in_expanded(candidate), target=composite):\n",
    "                monostable_motif = monostable_motif.union(negative_feedback)\n",
    "        if nx.has_path(G, source=candidate, target=composite):\n",
    "            for positive_feedback in nx.all_shortest_paths(G, source=candidate, target=composite):\n",
    "                monostable_motif = monostable_motif.union(positive_feedback)\n",
    "                \n",
    "    return monostable_motif\n",
    "\n",
    "def monostable_motif2(G, node):\n",
    "    candidate = node\n",
    "#     if type(candidate) == list:\n",
    "#         return\n",
    "        \n",
    "    composite_nodes = set([x for x in G.predecessors(candidate)])\n",
    "    monostable_motif = set()\n",
    "#     for cycle in nx.simple_cycles(G):\n",
    "#         if cycle.count(candidate) > 0 :\n",
    "#             if len(composite_nodes.intersection(set(cycle))) > 0:\n",
    "#                 monostable_motif = monostable_motif.union(cycle)\n",
    "    \n",
    "    for composite in composite_nodes:\n",
    "        if nx.has_path(G, source=BDOId.Negation_in_expanded(candidate), target=composite):\n",
    "            for negative_feedback in nx.all_shortest_paths(G, source=BDOId.Negation_in_expanded(candidate), target=composite):\n",
    "                monostable_motif = monostable_motif.union(negative_feedback)\n",
    "        if nx.has_path(G, source=candidate, target=composite):\n",
    "            for positive_feedback in nx.all_shortest_paths(G, source=candidate, target=composite):\n",
    "                monostable_motif = monostable_motif.union(positive_feedback)\n",
    "    \n",
    "    candidate = '~' + node\n",
    "#     if type(candidate) == list:\n",
    "#         return\n",
    "        \n",
    "    composite_nodes = set([x for x in G.predecessors(candidate)])\n",
    "#     monostable_motif = set()\n",
    "#     for cycle in nx.simple_cycles(G):\n",
    "#         if cycle.count(candidate) > 0 :\n",
    "#             if len(composite_nodes.intersection(set(cycle))) > 0:\n",
    "#                 monostable_motif = monostable_motif.union(cycle)\n",
    "    \n",
    "    for composite in composite_nodes:\n",
    "        if nx.has_path(G, source=BDOId.Negation_in_expanded(candidate), target=composite):\n",
    "            for negative_feedback in nx.all_shortest_paths(G, source=BDOId.Negation_in_expanded(candidate), target=composite):\n",
    "                monostable_motif = monostable_motif.union(negative_feedback)\n",
    "        if nx.has_path(G, source=candidate, target=composite):\n",
    "            for positive_feedback in nx.all_shortest_paths(G, source=candidate, target=composite):\n",
    "                monostable_motif = monostable_motif.union(positive_feedback)\n",
    "                \n",
    "    return monostable_motif"
   ]
  },
  {
   "cell_type": "code",
   "execution_count": 57,
   "id": "given-pharmaceutical",
   "metadata": {},
   "outputs": [
    {
     "data": {
      "text/plain": [
       "46"
      ]
     },
     "execution_count": 57,
     "metadata": {},
     "output_type": "execute_result"
    }
   ],
   "source": [
    "# len(scc_ex)"
   ]
  },
  {
   "cell_type": "code",
   "execution_count": 70,
   "id": "generous-nancy",
   "metadata": {
    "scrolled": true
   },
   "outputs": [],
   "source": [
    "# # print(monostable_motif(scc_ex, mapping['n07']))\n",
    "# monostable_network = nx.subgraph(scc_ex, monostable_motif(scc_ex, mapping[interest_node])).copy()\n",
    "# nx.write_gml(monostable_network, '../networks/' + network_name + '_' + interest_node + '_monostable.gml')"
   ]
  },
  {
   "cell_type": "code",
   "execution_count": 112,
   "id": "closed-appendix",
   "metadata": {},
   "outputs": [
    {
     "name": "stdout",
     "output_type": "stream",
     "text": [
      "{0, 1, 2, 3, 4, 5, 6, 7, 8}\n"
     ]
    }
   ],
   "source": [
    "network_name = 'monoFVS1'\n",
    "interest_node = 'n06'\n",
    "\n",
    "model_name = network_name + '.txt'\n",
    "prefix, suffix = 'n', 'n'\n",
    "\n",
    "# num_inputs = 0\n",
    "# input_nodes = []\n",
    "lines = []\n",
    "\n",
    "# lines.append('# Internal nodes\\n')\n",
    "with open('../models/' + model_name, 'r') as exf:\n",
    "    for line in exf:\n",
    "        line = ' '.join(line.split())\n",
    "#         logic = line.replace(' =', '*=')\n",
    "\n",
    "        lines.append(line)\n",
    "\n",
    "\n",
    "Gread, read_nodes = BDOIp.form_network(lines, sorted_nodename=False)\n",
    "\n",
    "# calculate the mapping from string nodename to index\n",
    "mapping = {}  # nodename to number index\n",
    "inverse_mapping = {}  # number index to nodename\n",
    "read_nodes_dict = {}\n",
    "inverse_read_nodes = {}\n",
    "for i, node in enumerate(read_nodes):\n",
    "    index = prefix + str(i) + suffix\n",
    "    mapping[node] = index\n",
    "    inverse_mapping[index] = node\n",
    "    mapping['~' + node] = '~' + index\n",
    "    inverse_mapping['~' + index] = '~' + node\n",
    "    read_nodes_dict[i] = node\n",
    "    inverse_read_nodes[node] = i\n",
    "\n",
    "\n",
    "interest_cycles = [cycle for cycle in nx.simple_cycles(G=Gread) if cycle.count(inverse_read_nodes[interest_node]) > 0]\n",
    "\n",
    "interest_scc = set()\n",
    "for cycle in interest_cycles:\n",
    "    temp = set(cycle)\n",
    "    interest_scc.update(temp)\n",
    "\n",
    "print(interest_scc)\n",
    "\n",
    "scc_ex = BDOIp.Get_expanded_subnetwork(Gread=Gread, nodes=interest_scc)\n",
    "monostable_network = nx.subgraph(scc_ex, monostable_motif2(scc_ex, mapping[interest_node])).copy()\n",
    "\n",
    "isComposite = dict()\n",
    "for node in monostable_network.nodes():\n",
    "    isComposite[node] = node.find('_')>0\n",
    "nx.set_node_attributes(monostable_network, isComposite, name='is_composite')\n",
    "monostable_network = nx.relabel_nodes(monostable_network, inverse_mapping)\n",
    "nx.write_gml(monostable_network, '../networks/' + network_name + '_' + interest_node + '_monostable.gml')"
   ]
  },
  {
   "cell_type": "code",
   "execution_count": 102,
   "id": "passing-apache",
   "metadata": {},
   "outputs": [
    {
     "data": {
      "text/plain": [
       "'n06'"
      ]
     },
     "execution_count": 102,
     "metadata": {},
     "output_type": "execute_result"
    }
   ],
   "source": [
    "inverse_mapping[unstable_candidate(scc_ex, mapping[interest_node])]"
   ]
  },
  {
   "cell_type": "code",
   "execution_count": 104,
   "id": "peripheral-playing",
   "metadata": {},
   "outputs": [],
   "source": [
    "GExpanded = BDOIp.Get_expanded_network(Gread)\n",
    "isComposite = dict()\n",
    "for node in GExpanded.nodes():\n",
    "    isComposite[node] = node.find('_')>0\n",
    "nx.set_node_attributes(GExpanded, isComposite, name='is_composite')\n",
    "GExpanded = nx.relabel_nodes(GExpanded, inverse_mapping)\n",
    "nx.write_gml(GExpanded, '../networks/' + network_name + '_expanded.gml')"
   ]
  }
 ],
 "metadata": {
  "kernelspec": {
   "display_name": "Python 3",
   "language": "python",
   "name": "python3"
  },
  "language_info": {
   "codemirror_mode": {
    "name": "ipython",
    "version": 3
   },
   "file_extension": ".py",
   "mimetype": "text/x-python",
   "name": "python",
   "nbconvert_exporter": "python",
   "pygments_lexer": "ipython3",
   "version": "3.8.8"
  }
 },
 "nbformat": 4,
 "nbformat_minor": 5
}
