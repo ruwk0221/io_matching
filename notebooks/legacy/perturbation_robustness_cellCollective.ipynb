{
 "cells": [
  {
   "cell_type": "code",
   "execution_count": 1,
   "id": "subtle-infrastructure",
   "metadata": {},
   "outputs": [],
   "source": [
    "import sys\n",
    "import os\n",
    "sys.path.append(os.path.dirname(os.path.abspath(os.path.dirname('__file__'))))\n",
    "import jReversion as jR\n",
    "import pandas as pd\n",
    "import numpy as np\n",
    "import seaborn as sns\n",
    "import matplotlib\n",
    "import matplotlib.pyplot as plt\n",
    "from sklearn.metrics import accuracy_score, recall_score, precision_score, f1_score, balanced_accuracy_score\n",
    "import networkx as nx\n",
    "from statannot import add_stat_annotation\n",
    "import robustness as rb\n",
    "import concurrent.futures"
   ]
  },
  {
   "cell_type": "code",
   "execution_count": 2,
   "id": "retired-headline",
   "metadata": {},
   "outputs": [],
   "source": [
    "# networkModel =['bortezomib',\n",
    "#                 # 'igvh',\n",
    "#                 'apoptosis',\n",
    "#                 # 'aurora',\n",
    "#                 'bt474_long',\n",
    "#                 #'bt474_short',\n",
    "#                 # 'cd4t',\n",
    "#                 'colitis',\n",
    "#                 'death',\n",
    "#                 # 'egfr',\n",
    "#                 # 'erbb',\n",
    "#                 # 'fa_brca',\n",
    "#                 # 'fa_check',\n",
    "#                 'hcc1954_long',\n",
    "#                 #'hcc1954_short',\n",
    "#                 'hgf',\n",
    "#                 'mammalian',\n",
    "#                 # 'mammalian_2006',\n",
    "#                 'mapk',\n",
    "#                 'oxidative',\n",
    "#                 # 'pro_inflammatory',\n",
    "#                 #'fibroblasts',\n",
    "#                 'skbr3_long',\n",
    "#                 #'skbr3_short',\n",
    "#                 'tlgl_2008',\n",
    "#                 'tlgl_2011',\n",
    "#                 # 'tlgl_2011_reduced',\n",
    "#                 # 'prostate',\n",
    "#                 'migration']"
   ]
  },
  {
   "cell_type": "code",
   "execution_count": 3,
   "id": "continental-indonesian",
   "metadata": {},
   "outputs": [],
   "source": [
    "networkModel =['bortezomib',\n",
    "                # 'igvh',\n",
    "                'apoptosis',\n",
    "                # 'aurora',\n",
    "                'bt474_long',\n",
    "                'bt474_short',\n",
    "                # 'cd4t',\n",
    "                'colitis',\n",
    "                'death',\n",
    "                # 'egfr',\n",
    "                # 'erbb',\n",
    "                # 'fa_brca',\n",
    "                # 'fa_check',\n",
    "                'hcc1954_long',\n",
    "                'hcc1954_short',\n",
    "                'hgf',\n",
    "                'mammalian',\n",
    "                # 'mammalian_2006',\n",
    "                'mapk',\n",
    "                'oxidative',\n",
    "                # 'pro_inflammatory',\n",
    "                'fibroblasts',\n",
    "                'skbr3_long',\n",
    "                'skbr3_short',\n",
    "                'tlgl_2008',\n",
    "                'tlgl_2011',\n",
    "                # 'tlgl_2011_reduced',\n",
    "                # 'prostate',\n",
    "                'migration']"
   ]
  },
  {
   "cell_type": "code",
   "execution_count": 4,
   "id": "structural-skating",
   "metadata": {
    "scrolled": true
   },
   "outputs": [],
   "source": [
    "# robustness_CC = dict()\n",
    "# with concurrent.futures.ProcessPoolExecutor(max_workers=14) as executor:\n",
    "#     futures = {executor.submit(rb.par_robustness_primary_attractor_perturbation, model=M, directory='../', state_num=2**15): M for M in networkModel}\n",
    "\n",
    "# for future in concurrent.futures.as_completed(futures):\n",
    "#     Model = futures[future]\n",
    "#     temp = future.result()\n",
    "#     robustness_CC[Model] = temp['robustness'] "
   ]
  },
  {
   "cell_type": "code",
   "execution_count": 5,
   "id": "olympic-coordinator",
   "metadata": {},
   "outputs": [],
   "source": [
    "# data = pd.DataFrame(columns=['network', 'robustness'])\n",
    "# for model in networkModel:\n",
    "#     data = data.append({'network': model, 'robustness': robustness_CC[model]}, ignore_index=True)        "
   ]
  },
  {
   "cell_type": "code",
   "execution_count": 6,
   "id": "female-content",
   "metadata": {},
   "outputs": [],
   "source": [
    "# data.to_csv('../data/robustness_perturbation_cellCollective_2_15.csv')"
   ]
  },
  {
   "cell_type": "code",
   "execution_count": 7,
   "id": "raising-toronto",
   "metadata": {
    "scrolled": false
   },
   "outputs": [
    {
     "data": {
      "image/png": "[encoded data removed]",
      "text/plain": [
       "<Figure size 1080x432 with 1 Axes>"
      ]
     },
     "metadata": {
      "needs_background": "light"
     },
     "output_type": "display_data"
    }
   ],
   "source": [
    "# g = sns.catplot(x='network', y='robustness', data=data, kind='bar', height=6, aspect=2.5)"
   ]
  },
  {
   "cell_type": "code",
   "execution_count": 13,
   "id": "organic-printer",
   "metadata": {},
   "outputs": [],
   "source": [
    "sampling_num = 20"
   ]
  },
  {
   "cell_type": "code",
   "execution_count": null,
   "id": "strategic-handbook",
   "metadata": {},
   "outputs": [],
   "source": [
    "robustness_CC = dict()\n",
    "with concurrent.futures.ProcessPoolExecutor(max_workers=14) as executor:\n",
    "    futures = {executor.submit(rb.par_robustness_initial_perturbation, model=M, directory='../', state_num=2**sampling_num): M for M in networkModel}\n",
    "\n",
    "for future in concurrent.futures.as_completed(futures):\n",
    "    Model = futures[future]\n",
    "    temp = future.result()\n",
    "    robustness_CC[Model] = temp['robustness'] \n",
    "\n",
    "data = pd.DataFrame(columns=['network', 'robustness'])\n",
    "for model in networkModel:\n",
    "    data = data.append({'network': model, 'robustness': robustness_CC[model]}, ignore_index=True)"
   ]
  },
  {
   "cell_type": "code",
   "execution_count": null,
   "id": "painted-textbook",
   "metadata": {},
   "outputs": [],
   "source": [
    "g = sns.catplot(x='network', y='robustness', data=data, kind='bar', height=6, aspect=2.5)"
   ]
  },
  {
   "cell_type": "code",
   "execution_count": null,
   "id": "binding-bearing",
   "metadata": {},
   "outputs": [],
   "source": [
    "data.to_csv('../data/robustness_initial_perturbation_cellCollective_2_'+ str(sampling_num) + '.csv')"
   ]
  }
 ],
 "metadata": {
  "kernelspec": {
   "display_name": "Python 3",
   "language": "python",
   "name": "python3"
  },
  "language_info": {
   "codemirror_mode": {
    "name": "ipython",
    "version": 3
   },
   "file_extension": ".py",
   "mimetype": "text/x-python",
   "name": "python",
   "nbconvert_exporter": "python",
   "pygments_lexer": "ipython3",
   "version": "3.8.8"
  }
 },
 "nbformat": 4,
 "nbformat_minor": 5
}
