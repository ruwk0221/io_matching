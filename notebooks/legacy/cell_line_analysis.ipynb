{
 "cells": [
  {
   "cell_type": "code",
   "execution_count": 14,
   "metadata": {},
   "outputs": [],
   "source": [
    "import pandas as pd\n",
    "import numpy as np"
   ]
  },
  {
   "cell_type": "code",
   "execution_count": 15,
   "metadata": {
    "pycharm": {
     "name": "#%%\n"
    }
   },
   "outputs": [
    {
     "name": "stdout",
     "output_type": "stream",
     "text": [
      "  cell_line_name  cosmic_sample_id         gdsc_desc1 gdsc_desc2 tcga_desc  \\\n",
      "0      LB831-BLC            753584  urogenital_system    bladder      BLCA   \n",
      "1      LB831-BLC            753584  urogenital_system    bladder      BLCA   \n",
      "2      LB831-BLC            753584  urogenital_system    bladder      BLCA   \n",
      "3      LB831-BLC            753584  urogenital_system    bladder      BLCA   \n",
      "4      LB831-BLC            753584  urogenital_system    bladder      BLCA   \n",
      "\n",
      "  genetic_feature  is_mutated  \n",
      "0       cnaBLCA24           0  \n",
      "1       cnaBLCA23           0  \n",
      "2       cnaBLCA22           0  \n",
      "3       cnaBLCA21           0  \n",
      "4       cnaBLCA20           1  \n",
      "  gene_symbol node_name\n",
      "0        ATF2      ATF2\n",
      "1         ATM       ATM\n",
      "2        ELK1      ELK1\n",
      "3         FOS       FOS\n",
      "4        FRS2      FRS2\n",
      "{'cnaBLCA5': ['AADAT', 'ACSL1', 'ADAM29', 'AGA', 'ANKRD37', 'ANXA10', 'ASB5', 'C4orf27', 'C4orf47', 'CASP3', 'CBR4', 'CCDC110', 'CDKN2AIP', 'CENPU', 'CEP44', 'CLCN3', 'CLDN22', 'CLDN24', 'CPE', 'CYP4V2', 'DCTD', 'DDX60', 'DDX60L', 'ENPP6', 'F11', 'FAM149A', 'FAM218A', 'FAT1', 'FBXO8', 'FSTL5', 'GALNT7', 'GALNTL6', 'GLRA3', 'GPM6A', 'HAND2', 'HELT', 'HMGB2', 'HPGD', 'ING2', 'IRF2', 'KIAA1430', 'KLHL2', 'KLKB1', 'LINC01098', 'LRP2BP', '01-Mar', 'MFAP3L', 'MSMO1', 'MTNR1A', 'NAF1', 'NEIL3', 'NEK1', 'NPY1R', 'NPY5R', 'PALLD', 'PDLIM3', 'PRIMPOL', 'RP11-215A19.2', 'RP11-279O9.4', 'RP11-487E13.1', 'RP11-701P16.2', 'RWDD4', 'SAP30', 'SCRG1', 'SH3RF1', 'SLC25A4', 'SNX25', 'SORBS2', 'SPATA4', 'SPCS3', 'SPOCK3', 'STOX2', 'TENM3', 'TKTL2', 'TLL1', 'TLR3', 'TMA16', 'TMEM192', 'TRAPPC11', 'TRIM60', 'TRIM61', 'UFSP2', 'VEGFC', 'WDR17', 'WWC2'], 'cnaBLCA4': ['C4orf48', 'FAM53A', 'FGFR3', 'HAUS3', 'LETM1', 'MXD4', 'NAT8L', 'NELFA', 'POLN', 'RNF4', 'RP11-503N18.3', 'SLBP', 'TACC3', 'TMEM129', 'WHSC1', 'ZFYVE28'], 'cnaBLCA16': ['ERBB2', 'GRB7', 'IKZF3', 'MIEN1', 'PGAP3', 'PNMT', 'STARD3', 'TCAP'], 'cnaBLCA10': ['ZNF429'], 'cnaBLCA17': ['SPTBN5'], 'cnaBLCA11': ['BRE', 'MRPL33'], 'cnaBLCA23': ['MYC', 'POU5F1B'], 'cnaBLCA15': ['ACSS2', 'ACTL10', 'AHCY', 'ASIP', 'ASXL1', 'BCL2L1', 'BPIFA1', 'BPIFA2', 'BPIFA3', 'BPIFB1', 'BPIFB2', 'BPIFB3', 'BPIFB4', 'BPIFB6', 'C20orf112', 'C20orf144', 'CBFA2T2', 'CCM2L', 'CDK5RAP1', 'CHMP4B', 'COMMD7', 'COX4I2', 'DEFB115', 'DEFB116', 'DEFB118', 'DEFB119', 'DEFB121', 'DEFB123', 'DEFB124', 'DNMT3B', 'DUSP15', 'DYNLRB1', 'E2F1', 'EFCAB8', 'EIF2S2', 'FOXS1', 'GGT7', 'GSS', 'HCK', 'HM13', 'ID1', 'ITCH', 'KIF3B', 'MAP1LC3A', 'MAPRE1', 'MYLK2', 'NCOA6', 'NECAB3', 'PDRG1', 'PIGU', 'PLAGL2', 'POFUT1', 'PXMP4', 'RALY', 'REM1', 'RP11-410N8.4', 'SNTA1', 'SUN5', 'TM9SF4', 'TP53INP2', 'TPX2', 'XKR7', 'ZNF341'], 'cnaBLCA22': ['ANKRD46', 'FBXO43', 'GRHL2', 'PABPC1', 'POLR2K', 'RGS22', 'RNF19A', 'SNX31', 'SPAG1', 'YWHAZ', 'ZNF706'], 'cnaBLCA24': ['PTGR1', 'ZNF483'], 'cnaBLCA8': ['IQSEC1'], 'cnaBLCA12': ['BMP8A', 'BMP8B', 'CAP1', 'CCDC30', 'CITED4', 'COL9A2', 'CTPS1', 'EDN2', 'EXO5', 'FOXJ3', 'FOXO6', 'GUCA2A', 'GUCA2B', 'HEYL', 'HIVEP3', 'HPCAL4', 'KCNQ4', 'KIAA0754', 'MACF1', 'MFSD2A', 'MYCL', 'NDUFS5', 'NFYC', 'NT5C1A', 'OXCT2', 'PABPC4', 'PPCS', 'PPIE', 'PPT1', 'RIMKLA', 'RIMS3', 'RLF', 'SCMH1', 'SLFNL1', 'SMAP2', 'TMCO2', 'TRIT1', 'ZFP69', 'ZFP69B', 'ZMPSTE24', 'ZMYND12', 'ZNF684'], 'cnaBLCA13': ['ADAMTS4', 'APOA2', 'ARHGAP30', 'ATF6', 'ATP1A2', 'ATP1A4', 'B4GALT3', 'C1orf110', 'C1orf111', 'C1orf192', 'C1orf204', 'C1orf226', 'CASQ1', 'CCDC19', 'CD244', 'CD48', 'CD84', 'COPA', 'DCAF8', 'DCAF8', 'DDR2', 'DEDD', 'DUSP12', 'F11R', 'FCER1G', 'FCGR2A', 'FCGR2B', 'FCGR3A', 'FCGR3B', 'FCRL6', 'FCRLA', 'FCRLB', 'HSD17B7', 'HSPA6', 'IGSF8', 'IGSF9', 'ITLN1', 'ITLN2', 'KCNJ10', 'KCNJ9', 'KLHDC9', 'LY9', 'MPZ', 'NCSTN', 'NDUFS2', 'NHLH1', 'NIT1', 'NOS1AP', 'NR1I3', 'OLFML2B', 'PCP4L1', 'PEA15', 'PEX19', 'PFDN2', 'PIGM', 'PPOX', 'PVRL4', 'RP11-190A12.7', 'RP11-544M22.13', 'RP11-565P22.6', 'SDHC', 'SH2D1B', 'SLAMF1', 'SLAMF6', 'SLAMF7', 'SLAMF8', 'SLAMF9', 'TAGLN2', 'TOMM40L', 'TSTD1', 'UAP1', 'UFC1', 'UHMK1', 'USF1', 'USP21', 'VANGL2', 'VSIG8'], 'cnaBLCA14': ['SMPDL3B'], 'cnaBLCA2': ['ABHD3', 'ANKRD29', 'C18orf8', 'CABLES1', 'CTAGE1', 'ESCO1', 'GATA6', 'GREB1L', 'MIB1', 'NPC1', 'RBBP8', 'RIOK3', 'ROCK1', 'RP11-595B24.2', 'SNRPD1', 'TMEM241'], 'cnaBLCA6': ['HBE1', 'HBG2'], 'cnaBLCA18': ['ADCY7', 'AKTIP', 'AMFR', 'ARL2BP', 'BBS2', 'BRD7', 'C16orf78', 'C16orf80', 'C16orf97', 'CAPNS2', 'CBLN1', 'CCDC102A', 'CCDC113', 'CCDC135', 'CCL17', 'CCL22', 'CDH8', 'CES1', 'CES5A', 'CETP', 'CHD9', 'CIAPIN1', 'CNEP1R1', 'CNGB1', 'CNOT1', 'COQ9', 'CPNE2', 'CSNK2A2', 'CTD-2600O9.1', 'CX3CL1', 'CYLD', 'DOK4', 'FAM192A', 'FTO', 'GINS3', 'GNAO1', 'GOT2', 'GPR114', 'GPR56', 'GPR97', 'HEATR3', 'HERPUD1', 'IRX3', 'IRX5', 'IRX6', 'KATNB1', 'KIFC3', 'LPCAT2', 'MMP15', 'MMP2', 'MT1A', 'MT1B', 'MT1E', 'MT1F', 'MT1G', 'MT1H', 'MT1M', 'MT1X', 'MT2A', 'MT3', 'MT4', 'N4BP1', 'NDRG4', 'NKD1', 'NLRC5', 'NOD2', 'NUDT21', 'NUP93', 'OGFOD1', 'PAPD5', 'PLLP', 'POLR2C', 'PRSS54', 'RBL2', 'RP11-105C20.2', 'RP11-324D17.1', 'RPGRIP1L', 'RSPRY1', 'SALL1', 'SETD6', 'SLC12A3', 'SLC38A7', 'SLC6A2', 'SNX20', 'TEPP', 'TOX3', 'USB1', 'ZNF319', 'ZNF423'], 'cnaBLCA3': ['ACBD7', 'ADARB2', 'AKR1C1', 'AKR1C2', 'AKR1C3', 'AKR1C4', 'AKR1CL1', 'AKR1E2', 'ANKRD16', 'ARL5B', 'ASB13', 'ATP5C1', 'BEND7', 'C10orf111', 'C1QL3', 'CACNB2', 'CALML3', 'CALML5', 'CAMK1D', 'CCDC3', 'CDC123', 'CDNF', 'CELF2', 'CUBN', 'DCLRE1C', 'DHTKD1', 'DIP2C', 'ECHDC3', 'FAM107B', 'FAM171A1', 'FAM188A', 'FAM208B', 'FBXO18', 'FRMD4A', 'GATA3', 'GDI2', 'GTPBP4', 'HSPA14', 'IDI1', 'IDI2', 'IL15RA', 'IL2RA', 'ITGA8', 'ITIH2', 'ITIH5', 'KIN', 'KLF6', 'LARP4B', 'MCM10', 'MEIG1', 'MRC1', 'MRC1L1', 'NET1', 'NMT2', 'NSUN6', 'NUDT5', 'OLAH', 'OPTN', 'PFKFB3', 'PFKP', 'PHYH', 'PITRM1', 'PRKCQ', 'PROSER2', 'PRPF18', 'PRR26', 'PTER', 'PTPLA', 'RBM17', 'RP11-139J15.7', 'RP11-295P9.3', 'RPP38', 'RSU1', 'SEC61A2', 'SEPHS1', 'SFMBT2', 'SLC39A12', 'ST8SIA6', 'STAM', 'SUV39H2', 'TAF3', 'TMEM236', 'TMEM236', 'TRDMT1', 'TUBAL3', 'UCMA', 'UCN3', 'UPF2', 'USP6NL', 'VIM', 'WDR37\\n'], 'cnaBLCA20': ['RCBTB2'], 'cnaBLCA21': ['CCT6A', 'CHCHD2', 'EGFR', 'GBAS', 'LANCL2', 'MRPS17', 'MRPS17', 'NUPR1L', 'PHKG1', 'POM121L12', 'PSPH', 'SEC61G', '14-Sep', 'SUMF2', 'VOPP1', 'VSTM2A', 'ZNF479', 'ZNF713'], 'cnaBLCA1': ['ADCYAP1', 'AFG3L2', 'ANKRD12', 'ANKRD62', 'AP005482.1', 'APCDD1', 'ARHGAP28', 'C18orf42', 'C18orf56', 'C18orf64', 'CEP192', 'CEP76', 'CETN1', 'CHMP1B', 'CIDEA', 'CLUL1', 'COLEC12', 'DLGAP1', 'EMILIN2', 'ENOSF1', 'EPB41L3', 'FAM210A', 'GNAL', 'IMPA2', 'L3MBTL4', 'LAMA1', 'LDLRAD4', 'LPIN2', 'LRRC30', 'MC2R', 'MC5R', 'METTL4', 'MPPE1', 'MYL12A', 'MYL12B', 'MYOM1', 'NAPG', 'NDC80', 'NDUFV2', 'PIEZO2', 'POTEC', 'PPP4R1', 'PSMG2', 'PTPN2', 'PTPRM', 'RAB12', 'RAB31', 'RALBP1', 'RNMT', 'SEH1L', 'SLMO1', 'SMCHD1', 'SOGA2', 'SPIRE1', 'TGIF1', 'TMEM200C', 'TUBB6', 'TWSG1', 'TXNDC2', 'TYMS', 'VAPA', 'YES1', 'ZBTB14', 'ZNF519'], 'cnaBLCA19': ['ABHD13', 'ADPRHL1', 'ANKRD10', 'ARGLU1', 'ARHGEF7', 'ATP11A', 'ATP4B', 'BIVM', 'BIVM-ERCC5', 'C13orf35', 'CARKD', 'CARS2', 'CLYBL', 'COL4A1', 'COL4A2', 'CUL4A', 'DAOA', 'DCUN1D2', 'DOCK9', 'EFNB2', 'ERCC5', 'F10', 'F7', 'FAM155A', 'FARP1', 'FGF14', 'GAS6', 'GGACT', 'GPR18', 'GPR183', 'GRK1', 'GRTP1', 'ING1', 'IPO5', 'IRS2', 'ITGBL1', 'KDELC1', 'LAMP1', 'LIG4', 'MBNL2', 'MCF2L', 'METTL21C', 'MYO16', 'NALCN', 'PCCA', 'PCID2', 'PROZ', 'RAB20', 'RAP2A', 'RASA3', 'RNF113B', 'RP11-65D24.2', 'SLC10A2', 'SLC15A1', 'SOX1', 'SPACA7', 'STK24', 'TEX29', 'TEX30', 'TFDP1', 'TM9SF2', 'TMCO3', 'TMEM255B', 'TMTC4', 'TNFSF13B', 'TPP2', 'TUBGCP3', 'UBAC2', 'ZIC2', 'ZIC5'], 'cnaBLCA7': ['C3orf83', 'CAND2', 'MKRN2', 'PPARG', 'RAF1', 'TAMM41', 'TIMP4', 'TMEM40', 'TSEN2', 'VGLL4'], 'cnaBLCA9': ['CDKAL1', 'E2F3', 'HDGFL1', 'ID4', 'MBOAT1', 'PRL', 'SOX4']}\n",
      "{'cnaBLCA5': 'loss', 'cnaBLCA4': 'gain', 'cnaBLCA16': 'gain', 'cnaBLCA10': 'loss', 'cnaBLCA17': 'loss', 'cnaBLCA11': 'loss', 'cnaBLCA23': 'gain', 'cnaBLCA15': 'gain', 'cnaBLCA22': 'gain', 'cnaBLCA24': 'loss', 'cnaBLCA8': 'gain', 'cnaBLCA12': 'gain', 'cnaBLCA13': 'gain', 'cnaBLCA14': 'loss', 'cnaBLCA2': 'gain', 'cnaBLCA6': 'loss', 'cnaBLCA18': 'loss', 'cnaBLCA3': 'gain', 'cnaBLCA20': 'loss', 'cnaBLCA21': 'gain', 'cnaBLCA1': 'gain', 'cnaBLCA19': 'gain', 'cnaBLCA7': 'gain', 'cnaBLCA9': 'gain'}\n"
     ]
    }
   ],
   "source": [
    "# load\n",
    "genetic_feature = pd.read_csv('../bladder_cell_line/BLCA_Genetic_feature_jijoo.csv')\n",
    "print(genetic_feature.head())\n",
    "gene_node_mapping = pd.read_csv('../bladder_cell_line/Grieco_gene_node_mapping.csv')\n",
    "print(gene_node_mapping.head())\n",
    "\n",
    "cna_gene = dict()\n",
    "cna_gl = dict()\n",
    "with open('../bladder_cell_line/BLCA_CNA.csv', 'r') as f:\n",
    "    lines = f.readlines()\n",
    "    for line in lines[1:]:\n",
    "        line = line.split(',')\n",
    "        cna_gene[line[0]] = [x for x in line[2:] if len(x) > 1]\n",
    "        cna_gl[line[0]] = line[1]\n",
    "print(cna_gene)\n",
    "print(cna_gl)"
   ]
  },
  {
   "cell_type": "code",
   "execution_count": 16,
   "metadata": {
    "pycharm": {
     "name": "#%%\n"
    }
   },
   "outputs": [
    {
     "name": "stdout",
     "output_type": "stream",
     "text": [
      "            node_name driver_gene_status\n",
      "gene_symbol                             \n",
      "ATF2             ATF2                NaN\n",
      "ATM               ATM  Tumour Suppressor\n",
      "ELK1             ELK1                NaN\n",
      "FOS               FOS                NaN\n",
      "FRS2             FRS2                NaN\n"
     ]
    }
   ],
   "source": [
    "cancer_gene = pd.read_csv('../bladder_cell_line/cancer_genes_20191101.csv')\n",
    "cancer_gene_node = pd.merge(gene_node_mapping, cancer_gene, on='gene_symbol', how='left')\n",
    "cancer_gene_node = cancer_gene_node.set_index('gene_symbol')\n",
    "print(cancer_gene_node.head())\n",
    "\n"
   ]
  },
  {
   "cell_type": "code",
   "execution_count": 17,
   "metadata": {
    "pycharm": {
     "name": "#%%\n"
    }
   },
   "outputs": [
    {
     "name": "stdout",
     "output_type": "stream",
     "text": [
      "{'HT-1197', 'J82', 'DSH1', 'UM-UC-3', 'SW1710', 'CAL-29', 'HT-1376', 'LB831-BLC', 'SW780', 'VM-CUB-1', '639-V', 'BFTC-905', 'TCCSUP', 'RT4', 'KU-19-19', '5637', '647-V', 'RT-112'}\n",
      "{'PKC', 'RAF', 'JNK', 'p70', 'MEK1_2', 'PTEN', 'CREB', 'ATF2', 'FOS', 'FRS2', 'DUSP1', 'PLCG', 'RSK', 'GRB2', 'PPP2CA', 'SOS', 'AKT', 'p38', 'ATM', 'FGFR3', 'GAB1', 'PI3K', 'FOXO3', 'RAS', 'ERK', 'p14', 'p53', 'TAOK', 'EGFR', 'SMAD', 'TGFBR', 'MAX', 'MSK', 'PDK1', 'JUN', 'MDM2', 'ELK1', 'SPRY', 'p21', 'TAK1', 'BCL2', 'MAP3K1_3', 'MYC', 'GADD45', 'MTK1'}\n",
      "         PKC  RAF  JNK  p70  MEK1_2  PTEN  CREB  ATF2  FOS  FRS2  ...  MDM2  \\\n",
      "HT-1197    0    0    0    0       0     0     0     0    0     0  ...     0   \n",
      "J82        0    0    0    0       0     0     0     0    0     0  ...     0   \n",
      "DSH1       0    0    0    0       0     0     0     0    0     0  ...     0   \n",
      "UM-UC-3    0    0    0    0       0     0     0     0    0     0  ...     0   \n",
      "SW1710     0    0    0    0       0     0     0     0    0     0  ...     0   \n",
      "\n",
      "         ELK1  SPRY  p21  TAK1  BCL2  MAP3K1_3  MYC  GADD45  MTK1  \n",
      "HT-1197     0     0    0     0     0         0    0       0     0  \n",
      "J82         0     0    0     0     0         0    0       0     0  \n",
      "DSH1        0     0    0     0     0         0    0       0     0  \n",
      "UM-UC-3     0     0    0     0     0         0    0       0     0  \n",
      "SW1710      0     0    0     0     0         0    0       0     0  \n",
      "\n",
      "[5 rows x 45 columns]\n"
     ]
    }
   ],
   "source": [
    "cell_line_set = set(genetic_feature['cell_line_name'])\n",
    "print(cell_line_set)\n",
    "node_set = set(gene_node_mapping['node_name'])\n",
    "print(node_set)\n",
    "cell_line_mapping = pd.DataFrame(0, index=cell_line_set, columns=node_set)\n",
    "print(cell_line_mapping.head())"
   ]
  },
  {
   "cell_type": "code",
   "execution_count": 18,
   "metadata": {
    "pycharm": {
     "name": "#%%\n"
    }
   },
   "outputs": [
    {
     "name": "stdout",
     "output_type": "stream",
     "text": [
      "genetic_feature  AHNAK_mut  ANK3_mut  ARID1A_mut  ASXL2_mut  BAP1_mut  \\\n",
      "cell_line_name                                                          \n",
      "5637                   0.0       0.0         0.0        0.0       0.0   \n",
      "639-V                  0.0       0.0         0.0        0.0       0.0   \n",
      "647-V                  0.0       0.0         0.0        0.0       0.0   \n",
      "BFTC-905               0.0       0.0         0.0        0.0       0.0   \n",
      "CAL-29                 0.0       0.0         0.0        0.0       0.0   \n",
      "\n",
      "genetic_feature  CAD_mut  CDKN1A_mut  CDKN1B_mut  CDKN2A_mut  CEP290_mut  ...  \\\n",
      "cell_line_name                                                            ...   \n",
      "5637                 0.0         0.0         0.0         0.0         0.0  ...   \n",
      "639-V                1.0         0.0         0.0         0.0         0.0  ...   \n",
      "647-V                0.0         1.0         0.0         0.0         0.0  ...   \n",
      "BFTC-905             0.0         0.0         0.0         0.0         0.0  ...   \n",
      "CAL-29               0.0         0.0         0.0         0.0         0.0  ...   \n",
      "\n",
      "genetic_feature  cnaBLCA22  cnaBLCA23  cnaBLCA24  cnaBLCA3  cnaBLCA4  \\\n",
      "cell_line_name                                                         \n",
      "5637                   0.0        0.0        0.0       0.0       0.0   \n",
      "639-V                  0.0        0.0        0.0       0.0       0.0   \n",
      "647-V                  0.0        0.0        0.0       0.0       0.0   \n",
      "BFTC-905               0.0        1.0        0.0       0.0       0.0   \n",
      "CAL-29                 0.0        0.0        0.0       0.0       0.0   \n",
      "\n",
      "genetic_feature  cnaBLCA5  cnaBLCA6  cnaBLCA7  cnaBLCA8  cnaBLCA9  \n",
      "cell_line_name                                                     \n",
      "5637                  0.0       0.0       1.0       1.0       1.0  \n",
      "639-V                 0.0       0.0       0.0       0.0       0.0  \n",
      "647-V                 1.0       0.0       0.0       0.0       0.0  \n",
      "BFTC-905              0.0       0.0       0.0       0.0       0.0  \n",
      "CAL-29                0.0       0.0       0.0       0.0       0.0  \n",
      "\n",
      "[5 rows x 58 columns]\n"
     ]
    }
   ],
   "source": [
    "pivot_genetic_feature = genetic_feature.pivot(index='cell_line_name', columns='genetic_feature', values='is_mutated')\n",
    "print(pivot_genetic_feature.head())"
   ]
  },
  {
   "cell_type": "code",
   "execution_count": 19,
   "metadata": {
    "pycharm": {
     "name": "#%%\n"
    }
   },
   "outputs": [
    {
     "name": "stdout",
     "output_type": "stream",
     "text": [
      "         PKC  RAF  JNK  p70  MEK1_2  PTEN  CREB  ATF2  FOS  FRS2  ...  MDM2  \\\n",
      "HT-1197    0    0    0    0       0     0     0     0    0     0  ...     0   \n",
      "J82        0    0    0    0       0     0     0     0    0     0  ...     0   \n",
      "DSH1       0    0    0    0       0     0     0     0    0     0  ...     0   \n",
      "UM-UC-3    0    0    0    0       0     0     0     0    0     0  ...     0   \n",
      "SW1710     0    0    0    0       0     0     0     0    0     0  ...     0   \n",
      "\n",
      "         ELK1  SPRY  p21  TAK1  BCL2  MAP3K1_3  MYC  GADD45  MTK1  \n",
      "HT-1197     0     0    0     0     0         0    0       0     0  \n",
      "J82         0     0    0     0     0         0    0       0     0  \n",
      "DSH1        0     0    0     0     0         0    0       0     0  \n",
      "UM-UC-3     0     0    0     0     0         0  100       0     0  \n",
      "SW1710      0     0    0     0     0         0  100       0     0  \n",
      "\n",
      "[5 rows x 45 columns]\n"
     ]
    }
   ],
   "source": [
    "for idx in pivot_genetic_feature.index:\n",
    "    for col in pivot_genetic_feature.columns:\n",
    "        if pivot_genetic_feature.loc[idx, col] == 1:\n",
    "            if 'mut' in col:\n",
    "                gene = col.split('_')[0]\n",
    "                if gene in cancer_gene_node.index:\n",
    "                    if cancer_gene_node.loc[gene]['driver_gene_status'] == 'Tumor Suppressor':\n",
    "                        node_name = cancer_gene_node.loc[gene]['node_name']\n",
    "                        cell_line_mapping.loc[idx][node_name] -= 35\n",
    "                    elif cancer_gene_node.loc[gene]['driver_gene_status'] == 'Oncogene':\n",
    "                        node_name = cancer_gene_node.loc[gene]['node_name']\n",
    "                        cell_line_mapping.loc[idx][node_name] += 20\n",
    "            elif 'cna' in col:\n",
    "                for gene in cna_gene[col]:\n",
    "                    if gene in cancer_gene_node.index:\n",
    "                        node_name = cancer_gene_node.loc[gene]['node_name']\n",
    "                        if cna_gl[col] == 'loss':\n",
    "                            cell_line_mapping.loc[idx][node_name] -= 200\n",
    "                        elif cna_gl[col] == 'gain':\n",
    "                            cell_line_mapping.loc[idx][node_name] += 100\n",
    "print(cell_line_mapping.head())\n",
    "# cell_line_mapping.to_csv('../bladder_cell_line/bladder_cancer_cell_mapping.csv')"
   ]
  },
  {
   "cell_type": "code",
   "execution_count": 20,
   "metadata": {
    "pycharm": {
     "name": "#%%\n"
    }
   },
   "outputs": [
    {
     "name": "stdout",
     "output_type": "stream",
     "text": [
      "      Drug name  Drug Id Cell line name  Cosmic sample Id TCGA classification  \\\n",
      "0  Camptothecin     1003           5637            687452                BLCA   \n",
      "1  Camptothecin     1003            RT4            687455                BLCA   \n",
      "2  Camptothecin     1003          SW780            687457                BLCA   \n",
      "3  Camptothecin     1003         TCCSUP            687459                BLCA   \n",
      "4  Camptothecin     1003        UM-UC-3            724838                BLCA   \n",
      "\n",
      "              Tissue Tissue sub-type      IC50       AUC  Max conc      RMSE  \\\n",
      "0  urogenital_system         bladder -2.314530  0.849668       0.1  0.081395   \n",
      "1  urogenital_system         bladder -2.798417  0.842073       0.1  0.083943   \n",
      "2  urogenital_system         bladder -1.647826  0.892707       0.1  0.080465   \n",
      "3  urogenital_system         bladder -1.865504  0.866922       0.1  0.078944   \n",
      "4  urogenital_system         bladder -3.862462  0.736721       0.1  0.092083   \n",
      "\n",
      "    Z score Dataset version  \n",
      "0 -0.098868           GDSC2  \n",
      "1 -0.334662           GDSC2  \n",
      "2  0.226011           GDSC2  \n",
      "3  0.119938           GDSC2  \n",
      "4 -0.853162           GDSC2  \n"
     ]
    }
   ],
   "source": [
    "# Drug sensitivity\n",
    "pharmaco_profile = pd.read_csv('../bladder_cell_line/BLCA_IC_Tue Jul  7 09_26_30 2020.csv')\n",
    "print(pharmaco_profile.head())\n",
    "pivot_pharmaco_profile_ic50 = pharmaco_profile.pivot(index='Cell line name', columns='Drug Id', values='IC50')\n",
    "pivot_pharmaco_profile_auc = pharmaco_profile.pivot(index='Cell line name', columns='Drug Id', values='AUC')\n",
    "pivot_pharmaco_profile_zscore = pharmaco_profile.pivot(index='Cell line name', columns='Drug Id', values='Z score')\n",
    "# print(pivot_pharmaco_profile.head())"
   ]
  },
  {
   "cell_type": "code",
   "execution_count": 21,
   "metadata": {
    "pycharm": {
     "name": "#%%\n"
    }
   },
   "outputs": [
    {
     "name": "stdout",
     "output_type": "stream",
     "text": [
      "          drug_name                                           synonyms  \\\n",
      "drug_id                                                                  \n",
      "1559     Luminespib                 AUY922, VER-52296,NVP-AUY922,  AUY   \n",
      "1058     Pictilisib                         GDC-0941, GDC0941, RG-7621   \n",
      "1088     Irinotecan  Camptosar, (+)-Irinotecan, Irinotecanum, irino...   \n",
      "1549      Sapitinib                                            AZD8931   \n",
      "1558      Lapatinib                                     Tykerb, Tyverb   \n",
      "\n",
      "                              pathway_name             targets   pubchem  \n",
      "drug_id                                                                   \n",
      "1559     Protein stability and degradation               HSP90  10096043  \n",
      "1058                   PI3K/MTOR signaling      PI3K (class 1)  17755052  \n",
      "1088                       DNA replication                TOP1     60838  \n",
      "1549                        EGFR signaling  EGFR, ERBB2, ERBB3  11488320  \n",
      "1558                        EGFR signaling         EGFR, ERBB2    208908  \n"
     ]
    }
   ],
   "source": [
    "# Drug info\n",
    "drug_info = pd.read_excel('../bladder_cell_line/gdsc_drugs.xls', sheet_name='Sheet1')\n",
    "drug_info = drug_info.set_index('drug_id')\n",
    "print(drug_info.head())"
   ]
  },
  {
   "cell_type": "code",
   "execution_count": 22,
   "metadata": {
    "pycharm": {
     "name": "#%%\n"
    }
   },
   "outputs": [
    {
     "name": "stdout",
     "output_type": "stream",
     "text": [
      "       Class  Canalizing  UnreachableEffective   FFL2   FFL3   FFL4   FFL5  \\\n",
      "node                                                                         \n",
      "EGFR      C2       False                  True   True   True  False  False   \n",
      "GADD45    C3       False                 False  False  False  False  False   \n",
      "MAX       C1       False                 False   True   True   True   True   \n",
      "TGFBR     C3        True                 False  False  False  False  False   \n",
      "FOS       C0       False                 False  False  False  False  False   \n",
      "\n",
      "         FFL6   FFL7  FBL  \n",
      "node                       \n",
      "EGFR    False  False    0  \n",
      "GADD45  False  False    0  \n",
      "MAX      True   True    0  \n",
      "TGFBR   False  False    0  \n",
      "FOS     False  False    0  \n"
     ]
    }
   ],
   "source": [
    "# node info\n",
    "grieco_original_network_table = pd.read_csv('../data/Grieco_table_for_original_network.tsv', sep='\\t')\n",
    "grieco_original_network_table = grieco_original_network_table.set_index(keys='node')\n",
    "print(grieco_original_network_table.head())\n",
    "# %%\n",
    "\n",
    "reverse_controllability_cell_line = pd.DataFrame(0, index=cell_line_set, columns=['C0', 'C1', 'C2', 'C3', 'reversibility_score'])\n",
    "for cell_line in cell_line_mapping.index:\n",
    "    for node in cell_line_mapping.columns:\n",
    "        val = cell_line_mapping.loc[cell_line][node]\n",
    "        if val != 0:\n",
    "            node_class = grieco_original_network_table.loc[node]['Class']\n",
    "            reverse_controllability_cell_line.loc[cell_line][node_class] += 1"
   ]
  },
  {
   "cell_type": "code",
   "execution_count": 23,
   "metadata": {
    "pycharm": {
     "name": "#%%\n"
    }
   },
   "outputs": [
    {
     "name": "stdout",
     "output_type": "stream",
     "text": [
      "         C0  C1  C2  C3  reversibility_score\n",
      "HT-1197   0   1   0   0                   -2\n",
      "J82       0   0   0   0                    0\n",
      "DSH1      0   0   0   0                    0\n",
      "UM-UC-3   0   0   0   1                    3\n",
      "SW1710    0   0   0   1                    3\n"
     ]
    }
   ],
   "source": [
    "#reverse_controllability_cell_line['reversibility_score'] = reverse_controllability_cell_line['C0']+reverse_controllability_cell_line['C1']+reverse_controllability_cell_line['C2'].map(lambda x: 2*x)+reverse_controllability_cell_line['C3'].map(lambda x: 3*x)\n",
    "reverse_controllability_cell_line['reversibility_score'] = reverse_controllability_cell_line['C0'].map(lambda x: -1*x)+reverse_controllability_cell_line['C1'].map(lambda x: -2*x)+reverse_controllability_cell_line['C2'].map(lambda x: 2*x)+reverse_controllability_cell_line['C3'].map(lambda x: 3*x)\n",
    "\n",
    "print(reverse_controllability_cell_line.head())\n",
    "# reverse_controllability_cell_line.to_csv('../bladder_cell_line/bladder_reverse_controllability_cell_line.csv')"
   ]
  },
  {
   "cell_type": "code",
   "execution_count": 24,
   "metadata": {
    "pycharm": {
     "name": "#%%\n"
    }
   },
   "outputs": [],
   "source": [
    "tmp_ic50 = pd.merge(reverse_controllability_cell_line, pivot_pharmaco_profile_ic50, left_index=True, right_index=True, how='left')\n",
    "tmp_auc = pd.merge(reverse_controllability_cell_line, pivot_pharmaco_profile_auc, left_index=True, right_index=True, how='left')\n",
    "tmp_zscore = pd.merge(reverse_controllability_cell_line, pivot_pharmaco_profile_zscore, left_index=True, right_index=True, how='left')\n",
    "# print(tmp.head())"
   ]
  },
  {
   "cell_type": "code",
   "execution_count": 25,
   "metadata": {
    "pycharm": {
     "name": "#%%\n"
    }
   },
   "outputs": [],
   "source": [
    "pearson_ic50 = tmp_ic50.corr()\n",
    "pearson_ic50.drop(['C0', 'C1', 'C2', 'C3', 'reversibility_score'], inplace=True)\n",
    "pearson_ic50 = pearson_ic50.filter(items=['C0', 'C1', 'C2', 'C3', 'reversibility_score'])\n",
    "kendall_ic50 = tmp_ic50.corr(method='kendall')\n",
    "kendall_ic50.drop(['C0', 'C1', 'C2', 'C3', 'reversibility_score'], inplace=True)\n",
    "kendall_ic50 = kendall_ic50.filter(items=['C0', 'C1', 'C2', 'C3', 'reversibility_score'])\n",
    "spearman_ic50 = tmp_ic50.corr(method='spearman')\n",
    "spearman_ic50.drop(['C0', 'C1', 'C2', 'C3', 'reversibility_score'], inplace=True)\n",
    "spearman_ic50 = spearman_ic50.filter(items=['C0', 'C1', 'C2', 'C3', 'reversibility_score'])\n",
    "pearson_auc = tmp_auc.corr()\n",
    "pearson_auc.drop(['C0', 'C1', 'C2', 'C3', 'reversibility_score'], inplace=True)\n",
    "pearson_auc = pearson_auc.filter(items=['C0', 'C1', 'C2', 'C3', 'reversibility_score'])\n",
    "kendall_auc = tmp_auc.corr(method='kendall')\n",
    "kendall_auc.drop(['C0', 'C1', 'C2', 'C3', 'reversibility_score'], inplace=True)\n",
    "kendall_auc = kendall_auc.filter(items=['C0', 'C1', 'C2', 'C3', 'reversibility_score'])\n",
    "spearman_auc = tmp_auc.corr(method='spearman')\n",
    "spearman_auc.drop(['C0', 'C1', 'C2', 'C3', 'reversibility_score'], inplace=True)\n",
    "spearman_auc = spearman_auc.filter(items=['C0', 'C1', 'C2', 'C3', 'reversibility_score'])\n",
    "pearson_zscore = tmp_zscore.corr()\n",
    "pearson_zscore.drop(['C0', 'C1', 'C2', 'C3', 'reversibility_score'], inplace=True)\n",
    "pearson_zscore = pearson_zscore.filter(items=['C0', 'C1', 'C2', 'C3', 'reversibility_score'])\n",
    "kendall_zscore = tmp_zscore.corr(method='kendall')\n",
    "kendall_zscore.drop(['C0', 'C1', 'C2', 'C3', 'reversibility_score'], inplace=True)\n",
    "kendall_zscore = kendall_zscore.filter(items=['C0', 'C1', 'C2', 'C3', 'reversibility_score'])\n",
    "spearman_zscore = tmp_zscore.corr(method='spearman')\n",
    "spearman_zscore.drop(['C0', 'C1', 'C2', 'C3', 'reversibility_score'], inplace=True)\n",
    "spearman_zscore = spearman_zscore.filter(items=['C0', 'C1', 'C2', 'C3', 'reversibility_score'])\n",
    "#print(pearson.head())"
   ]
  },
  {
   "cell_type": "code",
   "execution_count": 26,
   "metadata": {
    "pycharm": {
     "name": "#%%\n"
    }
   },
   "outputs": [],
   "source": [
    "#pearson = pd.merge(pearson, drug_info,left_index=True, right_index=True, how='left')\n",
    "#kendall = pd.merge(kendall, drug_info,left_index=True, right_index=True, how='left')\n",
    "#spearman = pd.merge(spearman, drug_info,left_index=True, right_index=True, how='left')\n",
    "\n",
    "#pearson.to_csv('../bladder_cell_line/blca_corr_auc_pearson.csv')\n",
    "#kendall.to_csv('../bladder_cell_line/blca_corr_auc_kendall.csv')\n",
    "#spearman.to_csv('../bladder_cell_line/blca_corr_auc_spearman.csv')"
   ]
  },
  {
   "cell_type": "code",
   "execution_count": 27,
   "metadata": {
    "pycharm": {
     "name": "#%%\n"
    }
   },
   "outputs": [
    {
     "name": "stderr",
     "output_type": "stream",
     "text": [
      "/home/jijoo/theor/lib/python3.5/site-packages/scipy/stats/stats.py:3038: RuntimeWarning: invalid value encountered in double_scalars\n",
      "  r = r_num / r_den\n",
      "/home/jijoo/theor/lib/python3.5/site-packages/numpy/lib/function_base.py:2534: RuntimeWarning: invalid value encountered in true_divide\n",
      "  c /= stddev[:, None]\n",
      "/home/jijoo/theor/lib/python3.5/site-packages/numpy/lib/function_base.py:2535: RuntimeWarning: invalid value encountered in true_divide\n",
      "  c /= stddev[None, :]\n",
      "/home/jijoo/theor/lib/python3.5/site-packages/scipy/stats/_distn_infrastructure.py:877: RuntimeWarning: invalid value encountered in greater\n",
      "  return (self.a < x) & (x < self.b)\n",
      "/home/jijoo/theor/lib/python3.5/site-packages/scipy/stats/_distn_infrastructure.py:877: RuntimeWarning: invalid value encountered in less\n",
      "  return (self.a < x) & (x < self.b)\n",
      "/home/jijoo/theor/lib/python3.5/site-packages/scipy/stats/_distn_infrastructure.py:1831: RuntimeWarning: invalid value encountered in less_equal\n",
      "  cond2 = cond0 & (x <= self.a)\n"
     ]
    }
   ],
   "source": [
    "# import scipy\n",
    "from scipy.stats import kendalltau, pearsonr, spearmanr\n",
    "def kendall_pval(x,y):\n",
    "    return kendalltau(x,y)[1]\n",
    "\n",
    "def pearsonr_pval(x,y):\n",
    "    return pearsonr(x,y)[1]\n",
    "\n",
    "def spearmanr_pval(x,y):\n",
    "    return spearmanr(x,y)[1]\n",
    "\n",
    "pearson_p_ic50 = tmp_ic50.corr(method=pearsonr_pval)\n",
    "pearson_p_ic50.drop(['C0', 'C1', 'C2', 'C3', 'reversibility_score'], inplace=True)\n",
    "pearson_p_ic50 = pearson_p_ic50.filter(items=['C0', 'C1', 'C2', 'C3', 'reversibility_score'])\n",
    "kendall_p_ic50 = tmp_ic50.corr(method=kendall_pval)\n",
    "kendall_p_ic50.drop(['C0', 'C1', 'C2', 'C3', 'reversibility_score'], inplace=True)\n",
    "kendall_p_ic50 = kendall_p_ic50.filter(items=['C0', 'C1', 'C2', 'C3', 'reversibility_score'])\n",
    "spearman_p_ic50 = tmp_ic50.corr(method=spearmanr_pval)\n",
    "spearman_p_ic50.drop(['C0', 'C1', 'C2', 'C3', 'reversibility_score'], inplace=True)\n",
    "spearman_p_ic50 = spearman_p_ic50.filter(items=['C0', 'C1', 'C2', 'C3', 'reversibility_score'])\n",
    "# print(pearson.head())\n",
    "\n",
    "pearson_p_auc = tmp_auc.corr(method=pearsonr_pval)\n",
    "pearson_p_auc.drop(['C0', 'C1', 'C2', 'C3', 'reversibility_score'], inplace=True)\n",
    "pearson_p_auc = pearson_p_auc.filter(items=['C0', 'C1', 'C2', 'C3', 'reversibility_score'])\n",
    "kendall_p_auc = tmp_auc.corr(method=kendall_pval)\n",
    "kendall_p_auc.drop(['C0', 'C1', 'C2', 'C3', 'reversibility_score'], inplace=True)\n",
    "kendall_p_auc = kendall_p_auc.filter(items=['C0', 'C1', 'C2', 'C3', 'reversibility_score'])\n",
    "spearman_p_auc = tmp_auc.corr(method=spearmanr_pval)\n",
    "spearman_p_auc.drop(['C0', 'C1', 'C2', 'C3', 'reversibility_score'], inplace=True)\n",
    "spearman_p_auc = spearman_p_auc.filter(items=['C0', 'C1', 'C2', 'C3', 'reversibility_score'])\n",
    "# print(pearson.head())\n",
    "\n",
    "pearson_p_zscore = tmp_zscore.corr(method=pearsonr_pval)\n",
    "pearson_p_zscore.drop(['C0', 'C1', 'C2', 'C3', 'reversibility_score'], inplace=True)\n",
    "pearson_p_zscore = pearson_p_zscore.filter(items=['C0', 'C1', 'C2', 'C3', 'reversibility_score'])\n",
    "kendall_p_zscore = tmp_zscore.corr(method=kendall_pval)\n",
    "kendall_p_zscore.drop(['C0', 'C1', 'C2', 'C3', 'reversibility_score'], inplace=True)\n",
    "kendall_p_zscore = kendall_p_zscore.filter(items=['C0', 'C1', 'C2', 'C3', 'reversibility_score'])\n",
    "spearman_p_zscore = tmp_zscore.corr(method=spearmanr_pval)\n",
    "spearman_p_zscore.drop(['C0', 'C1', 'C2', 'C3', 'reversibility_score'], inplace=True)\n",
    "spearman_p_zscore = spearman_p_zscore.filter(items=['C0', 'C1', 'C2', 'C3', 'reversibility_score'])\n",
    "# print(pearson.head())\n",
    "\n",
    "pearson_ic50 = pd.merge(pearson_ic50, pearson_p_ic50,left_index=True, right_index=True, how='left', suffixes=('_corr', '_pval'))\n",
    "kendall_ic50 = pd.merge(kendall_ic50, kendall_p_ic50,left_index=True, right_index=True, how='left', suffixes=('_corr', '_pval'))\n",
    "spearman_ic50 = pd.merge(spearman_ic50, spearman_p_ic50,left_index=True, right_index=True, how='left', suffixes=('_corr', '_pval'))\n",
    "\n",
    "pearson_ic50 = pd.merge(pearson_ic50, drug_info,left_index=True, right_index=True, how='left')\n",
    "kendall_ic50 = pd.merge(kendall_ic50, drug_info,left_index=True, right_index=True, how='left')\n",
    "spearman_ic50 = pd.merge(spearman_ic50, drug_info,left_index=True, right_index=True, how='left')\n",
    "\n",
    "pearson_auc = pd.merge(pearson_auc, pearson_p_auc,left_index=True, right_index=True, how='left', suffixes=('_corr', '_pval'))\n",
    "kendall_auc = pd.merge(kendall_auc, kendall_p_auc,left_index=True, right_index=True, how='left', suffixes=('_corr', '_pval'))\n",
    "spearman_auc = pd.merge(spearman_auc, spearman_p_auc,left_index=True, right_index=True, how='left', suffixes=('_corr', '_pval'))\n",
    "\n",
    "pearson_auc = pd.merge(pearson_auc, drug_info,left_index=True, right_index=True, how='left')\n",
    "kendall_auc = pd.merge(kendall_auc, drug_info,left_index=True, right_index=True, how='left')\n",
    "spearman_auc = pd.merge(spearman_auc, drug_info,left_index=True, right_index=True, how='left')\n",
    "\n",
    "pearson_zscore = pd.merge(pearson_zscore, pearson_p_zscore,left_index=True, right_index=True, how='left', suffixes=('_corr', '_pval'))\n",
    "kendall_zscore = pd.merge(kendall_zscore, kendall_p_zscore,left_index=True, right_index=True, how='left', suffixes=('_corr', '_pval'))\n",
    "spearman_zscore = pd.merge(spearman_zscore, spearman_p_zscore,left_index=True, right_index=True, how='left', suffixes=('_corr', '_pval'))\n",
    "\n",
    "pearson_zscore = pd.merge(pearson_zscore, drug_info,left_index=True, right_index=True, how='left')\n",
    "kendall_zscore = pd.merge(kendall_zscore, drug_info,left_index=True, right_index=True, how='left')\n",
    "spearman_zscore = pd.merge(spearman_zscore, drug_info,left_index=True, right_index=True, how='left')\n",
    "\n",
    "\n",
    "pearson_ic50.to_csv('../bladder_cell_line/blca_corr_pval_ic50_pearson_2.csv')\n",
    "kendall_ic50.to_csv('../bladder_cell_line/blca_corr_pval_ic50_kendall_2.csv')\n",
    "spearman_ic50.to_csv('../bladder_cell_line/blca_corr_pval_ic50_spearman_2.csv')\n",
    "pearson_auc.to_csv('../bladder_cell_line/blca_corr_pval_auc_pearson_2.csv')\n",
    "kendall_auc.to_csv('../bladder_cell_line/blca_corr_pval_auc_kendall_2.csv')\n",
    "spearman_auc.to_csv('../bladder_cell_line/blca_corr_pval_auc_spearman_2.csv')\n",
    "pearson_zscore.to_csv('../bladder_cell_line/blca_corr_pval_zscore_pearson_2.csv')\n",
    "kendall_zscore.to_csv('../bladder_cell_line/blca_corr_pval_zscore_kendall_2.csv')\n",
    "spearman_zscore.to_csv('../bladder_cell_line/blca_corr_pval_zscore_spearman_2.csv')"
   ]
  },
  {
   "cell_type": "code",
   "execution_count": 28,
   "metadata": {
    "pycharm": {
     "name": "#%%\n"
    }
   },
   "outputs": [
    {
     "name": "stdout",
     "output_type": "stream",
     "text": [
      "<class 'pandas.core.frame.DataFrame'>\n",
      "Index: 18 entries, HT-1197 to RT-112\n",
      "Columns: 186 entries, C0 to 2170\n",
      "dtypes: float64(181), int64(5)\n",
      "memory usage: 26.9+ KB\n",
      "None\n",
      "         C0  C1  C2  C3  reversibility_score      1003      1004      1005  \\\n",
      "HT-1197   0   1   0   0                   -2 -0.916833 -1.593394  3.709144   \n",
      "J82       0   0   0   0                    0 -2.477850  2.111798  3.236831   \n",
      "DSH1      0   0   0   0                    0 -3.453712 -2.958244  2.608362   \n",
      "UM-UC-3   0   0   0   1                    3 -3.862462 -4.150085  2.695287   \n",
      "SW1710    0   0   0   1                    3 -0.540361 -4.812917  5.458492   \n",
      "\n",
      "             1006      1007  ...      2046      2047      2048      2096  \\\n",
      "HT-1197  4.526656 -2.636419  ...  5.154049  4.066135  0.128134  5.059751   \n",
      "J82      4.779480 -0.518284  ...  4.141527  5.087360  0.249474  4.464233   \n",
      "DSH1     1.027337 -2.931242  ...  2.817070 -0.461634 -3.187222  1.346344   \n",
      "UM-UC-3  2.290761 -4.252185  ...  4.201207  3.793745 -3.154576  3.674275   \n",
      "SW1710   2.724042 -5.100386  ...  4.344379  3.325501 -1.462805  3.899083   \n",
      "\n",
      "             2106      2107      2109      2110      2111      2170  \n",
      "HT-1197  2.529125  3.759528  2.226337  4.589773  4.360197  4.546293  \n",
      "J82      4.415794  5.934818  4.617494  6.331458  6.649155  2.937196  \n",
      "DSH1     1.760464  5.179798  2.141469  5.089507  3.314748  2.985766  \n",
      "UM-UC-3  3.915128  4.326738  2.868438  4.619652  3.889719  3.891315  \n",
      "SW1710   4.214482  5.699657  2.233997  4.558005  5.672475  2.109313  \n",
      "\n",
      "[5 rows x 186 columns]\n"
     ]
    }
   ],
   "source": [
    "# print(tmp.columns)\n",
    "print(tmp_ic50.info())\n",
    "col_names = [str(x) for x in tmp_ic50.columns]\n",
    "tmp_ic50.columns = col_names\n",
    "print(tmp_ic50.head())"
   ]
  },
  {
   "cell_type": "code",
   "execution_count": 29,
   "metadata": {
    "pycharm": {
     "name": "#%%\n"
    }
   },
   "outputs": [
    {
     "data": {
      "text/plain": [
       "<seaborn.axisgrid.FacetGrid at 0x7f57112344a8>"
      ]
     },
     "execution_count": 29,
     "metadata": {},
     "output_type": "execute_result"
    },
    {
     "data": {
      "image/png": "[encoded data removed]",
      "text/plain": [
       "<Figure size 360x360 with 1 Axes>"
      ]
     },
     "metadata": {
      "needs_background": "light"
     },
     "output_type": "display_data"
    },
    {
     "data": {
      "image/png": "[encoded data removed]",
      "text/plain": [
       "<Figure size 360x360 with 1 Axes>"
      ]
     },
     "metadata": {
      "needs_background": "light"
     },
     "output_type": "display_data"
    },
    {
     "data": {
      "image/png": "[encoded data removed]",
      "text/plain": [
       "<Figure size 360x360 with 1 Axes>"
      ]
     },
     "metadata": {
      "needs_background": "light"
     },
     "output_type": "display_data"
    },
    {
     "data": {
      "image/png": "[encoded data removed]",
      "text/plain": [
       "<Figure size 360x360 with 1 Axes>"
      ]
     },
     "metadata": {
      "needs_background": "light"
     },
     "output_type": "display_data"
    }
   ],
   "source": [
    "import seaborn as sns\n",
    "import matplotlib\n",
    "import matplotlib.pyplot as plt\n",
    "%matplotlib inline\n",
    "sns.lmplot(x='reversibility_score', y='1936', data=tmp_ic50)\n",
    "sns.lmplot(x='reversibility_score', y='1933', data=tmp_ic50)\n",
    "sns.lmplot(x='reversibility_score', y='1047', data=tmp_ic50)\n",
    "sns.lmplot(x='reversibility_score', y='1073', data=tmp_ic50)\n"
   ]
  },
  {
   "cell_type": "code",
   "execution_count": null,
   "metadata": {},
   "outputs": [],
   "source": [
    "print(pivot_pharmaco_profile_ic50.head())\n",
    "print(reverse_controllability_cell_line.head())"
   ]
  },
  {
   "cell_type": "code",
   "execution_count": null,
   "metadata": {},
   "outputs": [],
   "source": [
    "interesting_drug_list = [1036, 1084, 1373, 1441, 1512, 1614, 1626, 1786, 1838, 1925, 1936, 1924, 1996]\n",
    "cell_ic50 = pd.merge(reverse_controllability_cell_line, pivot_pharmaco_profile_ic50.loc[:, interesting_drug_list], left_index=True, right_index=True)\n",
    "cell_auc = pd.merge(reverse_controllability_cell_line, pivot_pharmaco_profile_auc.loc[:, interesting_drug_list], left_index=True, right_index=True)\n",
    "cell_zscore = pd.merge(reverse_controllability_cell_line, pivot_pharmaco_profile_zscore.loc[:, interesting_drug_list], left_index=True, right_index=True)\n",
    "\n",
    "cell_ic50.to_csv('../bladder_cell_line/blca_ic50.csv')\n",
    "cell_auc.to_csv('../bladder_cell_line/blca_auc.csv')\n",
    "cell_zscore.to_csv('../bladder_cell_line/blca_zscore.csv')\n",
    "\n",
    "#print(cell_ic50.head())"
   ]
  }
 ],
 "metadata": {
  "kernelspec": {
   "display_name": "Python 3",
   "language": "python",
   "name": "python3"
  },
  "language_info": {
   "codemirror_mode": {
    "name": "ipython",
    "version": 3
   },
   "file_extension": ".py",
   "mimetype": "text/x-python",
   "name": "python",
   "nbconvert_exporter": "python",
   "pygments_lexer": "ipython3",
   "version": "3.8.8"
  }
 },
 "nbformat": 4,
 "nbformat_minor": 1
}
