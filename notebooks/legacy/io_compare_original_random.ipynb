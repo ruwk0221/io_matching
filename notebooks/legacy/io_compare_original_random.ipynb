{
 "cells": [
  {
   "cell_type": "code",
   "execution_count": 1,
   "id": "boolean-language",
   "metadata": {},
   "outputs": [],
   "source": [
    "import sys\n",
    "import os\n",
    "sys.path.append(os.path.dirname(os.path.abspath(os.path.dirname('__file__'))))\n",
    "import jReversion as jR\n",
    "import pandas as pd\n",
    "import numpy as np\n",
    "import seaborn as sns\n",
    "import matplotlib\n",
    "import matplotlib.pyplot as plt\n",
    "from sklearn.metrics import accuracy_score, recall_score, precision_score, f1_score, balanced_accuracy_score\n",
    "import networkx as nx\n",
    "from statannot import add_stat_annotation\n",
    "import scipy as sp"
   ]
  },
  {
   "cell_type": "code",
   "execution_count": 3,
   "id": "facial-horizon",
   "metadata": {},
   "outputs": [],
   "source": [
    "networkModel =['bortezomib',\n",
    "                # 'igvh',\n",
    "                'apoptosis',\n",
    "                # 'aurora',\n",
    "                'bt474_long',\n",
    "                'bt474_short',\n",
    "                # 'cd4t',\n",
    "                'colitis',\n",
    "                'death',\n",
    "                # 'egfr',\n",
    "                # 'erbb',\n",
    "                # 'fa_brca',\n",
    "                # 'fa_check',\n",
    "                'hcc1954_long',\n",
    "                'hcc1954_short',\n",
    "                'hgf',\n",
    "                'mammalian',\n",
    "                # 'mammalian_2006',\n",
    "                'mapk',\n",
    "                'oxidative',\n",
    "                # 'pro_inflammatory',\n",
    "                'fibroblasts',\n",
    "                'skbr3_long',\n",
    "                'skbr3_short',\n",
    "                'tlgl_2008',\n",
    "                'tlgl_2011',\n",
    "                # 'tlgl_2011_reduced',\n",
    "                # 'prostate',\n",
    "                'migration']"
   ]
  },
  {
   "cell_type": "code",
   "execution_count": 14,
   "id": "israeli-mathematics",
   "metadata": {},
   "outputs": [],
   "source": [
    "io_dict = dict()\n",
    "for Model in networkModel:\n",
    "    Prefix, Suffix = 'n', 'n'\n",
    "    TEMP = jR.cellcollective(Model, Prefix, Suffix, directory='../')\n",
    "\n",
    "    BooleanRuleFileName = TEMP['BooleanRule_filename']\n",
    "    network_name = TEMP['network_name']\n",
    "\n",
    "    NumInputs = TEMP['num_inputs']\n",
    "    NumInputConditions = TEMP['num_input_conditions']\n",
    "\n",
    "    InputConditions = TEMP['input_conditions']\n",
    "\n",
    "    OutputNodes = TEMP['output_nodes']\n",
    "    InputNodes = TEMP['input_nodes']\n",
    "    \n",
    "    Mapping = TEMP['mapping']\n",
    "    InverseMapping = TEMP['inverse_mapping']\n",
    "    GRead = TEMP['Gread']\n",
    "    ReadNodes = TEMP['read_nodes']\n",
    "    with open('../data/' + network_name + '_IO.txt', 'r') as f:\n",
    "        temp = f.readline()\n",
    "        io = eval(temp)\n",
    "        empty_io = [x for x in io if len(x) == 0]\n",
    "        len_io = [len(x) for x in io]\n",
    "        io_dict[network_name] = {'num_input_conditions': NumInputConditions,\n",
    "                                'num_output_nodes': len(OutputNodes),\n",
    "                                'num_empty_io': len(empty_io),\n",
    "                                'sum_io': sum(len_io)}\n",
    "        \n",
    "cc_df = pd.DataFrame.from_dict(io_dict, orient='index')\n",
    "cc_df['empty_io_ratio'] = cc_df['num_empty_io'] / cc_df['num_input_conditions']\n",
    "cc_df['deterministic_io_ratio'] = cc_df['sum_io'] / (cc_df['num_input_conditions'] * cc_df['num_output_nodes'])\n",
    "cc_df['network'] = 'CellCollective'"
   ]
  },
  {
   "cell_type": "code",
   "execution_count": 15,
   "id": "hispanic-retrieval",
   "metadata": {},
   "outputs": [],
   "source": [
    "sfc_df = pd.read_csv('../data/random_networks_kout_canalizing_211014.csv')\n",
    "sfc_df = sfc_df.drop(columns=['Unnamed: 0', 'network_idx'])\n",
    "sfc_df = sfc_df.reset_index()\n",
    "sfc_df['network'] = 'SF Canalizing'"
   ]
  },
  {
   "cell_type": "code",
   "execution_count": 16,
   "id": "broken-alcohol",
   "metadata": {},
   "outputs": [],
   "source": [
    "sfk_df = pd.read_csv('../data/random_networks_kout_kauffman_211014.csv')\n",
    "sfk_df = sfk_df.drop(columns=['Unnamed: 0', 'network_idx'])\n",
    "sfk_df = sfk_df.reset_index()\n",
    "sfk_df['network'] = 'SF Kauffman'"
   ]
  },
  {
   "cell_type": "code",
   "execution_count": 20,
   "id": "cooperative-prospect",
   "metadata": {},
   "outputs": [],
   "source": [
    "# io_df = pd.DataFrame(columns=['network', 'empty_io_ratio', 'deterministic_io_ratio'])\n",
    "io_df = pd.concat([cc_df[['network', 'empty_io_ratio', 'deterministic_io_ratio']], sfc_df[['network', 'empty_io_ratio', 'deterministic_io_ratio']], sfk_df[['network', 'empty_io_ratio', 'deterministic_io_ratio']]], axis=0)"
   ]
  },
  {
   "cell_type": "code",
   "execution_count": 22,
   "id": "earlier-swimming",
   "metadata": {},
   "outputs": [
    {
     "data": {
      "text/plain": [
       "<AxesSubplot:xlabel='network', ylabel='empty_io_ratio'>"
      ]
     },
     "execution_count": 22,
     "metadata": {},
     "output_type": "execute_result"
    },
    {
     "data": {
      "image/png": "[encoded data removed]",
      "text/plain": [
       "<Figure size 432x288 with 1 Axes>"
      ]
     },
     "metadata": {
      "needs_background": "light"
     },
     "output_type": "display_data"
    }
   ],
   "source": [
    "sns.boxplot(data=io_df, x='network', y='empty_io_ratio')"
   ]
  },
  {
   "cell_type": "code",
   "execution_count": 32,
   "id": "exclusive-humidity",
   "metadata": {},
   "outputs": [
    {
     "name": "stdout",
     "output_type": "stream",
     "text": [
      "p-value annotation legend:\n",
      "ns: 5.00e-02 < p <= 1.00e+00\n",
      "*: 1.00e-02 < p <= 5.00e-02\n",
      "**: 1.00e-03 < p <= 1.00e-02\n",
      "***: 1.00e-04 < p <= 1.00e-03\n",
      "****: p <= 1.00e-04\n",
      "\n",
      "CellCollective v.s. SF Canalizing: Mann-Whitney-Wilcoxon test two-sided with Bonferroni correction, P_val=1.000e+00 U_stat=4.820e+02\n",
      "CellCollective v.s. SF Kauffman: Mann-Whitney-Wilcoxon test two-sided with Bonferroni correction, P_val=3.126e-02 U_stat=6.025e+02\n"
     ]
    },
    {
     "data": {
      "text/plain": [
       "(<AxesSubplot:xlabel='network', ylabel='deterministic_io_ratio'>,\n",
       " [<statannot.StatResult.StatResult at 0x7fb294edbe80>,\n",
       "  <statannot.StatResult.StatResult at 0x7fb294eb2a00>])"
      ]
     },
     "execution_count": 32,
     "metadata": {},
     "output_type": "execute_result"
    },
    {
     "data": {
      "image/png": "[encoded data removed]",
      "text/plain": [
       "<Figure size 720x432 with 1 Axes>"
      ]
     },
     "metadata": {
      "needs_background": "light"
     },
     "output_type": "display_data"
    }
   ],
   "source": [
    "plt.figure(figsize=(10, 6))\n",
    "ax = sns.boxplot(data=io_df, x='network', y='deterministic_io_ratio')\n",
    "add_stat_annotation(ax=ax, data=io_df, x='network', y='deterministic_io_ratio',\n",
    "                    box_pairs=[('CellCollective', 'SF Canalizing'), ('CellCollective', 'SF Kauffman')],\n",
    "                    test='Mann-Whitney', text_format='star', loc='inside', verbose=2)"
   ]
  }
 ],
 "metadata": {
  "kernelspec": {
   "display_name": "Python 3",
   "language": "python",
   "name": "python3"
  },
  "language_info": {
   "codemirror_mode": {
    "name": "ipython",
    "version": 3
   },
   "file_extension": ".py",
   "mimetype": "text/x-python",
   "name": "python",
   "nbconvert_exporter": "python",
   "pygments_lexer": "ipython3",
   "version": "3.8.8"
  }
 },
 "nbformat": 4,
 "nbformat_minor": 5
}
