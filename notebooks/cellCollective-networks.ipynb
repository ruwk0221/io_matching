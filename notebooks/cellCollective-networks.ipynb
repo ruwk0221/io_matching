{
 "cells": [
  {
   "cell_type": "code",
   "execution_count": 1,
   "id": "modular-wrestling",
   "metadata": {},
   "outputs": [],
   "source": [
    "import sys\n",
    "import os\n",
    "sys.path.append(os.path.dirname(os.path.abspath(os.path.dirname('__file__'))))\n",
    "import jReversion as jR\n",
    "import pandas as pd\n",
    "import numpy as np\n",
    "import seaborn as sns\n",
    "import matplotlib\n",
    "import matplotlib.pyplot as plt\n",
    "from sklearn.metrics import accuracy_score, recall_score, precision_score, f1_score, balanced_accuracy_score\n",
    "import networkx as nx\n",
    "from statannot import add_stat_annotation"
   ]
  },
  {
   "cell_type": "code",
   "execution_count": 2,
   "id": "operational-asian",
   "metadata": {},
   "outputs": [],
   "source": [
    "networkModel =['bortezomib',\n",
    "                # 'igvh',\n",
    "                'apoptosis',\n",
    "                # 'aurora',\n",
    "                'bt474_long',\n",
    "                'bt474_short',\n",
    "                # 'cd4t',\n",
    "                'colitis',\n",
    "                'death',\n",
    "                # 'egfr',\n",
    "                # 'erbb',\n",
    "                # 'fa_brca',\n",
    "                # 'fa_check',\n",
    "                'hcc1954_long',\n",
    "                'hcc1954_short',\n",
    "                'hgf',\n",
    "                'mammalian',\n",
    "                # 'mammalian_2006',\n",
    "                'mapk',\n",
    "                'oxidative',\n",
    "                # 'pro_inflammatory',\n",
    "                'fibroblasts',\n",
    "                'skbr3_long',\n",
    "                'skbr3_short',\n",
    "                'tlgl_2008',\n",
    "                'tlgl_2011',\n",
    "                # 'tlgl_2011_reduced',\n",
    "                # 'prostate',\n",
    "                'migration']"
   ]
  },
  {
   "cell_type": "code",
   "execution_count": 12,
   "id": "grave-vegetable",
   "metadata": {},
   "outputs": [],
   "source": [
    "for Model in networkModel:\n",
    "    Prefix, Suffix = 'n', 'n'\n",
    "    TEMP = jR.cellcollective(Model, Prefix, Suffix, directory='../')\n",
    "\n",
    "    BooleanRuleFileName = TEMP['BooleanRule_filename']\n",
    "    network_name = TEMP['network_name']\n",
    "\n",
    "    NumInputs = TEMP['num_inputs']\n",
    "    NumInputConditions = TEMP['num_input_conditions']\n",
    "\n",
    "    InputConditions = TEMP['input_conditions']\n",
    "\n",
    "    OutputNodes = TEMP['output_nodes']\n",
    "    InputNodes = TEMP['input_nodes']\n",
    "    \n",
    "    Mapping = TEMP['mapping']\n",
    "    InverseMapping = TEMP['inverse_mapping']\n",
    "    GRead = TEMP['Gread']\n",
    "    ReadNodes = TEMP['read_nodes']\n",
    "    \n",
    "#     CutOffRange = [3, 4, 5, 6, 7]\n",
    "#     GRead.remove_edges_from(list(nx.selfloop_edges(GRead)))\n",
    "\n",
    "    table_original_network = pd.read_csv('../data/' + network_name + '_table_for_original_network.tsv', sep='\\t').sort_values(by='node').set_index('node')\n",
    "    \n",
    "    GLabel = nx.DiGraph()\n",
    "    GLabel.add_edges_from(GRead.edges())\n",
    "    GLabel = nx.relabel_nodes(GLabel, ReadNodes)\n",
    "    \n",
    "    nx.set_node_attributes(G=GLabel, name='class', values=table_original_network['Class'].to_dict())\n",
    "    path = '../networks/' + network_name + '_topology.gml'\n",
    "    with open(path, 'wb') as f:\n",
    "        nx.write_gml(G=GLabel, path=f)\n",
    "#     indegree_srs = pd.Series(nx.in_degree_centrality(GLabel))\n",
    "# #     indegree_srs = pd.Series(dict(GLabel.in_degree))\n",
    "#     table_original_network['indegree'] = indegree_srs\n",
    "#     outdegree_srs = pd.Series(nx.out_degree_centrality(GLabel))\n",
    "# #     outdegree_srs = pd.Series(dict(GLabel.out_degree))\n",
    "#     table_original_network['outdegree'] = outdegree_srs\n",
    "#     betweenness_srs = pd.Series(nx.betweenness_centrality(GLabel))\n",
    "#     table_original_network['betweenness'] = betweenness_srs\n",
    "#     closeness_srs = pd.Series(nx.closeness_centrality(GLabel))\n",
    "#     table_original_network['closeness'] = closeness_srs\n",
    "#     katz_srs = pd.Series(nx.katz_centrality(GLabel))\n",
    "#     table_original_network['katz'] = katz_srs\n",
    "#     table_original_network['network'] = network_name\n",
    "#     table_original_network.reset_index(inplace=True)\n",
    "#     integrated_data = pd.concat([integrated_data, table_original_network], ignore_index=True)\n",
    "    \n",
    "    "
   ]
  },
  {
   "cell_type": "code",
   "execution_count": 14,
   "id": "christian-contemporary",
   "metadata": {},
   "outputs": [
    {
     "data": {
      "text/plain": [
       "['CellCycleArrest',\n",
       " 'Apoptosis',\n",
       " 'Metastasis',\n",
       " '~CellCycleArrest',\n",
       " '~Apoptosis',\n",
       " '~Metastasis']"
      ]
     },
     "execution_count": 14,
     "metadata": {},
     "output_type": "execute_result"
    }
   ],
   "source": [
    "OutputNodes"
   ]
  },
  {
   "cell_type": "code",
   "execution_count": 9,
   "id": "fuzzy-bridal",
   "metadata": {},
   "outputs": [
    {
     "data": {
      "text/plain": [
       "dict_items([('AKT', 'C0'), ('ATM', 'C0'), ('BAD', 'C3'), ('BAX', 'C0'), ('BCL2', 'C0'), ('BID', 'C0'), ('Bclxl', 'C3'), ('CDK2', 'C1'), ('CDK4', 'C0'), ('CDK6', 'C1'), ('CIAP', 'C0'), ('CYCD', 'C1'), ('CYCE', 'C0'), ('Cas3', 'C0'), ('Cas8', 'C1'), ('Cas9', 'C0'), ('Cl_PARP', 'C3'), ('Cytc', 'C0'), ('DNAPK', 'C0'), ('DNAdam', 'C0'), ('ERK', 'C0'), ('FLIP', 'C0'), ('Fas', 'C3'), ('FasL', 'C0'), ('IKK', 'C1'), ('IL6', 'C0'), ('JAK1', 'C0'), ('JAK2', 'C2'), ('JNK', 'C1'), ('MAPK', 'C0'), ('MDM', 'C0'), ('MEK1', 'C1'), ('MEKK', 'C3'), ('MEKK2', 'C0'), ('MITO', 'C3'), ('MKK4', 'C0'), ('MYC', 'C0'), ('NIK', 'C0'), ('PIP3', 'C0'), ('PTEN', 'C2'), ('Prot', 'C0'), ('RAC', 'C0'), ('RAF', 'C1'), ('RAS', 'C1'), ('RIP', 'C1'), ('STAT3', 'C0'), ('STRESS', 'C0'), ('Smac', 'C0'), ('TRAF3', 'C1'), ('XIAP', 'C3'), ('cJun', 'C0'), ('gp130', 'C0'), ('p21', 'C0'), ('p27', 'C1'), ('p53', 'C3'), ('pIKB', 'C0'), ('pNFKB', 'C0'), ('pRB', 'C0'), ('pSTAT3', 'C0')])"
      ]
     },
     "execution_count": 9,
     "metadata": {},
     "output_type": "execute_result"
    }
   ],
   "source": [
    "table_original_network['Class'].to_dict().items()"
   ]
  }
 ],
 "metadata": {
  "kernelspec": {
   "display_name": "Python 3",
   "language": "python",
   "name": "python3"
  },
  "language_info": {
   "codemirror_mode": {
    "name": "ipython",
    "version": 3
   },
   "file_extension": ".py",
   "mimetype": "text/x-python",
   "name": "python",
   "nbconvert_exporter": "python",
   "pygments_lexer": "ipython3",
   "version": "3.8.8"
  }
 },
 "nbformat": 4,
 "nbformat_minor": 5
}
